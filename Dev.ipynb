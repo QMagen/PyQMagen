{
 "cells": [
  {
   "cell_type": "code",
   "execution_count": 1,
   "metadata": {},
   "outputs": [],
   "source": [
    "import magen.solver as solver\n",
    "from magen.models import chain\n",
    "from magen.optimizer import BayesianOptimizer\n",
    "# from bayes_opt import BayesianOptimization\n",
    "import numpy as np\n",
    "import matplotlib.pyplot as plt\n",
    "from magen.aux_func import load_experiment_data"
   ]
  },
  {
   "cell_type": "code",
   "execution_count": 3,
   "metadata": {},
   "outputs": [
    {
     "ename": "ModuleNotFoundError",
     "evalue": "No module named 'ma'",
     "output_type": "error",
     "traceback": [
      "\u001b[0;31m---------------------------------------------------------------------------\u001b[0m",
      "\u001b[0;31mModuleNotFoundError\u001b[0m                       Traceback (most recent call last)",
      "\u001b[0;32m<ipython-input-3-5ebd6174fb71>\u001b[0m in \u001b[0;36m<module>\u001b[0;34m\u001b[0m\n\u001b[0;32m----> 1\u001b[0;31m \u001b[0;32mimport\u001b[0m \u001b[0mma\u001b[0m\u001b[0;34m\u001b[0m\u001b[0m\n\u001b[0m",
      "\u001b[0;31mModuleNotFoundError\u001b[0m: No module named 'ma'"
     ]
    }
   ],
   "source": [
    "import ma"
   ]
  },
  {
   "cell_type": "code",
   "execution_count": 2,
   "metadata": {},
   "outputs": [],
   "source": [
    "from magen import optimizer"
   ]
  },
  {
   "cell_type": "code",
   "execution_count": 3,
   "metadata": {},
   "outputs": [],
   "source": [
    "experimental_files = {'T':'./Data/demo_data/T.csv',\n",
    "                     'C':'./Data/demo_data/C.csv',\n",
    "                     'Chiz':'./Data/demo_data/Chiz.csv',\n",
    "                     'Chixy':'./Data/demo_data/Chixy.csv'}\n",
    "\n",
    "exp_thermal_data = load_experiment_data(experimental_files)"
   ]
  },
  {
   "cell_type": "code",
   "execution_count": 4,
   "metadata": {},
   "outputs": [],
   "source": [
    "mymodel = chain.XYZSpinChain(l=8)\n",
    "interactions = mymodel.generate_interactions(Jx=1., Jz=1., Jy=1.)"
   ]
  },
  {
   "cell_type": "code",
   "execution_count": 5,
   "metadata": {},
   "outputs": [],
   "source": [
    "mysolver = solver.EDSolver(size=mymodel.l, cal_chi_para=True)\n",
    "# mysolver.get_hamiltonian_matrix(interactions)"
   ]
  },
  {
   "cell_type": "code",
   "execution_count": 6,
   "metadata": {},
   "outputs": [],
   "source": [
    "thermal_data = mysolver.forward(interactions, \n",
    "                                T=exp_thermal_data.T, \n",
    "                                with_chi_para=True, \n",
    "                                mag_field={'hx':0., 'hz':0.})"
   ]
  },
  {
   "cell_type": "code",
   "execution_count": null,
   "metadata": {},
   "outputs": [],
   "source": [
    "mag_field={'hx':0., 'hz':0.}\n",
    "mag_field['hz']"
   ]
  },
  {
   "cell_type": "code",
   "execution_count": 7,
   "metadata": {},
   "outputs": [
    {
     "data": {
      "text/plain": [
       "[<matplotlib.lines.Line2D at 0x7fe350a1cb00>]"
      ]
     },
     "execution_count": 7,
     "metadata": {},
     "output_type": "execute_result"
    },
    {
     "data": {
      "image/png": "[encoded data removed]",
      "text/plain": [
       "<Figure size 432x288 with 1 Axes>"
      ]
     },
     "metadata": {
      "needs_background": "light"
     },
     "output_type": "display_data"
    }
   ],
   "source": [
    "plt.semilogx(exp_thermal_data.T, exp_thermal_data.Chixy, 'o')\n",
    "plt.semilogx(exp_thermal_data.T, thermal_data.Chixy.detach())"
   ]
  },
  {
   "cell_type": "code",
   "execution_count": 29,
   "metadata": {},
   "outputs": [],
   "source": [
    "Opt = BayesianOptimizer(parameter_space={'Jx':(-10, 10), 'Jy':(-10, 10), 'Jz':(-10, 10)},\n",
    "                        n_exp_total=300,\n",
    "                        solver=mysolver,\n",
    "                        model=mymodel,\n",
    "                        T_cut=0,\n",
    "                        exp_thermal_data=exp_thermal_data,\n",
    "                        record_BO = True,\n",
    "                        target_obs=['C', 'Chiz', 'Chixy'])"
   ]
  },
  {
   "cell_type": "code",
   "execution_count": 30,
   "metadata": {},
   "outputs": [],
   "source": [
    "import magen"
   ]
  },
  {
   "cell_type": "code",
   "execution_count": 31,
   "metadata": {
    "scrolled": true
   },
   "outputs": [
    {
     "name": "stdout",
     "output_type": "stream",
     "text": [
      "iteration 1: Loss = -0.05178345569373825, Parameter is {'Jx': 6.980820233590329, 'Jy': 6.5168202233855155, 'Jz': -4.641445105437791}\n",
      "iteration 2: Loss = -0.14059409457844158, Parameter is {'Jx': -1.304504616806062, 'Jy': 0.07497307020780397, 'Jz': 0.863312137220575}\n",
      "iteration 3: Loss = -0.11235844413876203, Parameter is {'Jx': 8.528539325017462, 'Jy': 5.549947978078089, 'Jz': 5.374715428409502}\n",
      "iteration 4: Loss = -0.22757878992675012, Parameter is {'Jx': -6.222496545144429, 'Jy': 9.16000080871888, 'Jz': -2.3742653022644777}\n",
      "iteration 5: Loss = -1.282366641213359, Parameter is {'Jx': -6.218533043096592, 'Jy': 5.286890567653504, 'Jz': 0.7455821143574504}\n",
      "iteration 6: Loss = -0.730195846046794, Parameter is {'Jx': -4.026055619071456, 'Jy': 2.492676828963491, 'Jz': -5.440960777920374}\n",
      "iteration 7: Loss = -1.0608602635511046, Parameter is {'Jx': 2.581516480749638, 'Jy': 7.395778781704234, 'Jz': -8.40967272411001}\n",
      "iteration 8: Loss = -0.17311107452885435, Parameter is {'Jx': 9.501397426410673, 'Jy': -5.720190154468621, 'Jz': -0.6467639047914879}\n",
      "iteration 9: Loss = -0.11421698726541052, Parameter is {'Jx': 4.293185767878434, 'Jy': 9.952381923311325, 'Jz': -2.0132761991676347}\n",
      "iteration 10: Loss = -3.112475586370758, Parameter is {'Jx': -8.517502662878687, 'Jy': 5.8009856566997176, 'Jz': 3.307380573341568}\n",
      "iteration 11: Loss = -0.07065483714197536, Parameter is {'Jx': 6.082273245494402, 'Jy': 8.039048099820059, 'Jz': -2.934608495509745}\n",
      "iteration 12: Loss = -0.08004930767548335, Parameter is {'Jx': 6.76781228884475, 'Jy': 5.3671453258727, 'Jz': 0.3448787375772955}\n",
      "iteration 13: Loss = -0.040757857767689885, Parameter is {'Jx': 3.8903351316055965, 'Jy': 0.8063654951177079, 'Jz': 0.7652673517160792}\n",
      "iteration 14: Loss = -0.14203715030549624, Parameter is {'Jx': 8.637993623047368, 'Jy': 1.2128764648779948, 'Jz': -2.395864087363983}\n",
      "iteration 15: Loss = -0.09997666977964519, Parameter is {'Jx': 10.0, 'Jy': 7.318176228491549, 'Jz': -2.7473798399523783}\n",
      "iteration 16: Loss = -0.038265860273201675, Parameter is {'Jx': 2.7945671851260747, 'Jy': -4.412264287751539, 'Jz': 1.547389686107206}\n",
      "iteration 17: Loss = -0.07238021283714025, Parameter is {'Jx': 6.901917638250333, 'Jy': -1.6420646899263969, 'Jz': 5.030304403379085}\n",
      "iteration 18: Loss = -0.05175011237899217, Parameter is {'Jx': 2.3866896680294474, 'Jy': -1.5241142354867172, 'Jz': 5.199298326856569}\n",
      "iteration 19: Loss = -0.05183488591175817, Parameter is {'Jx': 5.089368172732061, 'Jy': -8.267549001814185, 'Jz': 6.451246811197748}\n",
      "iteration 20: Loss = -0.09899643077339786, Parameter is {'Jx': -0.5274671482354695, 'Jy': -9.65043742728343, 'Jz': 4.471420164177283}\n",
      "iteration 21: Loss = -0.14328439898134476, Parameter is {'Jx': 4.495993925708385, 'Jy': -10.0, 'Jz': 0.969621186487101}\n",
      "iteration 22: Loss = -0.07340839445233187, Parameter is {'Jx': 10.0, 'Jy': -5.4336266588845, 'Jz': 10.0}\n",
      "iteration 23: Loss = -0.11848879061039466, Parameter is {'Jx': 3.935206820534817, 'Jy': -4.55955269465377, 'Jz': 10.0}\n",
      "iteration 24: Loss = -0.1109359835808427, Parameter is {'Jx': 10.0, 'Jy': 1.2508669224062683, 'Jz': 10.0}\n",
      "iteration 25: Loss = -0.10079710522801086, Parameter is {'Jx': 9.983329211566645, 'Jy': -9.5825193509458, 'Jz': 5.165726042632224}\n",
      "iteration 26: Loss = -0.13930613868705602, Parameter is {'Jx': 9.112619298991142, 'Jy': 9.53153846920652, 'Jz': 9.931773277668515}\n",
      "iteration 27: Loss = -0.5423417154894722, Parameter is {'Jx': 10.0, 'Jy': -10.0, 'Jz': -10.0}\n",
      "iteration 28: Loss = -0.11173191455485026, Parameter is {'Jx': 4.734354107172902, 'Jy': 10.0, 'Jz': 4.008366283530536}\n",
      "iteration 29: Loss = -0.08502893026204389, Parameter is {'Jx': -0.11344845336420423, 'Jy': -10.0, 'Jz': 10.0}\n",
      "iteration 30: Loss = -0.07564462357975174, Parameter is {'Jx': 1.4140776736990899, 'Jy': 6.094338642077535, 'Jz': 0.4583057242877862}\n",
      "iteration 31: Loss = -0.12694055461241932, Parameter is {'Jx': -7.354505155464721, 'Jy': -10.0, 'Jz': 10.0}\n",
      "iteration 32: Loss = -0.10049945759587389, Parameter is {'Jx': -4.586809234117549, 'Jy': -10.0, 'Jz': -2.1464811710784324}\n",
      "iteration 33: Loss = -0.9096122144810133, Parameter is {'Jx': -10.0, 'Jy': -10.0, 'Jz': -9.360063769436383}\n",
      "iteration 34: Loss = -0.12376960053258745, Parameter is {'Jx': -6.646011260689818, 'Jy': -10.0, 'Jz': 3.1985726903609426}\n",
      "iteration 35: Loss = -0.04417146718602963, Parameter is {'Jx': 7.666725205982658, 'Jy': -9.866734532392593, 'Jz': 9.81364275539153}\n",
      "iteration 36: Loss = -0.08191884010706917, Parameter is {'Jx': -1.5998015784663746, 'Jy': -6.748764843264665, 'Jz': 0.01578567673971025}\n",
      "iteration 37: Loss = -0.12301087919535461, Parameter is {'Jx': 5.022731603962879, 'Jy': 4.0768299037033815, 'Jz': 10.0}\n",
      "iteration 38: Loss = -0.1501568403209514, Parameter is {'Jx': -2.165060799608232, 'Jy': 10.0, 'Jz': -2.011943904704179}\n",
      "iteration 39: Loss = -0.5475086703104624, Parameter is {'Jx': -10.0, 'Jy': 10.0, 'Jz': -9.423821866964262}\n",
      "iteration 40: Loss = -0.16740391982008207, Parameter is {'Jx': 0.545362670248916, 'Jy': -10.0, 'Jz': -3.7938986934494165}\n",
      "iteration 41: Loss = -0.06658814734518355, Parameter is {'Jx': 3.95237673503874, 'Jy': 3.1568130588301133, 'Jz': 4.301757345460213}\n",
      "iteration 42: Loss = -0.18590893047957077, Parameter is {'Jx': 10.0, 'Jy': 3.9694250985725685, 'Jz': -6.929031943799788}\n",
      "iteration 43: Loss = -0.12313762069001585, Parameter is {'Jx': 9.943020278696252, 'Jy': -4.885600492509363, 'Jz': 4.464245558805832}\n",
      "iteration 44: Loss = -0.11700257001288279, Parameter is {'Jx': 9.443433109777764, 'Jy': 9.990967585879925, 'Jz': 3.2305461705539535}\n",
      "iteration 45: Loss = -0.11206111214299634, Parameter is {'Jx': -2.320590938430518, 'Jy': -10.0, 'Jz': 0.4514840240351419}\n",
      "iteration 46: Loss = -0.045141342669741666, Parameter is {'Jx': -0.10145897658652103, 'Jy': -5.072446374742379, 'Jz': 5.060241775538303}\n",
      "iteration 47: Loss = -0.004382343253588642, Parameter is {'Jx': 1.2915989207170202, 'Jy': -1.9656935132207756, 'Jz': 1.918183373390041}\n",
      "iteration 48: Loss = -0.061650175277791985, Parameter is {'Jx': 9.580794763405475, 'Jy': 9.953485992424568, 'Jz': -6.713191722445173}\n",
      "iteration 49: Loss = -0.07103683684545313, Parameter is {'Jx': 3.989804277813002, 'Jy': -10.0, 'Jz': 10.0}\n",
      "iteration 50: Loss = -0.09353745443635136, Parameter is {'Jx': -3.695697350920179, 'Jy': -9.954662079221709, 'Jz': 7.791445340206643}\n",
      "iteration 51: Loss = -0.21652806160783225, Parameter is {'Jx': 3.143836584216061, 'Jy': -3.5944565668966786, 'Jz': -2.8759597445078446}\n",
      "iteration 52: Loss = -0.01932731117336963, Parameter is {'Jx': 2.870121226271765, 'Jy': -5.057244612134049, 'Jz': 5.103520550679965}\n",
      "iteration 53: Loss = -0.1146934996729237, Parameter is {'Jx': 6.47560021444891, 'Jy': -0.5163008898430288, 'Jz': 9.744671034601367}\n",
      "iteration 54: Loss = -0.04586275660365881, Parameter is {'Jx': 10.0, 'Jy': -10.0, 'Jz': 10.0}\n",
      "iteration 55: Loss = -0.13006694954683629, Parameter is {'Jx': 10.0, 'Jy': 0.9230354359504335, 'Jz': 3.1292891055555083}\n",
      "iteration 56: Loss = -0.0815835923475616, Parameter is {'Jx': 8.82003627141195, 'Jy': 10.0, 'Jz': -3.63680705104344}\n",
      "iteration 57: Loss = -0.0076422214656783095, Parameter is {'Jx': 1.6976004854101776, 'Jy': 2.01419235892835, 'Jz': 1.2578964720181016}\n",
      "iteration 58: Loss = -0.10245783362841651, Parameter is {'Jx': -1.7562891263189453, 'Jy': -6.393132778932511, 'Jz': 10.0}\n",
      "iteration 59: Loss = -0.12195085681038355, Parameter is {'Jx': 4.54331036061538, 'Jy': 10.0, 'Jz': 10.0}\n",
      "iteration 60: Loss = -0.06323494279519803, Parameter is {'Jx': 1.1858537369378084, 'Jy': -7.657561411257827, 'Jz': 7.3304617001760946}\n",
      "iteration 61: Loss = -0.028363351218454295, Parameter is {'Jx': 3.5050004830289745, 'Jy': 3.919282432423893, 'Jz': -0.4321360721497905}\n",
      "iteration 62: Loss = -0.024668204291445207, Parameter is {'Jx': 0.5839440331733599, 'Jy': -4.184721285630393, 'Jz': 2.2601248255104007}\n",
      "iteration 63: Loss = -0.009517598753989566, Parameter is {'Jx': 3.309299219615185, 'Jy': -2.213279514619137, 'Jz': 3.1030803298489955}\n",
      "iteration 64: Loss = -0.24979439248800953, Parameter is {'Jx': -10.0, 'Jy': -10.0, 'Jz': 6.403154503663924}\n",
      "iteration 65: Loss = -0.07484684523911682, Parameter is {'Jx': 7.318176295840039, 'Jy': 5.066571163571539, 'Jz': -3.0155405642757573}\n",
      "iteration 66: Loss = -0.0863929537862912, Parameter is {'Jx': 10.0, 'Jy': 7.646912554332945, 'Jz': -5.781699798457927}\n"
     ]
    },
    {
     "name": "stdout",
     "output_type": "stream",
     "text": [
      "iteration 67: Loss = -0.04421235581096025, Parameter is {'Jx': 5.724209388628623, 'Jy': -5.468341542222628, 'Jz': 3.487093007131987}\n",
      "iteration 68: Loss = -0.05090927577661512, Parameter is {'Jx': 3.583970145940432, 'Jy': 4.507696522662211, 'Jz': 1.405118098067053}\n",
      "iteration 69: Loss = -0.34094581738230706, Parameter is {'Jx': 10.0, 'Jy': 10.0, 'Jz': -10.0}\n",
      "iteration 70: Loss = -0.0028914241853310128, Parameter is {'Jx': 2.016352660324454, 'Jy': 0.015406483179869923, 'Jz': 1.7882454140398618}\n",
      "iteration 71: Loss = -0.01846654815499057, Parameter is {'Jx': 1.3893759626047402, 'Jy': 1.2004689083848685, 'Jz': -0.4438948130699494}\n",
      "iteration 72: Loss = -0.1793731337765029, Parameter is {'Jx': 10.0, 'Jy': -10.0, 'Jz': -0.11056904055149022}\n",
      "iteration 73: Loss = -0.03217249742813759, Parameter is {'Jx': 7.340697165612334, 'Jy': -6.326470618321163, 'Jz': 7.682780669870783}\n",
      "iteration 74: Loss = -0.11730472292056957, Parameter is {'Jx': 6.1060496981002395, 'Jy': 7.735890338480259, 'Jz': 7.469439035141677}\n",
      "iteration 75: Loss = -0.09370788483679278, Parameter is {'Jx': 6.770729459940887, 'Jy': 2.1148459904992936, 'Jz': 6.703375510539554}\n",
      "iteration 76: Loss = -0.005308798548681586, Parameter is {'Jx': 2.2224360031849137, 'Jy': -3.4948185661755637, 'Jz': 3.5113057286911307}\n",
      "iteration 77: Loss = -0.12875686258589408, Parameter is {'Jx': 10.0, 'Jy': 5.3499426350440205, 'Jz': 10.0}\n",
      "iteration 78: Loss = -0.023739727575324776, Parameter is {'Jx': 1.0911979820722517, 'Jy': 3.337916180281168, 'Jz': -0.2750920676138652}\n",
      "iteration 79: Loss = -0.05675282044344183, Parameter is {'Jx': 10.0, 'Jy': -7.986976440238629, 'Jz': 8.280497922597643}\n",
      "iteration 80: Loss = -0.07114591040608183, Parameter is {'Jx': 7.106474480886109, 'Jy': -7.372517837232145, 'Jz': 10.0}\n",
      "iteration 81: Loss = -0.23583117423221917, Parameter is {'Jx': -5.188256665967742, 'Jy': 10.0, 'Jz': -4.376215837152668}\n",
      "iteration 82: Loss = -0.020690082225750184, Parameter is {'Jx': 5.236203893520084, 'Jy': -4.428369416318684, 'Jz': 5.6111605491664776}\n",
      "iteration 83: Loss = -0.7373408510552434, Parameter is {'Jx': 0.6998706792866048, 'Jy': -10.0, 'Jz': -10.0}\n",
      "iteration 84: Loss = -0.065719049464769, Parameter is {'Jx': 1.4437561240934358, 'Jy': -6.624231822284512, 'Jz': 3.4557547163821924}\n",
      "iteration 85: Loss = -0.002003142513554491, Parameter is {'Jx': 1.778594710647214, 'Jy': 0.24223580533998934, 'Jz': 1.1174509562334478}\n",
      "iteration 86: Loss = -0.10845043021125092, Parameter is {'Jx': 6.12842277983296, 'Jy': 10.0, 'Jz': 0.7462428001215852}\n",
      "iteration 87: Loss = -0.08537378758384039, Parameter is {'Jx': -3.1733142958294667, 'Jy': -7.3671955290964, 'Jz': 4.231334187307751}\n",
      "iteration 88: Loss = -0.3965888096269664, Parameter is {'Jx': -9.136640182841557, 'Jy': -9.838548255963996, 'Jz': -0.44448313400839545}\n",
      "iteration 89: Loss = -0.07081922532190468, Parameter is {'Jx': 7.40207119636643, 'Jy': -10.0, 'Jz': 7.151080667881906}\n",
      "iteration 90: Loss = -0.2981773353273422, Parameter is {'Jx': 10.0, 'Jy': -2.3867335437049038, 'Jz': -6.317981072776137}\n",
      "iteration 91: Loss = -0.008317121824786874, Parameter is {'Jx': 2.1794879869109636, 'Jy': 2.1179197870480366, 'Jz': 0.3766025858000979}\n",
      "iteration 92: Loss = -0.09972723776005311, Parameter is {'Jx': 9.889093162123327, 'Jy': -2.1914723512211083, 'Jz': 7.484231752408707}\n",
      "iteration 93: Loss = -0.007506506618299244, Parameter is {'Jx': 2.1600536563769417, 'Jy': -1.7326942205010454, 'Jz': 2.1816889438389797}\n",
      "iteration 94: Loss = -0.015457101978876783, Parameter is {'Jx': 0.19973558054367757, 'Jy': -2.387219185358351, 'Jz': 0.2160625388166011}\n",
      "iteration 95: Loss = -0.013018031092962006, Parameter is {'Jx': 3.7232582165712778, 'Jy': -3.675003962935244, 'Jz': 4.184966125093435}\n",
      "iteration 96: Loss = -0.03970635033202029, Parameter is {'Jx': 3.9217585342627883, 'Jy': 0.5431822092345386, 'Jz': 3.3725556163644455}\n",
      "iteration 97: Loss = -0.007697383370786105, Parameter is {'Jx': 1.4898872911157017, 'Jy': -1.972807078568401, 'Jz': 1.1287772370074052}\n",
      "iteration 98: Loss = -0.03889703336377836, Parameter is {'Jx': 7.016099989571929, 'Jy': -6.8195995136130065, 'Jz': 5.559617004635751}\n",
      "iteration 99: Loss = -0.018860863491596793, Parameter is {'Jx': 0.8647261055743733, 'Jy': -0.8540247645817427, 'Jz': 0.8212745192937518}\n",
      "iteration 100: Loss = -0.0712285030536993, Parameter is {'Jx': 3.7858043730228363, 'Jy': 6.569794727720097, 'Jz': -0.6115662698519273}\n",
      "iteration 101: Loss = -0.029729254152252325, Parameter is {'Jx': 4.799400681705455, 'Jy': -6.168071434589477, 'Jz': 6.965431263911096}\n",
      "iteration 102: Loss = -0.008444870093760097, Parameter is {'Jx': 0.9202782799962808, 'Jy': -2.8760485440856227, 'Jz': 1.29898841543252}\n",
      "iteration 103: Loss = -0.014103676097427506, Parameter is {'Jx': 2.293641849722313, 'Jy': 1.370772894555314, 'Jz': 1.8592758636971478}\n",
      "iteration 104: Loss = -0.08764335932860205, Parameter is {'Jx': 6.08775470655263, 'Jy': -2.292729010569521, 'Jz': 1.939650056406677}\n",
      "iteration 105: Loss = -0.001886684181398673, Parameter is {'Jx': 1.4462619212081833, 'Jy': 1.5088220217030983, 'Jz': 0.5921673706322501}\n",
      "iteration 106: Loss = -0.08540552860218074, Parameter is {'Jx': -2.4012368244581075, 'Jy': -6.440135220057583, 'Jz': -2.9023976954285047}\n",
      "iteration 107: Loss = -0.042884423637803225, Parameter is {'Jx': -0.3998545153827848, 'Jy': -3.8502485381046325, 'Jz': -0.49796519196910793}\n",
      "iteration 108: Loss = -0.11940182520892599, Parameter is {'Jx': 10.0, 'Jy': 5.388962763985214, 'Jz': 1.772958966370396}\n",
      "iteration 109: Loss = -0.11883183876424758, Parameter is {'Jx': 1.9515272589594286, 'Jy': 9.89415074485742, 'Jz': 1.426020858729018}\n",
      "iteration 110: Loss = -0.12205563809864894, Parameter is {'Jx': -4.558741986938455, 'Jy': -6.537157416167243, 'Jz': -0.9868534913103097}\n",
      "iteration 111: Loss = -0.059095070189759416, Parameter is {'Jx': 6.844488943517156, 'Jy': -3.740362201247846, 'Jz': 7.6877063479639}\n",
      "iteration 112: Loss = -0.004379749310706457, Parameter is {'Jx': 1.9815701814774034, 'Jy': -2.6673857296038577, 'Jz': 2.731448466693692}\n",
      "iteration 113: Loss = -0.07741307462953005, Parameter is {'Jx': 7.796862227709621, 'Jy': 10.0, 'Jz': -5.489303099612175}\n",
      "iteration 114: Loss = -0.1344249047357686, Parameter is {'Jx': 9.932738491846553, 'Jy': 9.815773889843818, 'Jz': 7.291711372397451}\n",
      "iteration 115: Loss = -0.07118320597997352, Parameter is {'Jx': 1.4794841653471522, 'Jy': -5.123923208977952, 'Jz': 7.321477650264828}\n",
      "iteration 116: Loss = -0.012221204463858864, Parameter is {'Jx': 1.287256450562996, 'Jy': -2.7133453946945156, 'Jz': 3.7634355150988146}\n",
      "iteration 117: Loss = -0.01923062441618658, Parameter is {'Jx': 4.42191228427232, 'Jy': -5.614656139602079, 'Jz': 4.622126880094825}\n",
      "iteration 118: Loss = -0.001790735294632658, Parameter is {'Jx': 1.5513453115624447, 'Jy': 1.3434317557564146, 'Jz': 0.9593767230052652}\n",
      "iteration 119: Loss = -0.0067724160357127685, Parameter is {'Jx': 2.67066959722737, 'Jy': -2.5134537031737914, 'Jz': 3.6445404691554053}\n",
      "iteration 120: Loss = -0.09806225414337501, Parameter is {'Jx': -3.6309367066092326, 'Jy': -9.106893330301157, 'Jz': 10.0}\n",
      "iteration 121: Loss = -0.08429337787672188, Parameter is {'Jx': 6.268162567700134, 'Jy': 3.0836863020929446, 'Jz': 2.5488768152335766}\n",
      "iteration 122: Loss = -0.07320840143047247, Parameter is {'Jx': -1.6208947485970526, 'Jy': -7.2972777706054925, 'Jz': 6.643125339610293}\n",
      "iteration 123: Loss = -0.0898896379855124, Parameter is {'Jx': 1.604740370426267, 'Jy': -7.9534799374612986, 'Jz': 9.943893619831737}\n",
      "iteration 124: Loss = -0.09311380184071757, Parameter is {'Jx': 2.2916914826929364, 'Jy': -9.850342081659331, 'Jz': 6.108555670712683}\n",
      "iteration 125: Loss = -0.005487503891766135, Parameter is {'Jx': 2.1163443055906015, 'Jy': 1.0106330349401382, 'Jz': 0.7311986525250447}\n",
      "iteration 126: Loss = -0.0026863719185344827, Parameter is {'Jx': 1.9111194974559336, 'Jy': 0.5124186229874983, 'Jz': 1.2904026824111074}\n",
      "iteration 127: Loss = -0.00130969539048584, Parameter is {'Jx': 1.479757872650577, 'Jy': -0.9488914961730988, 'Jz': 2.515341697904983}\n",
      "iteration 128: Loss = -0.005829207637263372, Parameter is {'Jx': 2.1106514779491174, 'Jy': -1.3917224675509559, 'Jz': 3.1010604506453436}\n",
      "iteration 129: Loss = -0.0005006168160603502, Parameter is {'Jx': 1.471024693735215, 'Jy': 0.10296945859853146, 'Jz': 1.7211152440173283}\n"
     ]
    },
    {
     "name": "stdout",
     "output_type": "stream",
     "text": [
      "iteration 130: Loss = -0.012503503348714787, Parameter is {'Jx': 1.4419522399941958, 'Jy': 0.10326276504607712, 'Jz': 2.9406988396926685}\n",
      "iteration 131: Loss = -0.10989077465675487, Parameter is {'Jx': -1.3449608027970967, 'Jy': 6.3012975261283515, 'Jz': -1.175519915269117}\n",
      "iteration 132: Loss = -0.04555883700344778, Parameter is {'Jx': 3.919943428567656, 'Jy': 2.014425868155998, 'Jz': -1.6006757505362152}\n",
      "iteration 133: Loss = -0.000727752008019439, Parameter is {'Jx': 1.516917894425431, 'Jy': -0.7981566814769625, 'Jz': 2.259538118587212}\n",
      "iteration 134: Loss = -0.11320336190542624, Parameter is {'Jx': -2.5612569824230214, 'Jy': -9.19058254063279, 'Jz': -2.6350558114567013}\n",
      "iteration 135: Loss = -0.22113722612647593, Parameter is {'Jx': 6.587055358757567, 'Jy': -9.959758112823867, 'Jz': -3.0388866587564394}\n",
      "iteration 136: Loss = -0.09552839961677403, Parameter is {'Jx': -3.3080755334224987, 'Jy': -9.947928772894727, 'Jz': 4.646373562845644}\n",
      "iteration 137: Loss = -0.01234596021592969, Parameter is {'Jx': 3.043214564312507, 'Jy': -3.3096379511374803, 'Jz': 3.0248348599483563}\n",
      "iteration 138: Loss = -0.0925159191434768, Parameter is {'Jx': 5.574838675082184, 'Jy': 6.688567063714977, 'Jz': 3.5299675654734948}\n",
      "iteration 139: Loss = -0.13571763260260267, Parameter is {'Jx': 2.3930151764866903, 'Jy': 0.1720206431081821, 'Jz': 10.0}\n",
      "iteration 140: Loss = -0.11348551298337367, Parameter is {'Jx': 9.791002917220066, 'Jy': 2.460702207607943, 'Jz': 6.5760458280275635}\n",
      "iteration 141: Loss = -0.112614871150698, Parameter is {'Jx': 7.161249900966972, 'Jy': -8.609845228121994, 'Jz': 2.597914277707412}\n",
      "iteration 142: Loss = -0.001841095169028662, Parameter is {'Jx': 1.6885130128426624, 'Jy': -0.6137961590063057, 'Jz': 2.415298684238252}\n",
      "iteration 143: Loss = -0.0012774735728368564, Parameter is {'Jx': 1.4433534495741505, 'Jy': -0.3370396349355165, 'Jz': 1.7505886682596898}\n",
      "iteration 144: Loss = -0.0007468169096468305, Parameter is {'Jx': 1.456640675634171, 'Jy': 0.7482021881257097, 'Jz': 1.1757723117395322}\n",
      "iteration 145: Loss = -0.03018208894379942, Parameter is {'Jx': 4.55732955691866, 'Jy': -1.8722208209518243, 'Jz': 4.557334497582961}\n",
      "iteration 146: Loss = -0.06011384157666046, Parameter is {'Jx': 7.9048108284486105, 'Jy': 7.76185863166226, 'Jz': -3.9756319265061}\n",
      "iteration 147: Loss = -0.12948560070203818, Parameter is {'Jx': 1.6580511561399867, 'Jy': -7.326582084142403, 'Jz': -1.1657046299812777}\n",
      "iteration 148: Loss = -0.05918813189297975, Parameter is {'Jx': 10.0, 'Jy': -10.0, 'Jz': 8.077634734281315}\n",
      "iteration 149: Loss = -0.02922802343114596, Parameter is {'Jx': 1.6385406189012137, 'Jy': -2.8818469410033583, 'Jz': 0.1222258863583896}\n",
      "iteration 150: Loss = -0.04499835588219071, Parameter is {'Jx': -1.2034143072707906, 'Jy': -3.5780365918638513, 'Jz': 1.9726740739064255}\n",
      "iteration 151: Loss = -0.000750554272174906, Parameter is {'Jx': 1.5019244397132976, 'Jy': 0.4676791422965465, 'Jz': 1.610983581480367}\n",
      "iteration 152: Loss = -0.0011577473048571922, Parameter is {'Jx': 1.4832961327095333, 'Jy': -1.6278274636459678, 'Jz': 2.7112379544550276}\n",
      "iteration 153: Loss = -0.0021330942063296555, Parameter is {'Jx': 0.6786167839215373, 'Jy': -2.152422176525784, 'Jz': 2.3895290330186114}\n",
      "iteration 154: Loss = -0.002122653284307912, Parameter is {'Jx': 0.998037923810438, 'Jy': -2.444010986270346, 'Jz': 2.752110862261155}\n",
      "iteration 155: Loss = -0.09465243236174609, Parameter is {'Jx': 3.7666371712087727, 'Jy': 1.7033927720969828, 'Jz': 7.009766079382654}\n",
      "iteration 156: Loss = -0.0005720582619718193, Parameter is {'Jx': 1.5010754985512147, 'Jy': -0.0807319963577342, 'Jz': 1.8371769704687644}\n",
      "iteration 157: Loss = -0.12429210943337345, Parameter is {'Jx': -5.4962924131799085, 'Jy': -7.581987052998828, 'Jz': 7.405839294129134}\n",
      "iteration 158: Loss = -0.0008118879100057393, Parameter is {'Jx': 1.4809229190023423, 'Jy': 0.451398716618737, 'Jz': 1.2856119582993912}\n",
      "iteration 159: Loss = -0.0008437978814633857, Parameter is {'Jx': 0.9712819847221503, 'Jy': -1.4471445835174368, 'Jz': 2.2559795318677125}\n",
      "iteration 160: Loss = -0.004933972356669123, Parameter is {'Jx': 0.9324074786797194, 'Jy': -1.871131220898894, 'Jz': 2.9479949442968376}\n",
      "iteration 161: Loss = -0.1246696429004713, Parameter is {'Jx': 7.1937478539482385, 'Jy': 9.954122829331432, 'Jz': 7.058461153307128}\n",
      "iteration 162: Loss = -0.0008402575695908226, Parameter is {'Jx': 1.189167030672893, 'Jy': -1.5744526589894985, 'Jz': 2.5927992909123088}\n",
      "iteration 163: Loss = -0.10576617671051222, Parameter is {'Jx': 9.915106709526377, 'Jy': 9.929038307451112, 'Jz': 0.48361676688589483}\n",
      "iteration 164: Loss = -0.0012108766469905092, Parameter is {'Jx': 1.623599845038001, 'Jy': 0.21917534005892314, 'Jz': 1.8066185307382039}\n",
      "iteration 165: Loss = -0.036921210623369075, Parameter is {'Jx': 4.9383311530639755, 'Jy': 4.241946297305269, 'Jz': -2.4648196148876877}\n",
      "iteration 166: Loss = -0.0003493550537025974, Parameter is {'Jx': 1.26633428519753, 'Jy': -0.10363374378398404, 'Jz': 2.0279171818626764}\n",
      "iteration 167: Loss = -0.0322300866383567, Parameter is {'Jx': 2.9702841197153074, 'Jy': -0.5036761036518769, 'Jz': 0.10647941126780935}\n",
      "iteration 168: Loss = -0.06860173951004638, Parameter is {'Jx': 5.740663888147271, 'Jy': 3.117593251012604, 'Jz': -0.7759528989037854}\n",
      "iteration 169: Loss = -0.0016606365370332719, Parameter is {'Jx': 1.332569461854785, 'Jy': -0.4243785562724547, 'Jz': 2.3791673844252728}\n",
      "iteration 170: Loss = -0.07346638978216233, Parameter is {'Jx': 9.873614192568457, 'Jy': 9.976899159136362, 'Jz': -5.034628685388071}\n",
      "iteration 171: Loss = -0.027972813434799022, Parameter is {'Jx': 6.531079747146297, 'Jy': -5.244298771418325, 'Jz': 5.9926249346669955}\n",
      "iteration 172: Loss = -0.1519853877754019, Parameter is {'Jx': 6.538666828107086, 'Jy': 2.4379046494336514, 'Jz': -4.349241346977866}\n",
      "iteration 173: Loss = -0.09941374419337182, Parameter is {'Jx': -5.102720146899107, 'Jy': -9.91699456677033, 'Jz': 0.7147756738797995}\n",
      "iteration 174: Loss = -0.10674621905751519, Parameter is {'Jx': 3.006453804486009, 'Jy': 9.89388862033919, 'Jz': 6.573034438059064}\n",
      "iteration 175: Loss = -0.08283505144172333, Parameter is {'Jx': 2.73905081799219, 'Jy': 6.3678933418194426, 'Jz': 5.422934987239573}\n",
      "iteration 176: Loss = -0.11240713537978678, Parameter is {'Jx': 2.53158000148445, 'Jy': 7.808879849825811, 'Jz': 9.981063729501411}\n",
      "iteration 177: Loss = -0.0022403822545342175, Parameter is {'Jx': 1.0977706347100007, 'Jy': 1.2335818698482583, 'Jz': 1.8501055062140654}\n",
      "iteration 178: Loss = -0.0002643774959277285, Parameter is {'Jx': 1.2879001521025675, 'Jy': 0.5209492123907218, 'Jz': 1.4780968394901777}\n",
      "iteration 179: Loss = -0.0017133086469925628, Parameter is {'Jx': 1.1386735098852512, 'Jy': 0.711797213677908, 'Jz': 2.0079345767096957}\n",
      "iteration 180: Loss = -0.0110058578865759, Parameter is {'Jx': 0.784614108684778, 'Jy': 2.8775378831796203, 'Jz': 1.1653252943224217}\n",
      "iteration 181: Loss = -0.0009387091702406708, Parameter is {'Jx': 0.6849391845735457, 'Jy': 1.782180327654192, 'Jz': 1.03749035313324}\n",
      "iteration 182: Loss = -0.00032741309628347883, Parameter is {'Jx': 1.0446524050450385, 'Jy': 0.779732913916229, 'Jz': 1.363073287155519}\n",
      "iteration 183: Loss = -0.000937649021853356, Parameter is {'Jx': 1.0760175989059668, 'Jy': 1.7041365393426524, 'Jz': 1.0106851454302763}\n",
      "iteration 184: Loss = -0.1521163898052276, Parameter is {'Jx': 9.988442613127702, 'Jy': -1.6118204918865775, 'Jz': 0.28816118926757106}\n",
      "iteration 185: Loss = -0.0005541491405383831, Parameter is {'Jx': 0.7223236354801195, 'Jy': 1.557493087757294, 'Jz': 1.5361216123824022}\n",
      "iteration 186: Loss = -0.0003351662475753934, Parameter is {'Jx': 0.8235415701634974, 'Jy': 1.3548334805678337, 'Jz': 1.208503568818692}\n",
      "iteration 187: Loss = -0.09371463093276877, Parameter is {'Jx': 9.909417457091894, 'Jy': -2.291939000577459, 'Jz': 9.930722621915901}\n",
      "iteration 188: Loss = -0.10022884741242645, Parameter is {'Jx': 3.4960586349555705, 'Jy': 5.469375802870442, 'Jz': 7.570477206186457}\n",
      "iteration 189: Loss = -0.0002915395757691719, Parameter is {'Jx': 0.782686964841453, 'Jy': 1.1143582327335633, 'Jz': 1.6803314147163881}\n",
      "iteration 190: Loss = -0.003934858136984941, Parameter is {'Jx': 0.41537979420304794, 'Jy': -2.0669500874635034, 'Jz': 1.6573886580070116}\n"
     ]
    },
    {
     "name": "stdout",
     "output_type": "stream",
     "text": [
      "iteration 191: Loss = -8.759923845706773e-05, Parameter is {'Jx': 0.9417141834068801, 'Jy': 0.7725691561832306, 'Jz': 1.6141771507541431}\n",
      "iteration 192: Loss = -0.0002132936556593526, Parameter is {'Jx': 0.7624005701500902, 'Jy': 1.383338968347946, 'Jz': 1.4316835438187052}\n",
      "iteration 193: Loss = -0.05496727126322089, Parameter is {'Jx': 4.085081337599071, 'Jy': -3.7247662664517245, 'Jz': 6.624205805684401}\n",
      "iteration 194: Loss = -0.015402228979330069, Parameter is {'Jx': 2.6673656012858586, 'Jy': -4.718549150278779, 'Jz': 3.686006135746867}\n",
      "iteration 195: Loss = -0.000451430263819841, Parameter is {'Jx': 1.1868503256257235, 'Jy': -0.8667849172850204, 'Jz': 2.2050547125226565}\n",
      "iteration 196: Loss = -0.015469396703542363, Parameter is {'Jx': 1.4353732644840598, 'Jy': -4.189893157086795, 'Jz': 3.9439926456029752}\n",
      "iteration 197: Loss = -0.06623007625704756, Parameter is {'Jx': 8.922938506559891, 'Jy': -5.151903117562721, 'Jz': 7.394061878900164}\n",
      "iteration 198: Loss = -0.036410906930015856, Parameter is {'Jx': 1.6447044355807154, 'Jy': 3.5256978196510786, 'Jz': 3.098529215102168}\n",
      "iteration 199: Loss = -0.1142653477480838, Parameter is {'Jx': -6.058136335241793, 'Jy': -9.959063859167408, 'Jz': 6.020748545324306}\n",
      "iteration 200: Loss = -0.037075603379625344, Parameter is {'Jx': 6.1950842046502, 'Jy': -8.384595396162116, 'Jz': 8.194323981080615}\n",
      "iteration 201: Loss = -0.00023000993534521462, Parameter is {'Jx': 1.2496122835631152, 'Jy': -0.03344419360037065, 'Jz': 1.914920847946501}\n",
      "iteration 202: Loss = -0.20245091274647292, Parameter is {'Jx': -9.938107124545791, 'Jy': -8.380328134184815, 'Jz': 9.87897185403758}\n",
      "iteration 203: Loss = -0.10292575202817783, Parameter is {'Jx': 1.1350149653688604, 'Jy': 9.998199807807179, 'Jz': 9.957797376584388}\n",
      "iteration 204: Loss = -0.03349889549251221, Parameter is {'Jx': 2.967247376068162, 'Jy': 4.344051713059683, 'Jz': -1.9305596941350611}\n",
      "iteration 205: Loss = -0.12579088925405518, Parameter is {'Jx': 5.185475212580785, 'Jy': -6.242384203879974, 'Jz': -0.10048590895372911}\n",
      "iteration 206: Loss = -0.000419516408106531, Parameter is {'Jx': 0.9728756076020044, 'Jy': 0.12522804715601588, 'Jz': 1.8099717538997844}\n",
      "iteration 207: Loss = -0.0003261197225043861, Parameter is {'Jx': 0.811871959816127, 'Jy': 0.6720540389130463, 'Jz': 1.7776095731091068}\n",
      "iteration 208: Loss = -0.12439665111482266, Parameter is {'Jx': -1.0719075451309745, 'Jy': -2.5531525744887933, 'Jz': 9.835316104678409}\n",
      "iteration 209: Loss = -0.10981700729281242, Parameter is {'Jx': -4.9139845785027925, 'Jy': -5.051980840758425, 'Jz': 9.946798520559582}\n",
      "iteration 210: Loss = -0.0873993312098822, Parameter is {'Jx': -2.574142194347429, 'Jy': -4.840913391759076, 'Jz': 7.449498788252768}\n",
      "iteration 211: Loss = -0.0005267633434816627, Parameter is {'Jx': 1.0501595947778455, 'Jy': 0.45486553747874403, 'Jz': 1.9354828906302046}\n",
      "iteration 212: Loss = -0.015701669668122684, Parameter is {'Jx': 2.664145264085869, 'Jy': 2.6905142453454385, 'Jz': -1.0157631865520464}\n",
      "iteration 213: Loss = -0.12908527458064079, Parameter is {'Jx': 0.8003207379689634, 'Jy': 3.242172207079207, 'Jz': 9.832513312481794}\n",
      "iteration 214: Loss = -0.00026917416741348516, Parameter is {'Jx': 1.0946265291917712, 'Jy': 1.2649823323043599, 'Jz': 1.3011124500110718}\n",
      "iteration 215: Loss = -0.000761713781846504, Parameter is {'Jx': 0.7275849756588393, 'Jy': 1.788496000993005, 'Jz': 1.2461789965318246}\n",
      "iteration 216: Loss = -9.101581771130326e-05, Parameter is {'Jx': 0.9921583776566472, 'Jy': 1.1223727419314944, 'Jz': 1.3332786279158686}\n",
      "iteration 217: Loss = -0.0002079001167414337, Parameter is {'Jx': 0.9347237242240318, 'Jy': 0.47084635809964936, 'Jz': 1.7679114439527908}\n",
      "iteration 218: Loss = -0.003911916063107463, Parameter is {'Jx': 1.6610098392614638, 'Jy': -3.2683463734028457, 'Jz': 3.1659021898752133}\n",
      "iteration 219: Loss = -0.12912967924786115, Parameter is {'Jx': 9.970360244157412, 'Jy': 4.076616723264779, 'Jz': -2.9117544601586065}\n",
      "iteration 220: Loss = -0.008590642330540991, Parameter is {'Jx': 0.4339334487007207, 'Jy': -3.0462671809340636, 'Jz': 2.3114072344283905}\n",
      "iteration 221: Loss = -0.06356666184074795, Parameter is {'Jx': 1.3951039892769543, 'Jy': 2.3889361646284453, 'Jz': 5.2724422709179315}\n",
      "iteration 222: Loss = -0.06008545702834881, Parameter is {'Jx': 4.005940258711412, 'Jy': -7.642048964511973, 'Jz': 8.616235910406939}\n",
      "iteration 223: Loss = -0.0003436397688473072, Parameter is {'Jx': 1.2869400475999964, 'Jy': 0.3251576821585651, 'Jz': 1.8200039117970963}\n",
      "iteration 224: Loss = -0.00035986343402612, Parameter is {'Jx': 1.0986241807592982, 'Jy': -0.3102350962379514, 'Jz': 2.088113812071505}\n",
      "iteration 225: Loss = -0.0007328791204880324, Parameter is {'Jx': 0.9603199183572713, 'Jy': -1.0136968267322857, 'Jz': 2.2950910283850963}\n",
      "iteration 226: Loss = -0.08306569210486779, Parameter is {'Jx': 0.28263804589455077, 'Jy': -9.880642449766325, 'Jz': 7.742279242921242}\n",
      "iteration 227: Loss = -0.03656255618560231, Parameter is {'Jx': 8.061893892133149, 'Jy': -8.124422183039972, 'Jz': 8.293439637105738}\n",
      "iteration 228: Loss = -0.010762846418177343, Parameter is {'Jx': 2.9481662933676986, 'Jy': -0.721472367932968, 'Jz': 2.179147363518773}\n",
      "iteration 229: Loss = -0.0001022212979485848, Parameter is {'Jx': 0.9283292938513643, 'Jy': 0.9981102606039904, 'Jz': 1.4315345881501056}\n",
      "iteration 230: Loss = -0.03879200258484588, Parameter is {'Jx': 2.7175181183729986, 'Jy': -6.55277473710167, 'Jz': 5.634598253052614}\n",
      "iteration 231: Loss = -0.001495421298813702, Parameter is {'Jx': 1.6497630920782296, 'Jy': -2.1260549781824922, 'Jz': 2.8400742124379583}\n",
      "iteration 232: Loss = -0.00019086858161058203, Parameter is {'Jx': 1.1851587748937398, 'Jy': 0.050446957321915065, 'Jz': 1.8892196767265474}\n",
      "iteration 233: Loss = -0.0016932369076793693, Parameter is {'Jx': 0.6960288565482919, 'Jy': 0.14843709120984094, 'Jz': 2.1310492438457906}\n",
      "iteration 234: Loss = -0.0018507276198182548, Parameter is {'Jx': 1.2701533227939006, 'Jy': 1.0941234092352996, 'Jz': 0.7256806727397702}\n",
      "iteration 235: Loss = -0.0003978850203312907, Parameter is {'Jx': 1.0660190561348841, 'Jy': 1.1159790495288657, 'Jz': 1.125911623621164}\n",
      "iteration 236: Loss = -0.003931104501326777, Parameter is {'Jx': 0.9339117990658323, 'Jy': 2.2141742043587733, 'Jz': 0.48620030452774365}\n",
      "iteration 237: Loss = -8.892450501329395e-05, Parameter is {'Jx': 1.132805656613801, 'Jy': 0.5460371107915769, 'Jz': 1.614651778573231}\n",
      "iteration 238: Loss = -0.00021113558462219876, Parameter is {'Jx': 0.9194272585791978, 'Jy': 1.1511256991715424, 'Jz': 1.5761551149818978}\n",
      "iteration 239: Loss = -0.00024609689870311633, Parameter is {'Jx': 0.7979514293059466, 'Jy': 0.8521076796801381, 'Jz': 1.6449600914915692}\n",
      "iteration 240: Loss = -0.00022008563951587067, Parameter is {'Jx': 0.8549191206404849, 'Jy': 1.4002694594326837, 'Jz': 1.4092112024921395}\n",
      "iteration 241: Loss = -0.00018492795333344055, Parameter is {'Jx': 1.0558708630769882, 'Jy': 1.1893775080766833, 'Jz': 1.3909416457263823}\n",
      "iteration 242: Loss = -0.008806275136892618, Parameter is {'Jx': 0.6189186634089694, 'Jy': 1.2935864352497681, 'Jz': 2.6596856362751424}\n",
      "iteration 243: Loss = -0.022936478462591912, Parameter is {'Jx': 5.458961645062274, 'Jy': -6.018878246101115, 'Jz': 5.581527872221773}\n",
      "iteration 244: Loss = -0.0004587937932613612, Parameter is {'Jx': 1.191722775444429, 'Jy': -0.6006999184916051, 'Jz': 2.080263600830804}\n",
      "iteration 245: Loss = -0.0702944722598077, Parameter is {'Jx': 3.989731275875295, 'Jy': -6.469044313202925, 'Jz': 2.651814144573578}\n",
      "iteration 246: Loss = -0.04468757841901391, Parameter is {'Jx': 4.5683122808050065, 'Jy': 5.9261580421726645, 'Jz': -2.780108546675752}\n",
      "iteration 247: Loss = -0.032241394286461375, Parameter is {'Jx': 5.630746719042744, 'Jy': -3.744522935982797, 'Jz': 4.322114039903827}\n",
      "iteration 248: Loss = -0.0016581706335925142, Parameter is {'Jx': 1.346648514527235, 'Jy': -1.2458852574445896, 'Jz': 2.172803075438196}\n",
      "iteration 249: Loss = -0.00045881633498555754, Parameter is {'Jx': 0.7904725820051279, 'Jy': 0.9121781186319957, 'Jz': 1.81297169112635}\n",
      "iteration 250: Loss = -0.0007993595100194374, Parameter is {'Jx': 1.2429121431683114, 'Jy': 0.16091793353246509, 'Jz': 1.5410205421847323}\n"
     ]
    },
    {
     "name": "stdout",
     "output_type": "stream",
     "text": [
      "iteration 251: Loss = -0.0004168276962142753, Parameter is {'Jx': 1.3392254219617215, 'Jy': 0.8421221688366938, 'Jz': 1.3717144111096182}\n",
      "iteration 252: Loss = -0.0007845930391046661, Parameter is {'Jx': 1.3291417477133258, 'Jy': -1.9282628001937052, 'Jz': 2.6646280455480387}\n",
      "iteration 253: Loss = -0.0002485094555623766, Parameter is {'Jx': 1.3176111603580019, 'Jy': 0.3679976189369256, 'Jz': 1.6195329663167612}\n",
      "iteration 254: Loss = -0.0001579079786254302, Parameter is {'Jx': 0.792356787843504, 'Jy': 1.1660985208582986, 'Jz': 1.487522780002088}\n",
      "iteration 255: Loss = -0.004849079868808653, Parameter is {'Jx': 0.5349035800658068, 'Jy': 2.3043564113992883, 'Jz': 1.8994808559821426}\n",
      "iteration 256: Loss = -0.702281897475769, Parameter is {'Jx': 9.882039909710116, 'Jy': 0.0412727529472221, 'Jz': -9.657163587263714}\n",
      "iteration 257: Loss = -0.10021520881963733, Parameter is {'Jx': 8.427863884389794, 'Jy': 7.748958659566046, 'Jz': 1.4438502603283894}\n",
      "iteration 258: Loss = -0.2990093860434379, Parameter is {'Jx': 9.965983252567629, 'Jy': -8.609190779108534, 'Jz': -4.893736837899634}\n",
      "iteration 259: Loss = -0.00032532835550986455, Parameter is {'Jx': 1.310036859043116, 'Jy': 0.7970897204901277, 'Jz': 1.4057890719981927}\n",
      "iteration 260: Loss = -0.024386498176804106, Parameter is {'Jx': -0.0249626412592292, 'Jy': -3.3211301792749275, 'Jz': 0.7344810453856034}\n",
      "iteration 261: Loss = -0.00030886736699627093, Parameter is {'Jx': 1.0313442406760345, 'Jy': -0.04482466173463884, 'Jz': 1.941752927698758}\n",
      "iteration 262: Loss = -0.06425467660191328, Parameter is {'Jx': -2.209831547465275, 'Jy': -4.269913693702279, 'Jz': -1.8026399880948354}\n",
      "iteration 263: Loss = -0.06640708851940558, Parameter is {'Jx': -1.9247696707832933, 'Jy': -4.90955314243771, 'Jz': 4.017974031760364}\n",
      "iteration 264: Loss = -0.00024796829117795446, Parameter is {'Jx': 0.9796235505164912, 'Jy': 1.2279071072853363, 'Jz': 1.1824576946254517}\n",
      "iteration 265: Loss = -0.19039614312295983, Parameter is {'Jx': 9.991554109105753, 'Jy': -2.434714648538976, 'Jz': -3.088194453325821}\n",
      "iteration 266: Loss = -0.0009463672539805395, Parameter is {'Jx': 0.8629515628351321, 'Jy': -0.53930073479094, 'Jz': 2.0545595849327736}\n",
      "iteration 267: Loss = -0.11016938622874946, Parameter is {'Jx': 0.38047536648889313, 'Jy': 9.982428925174972, 'Jz': 4.361349396662725}\n",
      "iteration 268: Loss = -0.1291926850446925, Parameter is {'Jx': -1.960160065278469, 'Jy': 9.906536510841434, 'Jz': 0.6087425900294257}\n",
      "iteration 269: Loss = -0.00030419207445592065, Parameter is {'Jx': 1.0540889925761938, 'Jy': 0.9915286336309528, 'Jz': 1.2346450263002424}\n",
      "iteration 270: Loss = -0.08359916684928015, Parameter is {'Jx': 0.9948996405081818, 'Jy': 7.1339521621760085, 'Jz': 3.0075781168234617}\n",
      "iteration 271: Loss = -0.04246163830249081, Parameter is {'Jx': -0.6683579269406827, 'Jy': 4.321770679897588, 'Jz': 0.8674030779567481}\n",
      "iteration 272: Loss = -0.013470738655313771, Parameter is {'Jx': -0.00767846584169618, 'Jy': 3.2676601404418104, 'Jz': 2.728394281432889}\n",
      "iteration 273: Loss = -0.042131672024823506, Parameter is {'Jx': 0.5302151135601445, 'Jy': 4.842321219277878, 'Jz': 2.8737968481850835}\n",
      "iteration 274: Loss = -6.41636065178162e-05, Parameter is {'Jx': 0.9505092033138389, 'Jy': 0.9981151565404538, 'Jz': 1.4509248187332915}\n",
      "iteration 275: Loss = -0.006244946947375124, Parameter is {'Jx': 0.030849223216282695, 'Jy': 2.425163512217125, 'Jz': 1.1203272143984933}\n",
      "iteration 276: Loss = -0.0011415085835112667, Parameter is {'Jx': 0.5565754951133801, 'Jy': 1.4800163143477736, 'Jz': 1.8481060271925625}\n",
      "iteration 277: Loss = -0.07869671015161152, Parameter is {'Jx': 0.812742021160485, 'Jy': 6.539122061697572, 'Jz': 6.933568544574587}\n",
      "iteration 278: Loss = -0.06594071721560951, Parameter is {'Jx': 1.1351237365713445, 'Jy': 4.555742645201553, 'Jz': 5.670283083370123}\n",
      "iteration 279: Loss = -0.0933722501598522, Parameter is {'Jx': 7.484942381740865, 'Jy': -4.4425502962936765, 'Jz': 9.959688934346545}\n",
      "iteration 280: Loss = -0.1512474098297324, Parameter is {'Jx': -0.6240883735606477, 'Jy': -4.418508035175908, 'Jz': -3.163628911239929}\n",
      "iteration 281: Loss = -0.0896722873687149, Parameter is {'Jx': -0.5908338466815835, 'Jy': -0.8183219083657534, 'Jz': 6.495232375189389}\n",
      "iteration 282: Loss = -0.001569218300769686, Parameter is {'Jx': 0.2467044659014217, 'Jy': 1.8027280534986545, 'Jz': 1.7508670368456443}\n",
      "iteration 283: Loss = -0.14567264197252724, Parameter is {'Jx': 1.4357225620124492, 'Jy': -9.9868978802654, 'Jz': -1.0874566815429372}\n",
      "iteration 284: Loss = -0.06578567692483586, Parameter is {'Jx': -0.7421062913082359, 'Jy': -3.335095302741003, 'Jz': 5.944689671187255}\n",
      "iteration 285: Loss = -0.1274801679549088, Parameter is {'Jx': -6.684626152999544, 'Jy': -7.506833740022958, 'Jz': 9.963356453388695}\n",
      "iteration 286: Loss = -0.004130555671077873, Parameter is {'Jx': -0.1461494925532172, 'Jy': 2.3126168893107604, 'Jz': 2.2425327099135455}\n",
      "iteration 287: Loss = -0.0002364441812603385, Parameter is {'Jx': 0.8852638825876102, 'Jy': 1.09733321686919, 'Jz': 1.6381523326420329}\n",
      "iteration 288: Loss = -0.0003625025873237744, Parameter is {'Jx': 0.9066563034591564, 'Jy': 1.4626176138229212, 'Jz': 1.100052179731092}\n",
      "iteration 289: Loss = -0.005159282421719971, Parameter is {'Jx': 0.04512320633312328, 'Jy': 2.5775095409723257, 'Jz': 1.6790559673133636}\n",
      "iteration 290: Loss = -0.021799243814122477, Parameter is {'Jx': 0.15539884450684482, 'Jy': 2.77648847241635, 'Jz': 3.6320651504125134}\n",
      "iteration 291: Loss = -0.0724584833812517, Parameter is {'Jx': 4.104769024527888, 'Jy': -9.992638233614466, 'Jz': 8.157393882798381}\n",
      "iteration 292: Loss = -0.0010199561927267558, Parameter is {'Jx': 1.1106393482391042, 'Jy': -2.456735711078693, 'Jz': 2.4967374069034918}\n",
      "iteration 293: Loss = -0.11502179697113545, Parameter is {'Jx': 8.058642461533395, 'Jy': 3.3380133222617445, 'Jz': 9.22409840401383}\n",
      "iteration 294: Loss = -0.10714737834463584, Parameter is {'Jx': 9.173606997635769, 'Jy': 5.474950111825192, 'Jz': -4.905205539052517}\n",
      "iteration 295: Loss = -0.05015379878154522, Parameter is {'Jx': 9.698103431228752, 'Jy': -7.678591635244391, 'Jz': 9.986248124847823}\n",
      "iteration 296: Loss = -0.00020456856921148513, Parameter is {'Jx': 0.8205015657524619, 'Jy': 0.8830272786396698, 'Jz': 1.5993083833162274}\n",
      "iteration 297: Loss = -0.0001270916065770581, Parameter is {'Jx': 0.8943420533604041, 'Jy': 1.289291904805756, 'Jz': 1.3219084292260153}\n",
      "iteration 298: Loss = -0.07144621603801835, Parameter is {'Jx': -2.5520449580006277, 'Jy': -4.852288858496118, 'Jz': -0.14994927326872443}\n",
      "iteration 299: Loss = -0.0003845922273243052, Parameter is {'Jx': 0.9890776934046581, 'Jy': 0.8574367048942655, 'Jz': 1.7611297989192423}\n",
      "iteration 300: Loss = -0.019812275302803786, Parameter is {'Jx': 3.6298106162909534, 'Jy': -1.063295087268914, 'Jz': 3.3146550152831864}\n",
      "===================FINISHED=========================\n",
      "Best parameter found at iteration 274, with Loss = -3.112475586370758\n",
      "{'Jx': 0.9505092033138389, 'Jy': 0.9981151565404538, 'Jz': 1.4509248187332915}\n"
     ]
    }
   ],
   "source": [
    "res = Opt.minimize(log_accelerate=False)"
   ]
  },
  {
   "cell_type": "code",
   "execution_count": 8,
   "metadata": {},
   "outputs": [],
   "source": [
    "import visualize\n",
    "from importlib import reload  "
   ]
  },
  {
   "cell_type": "code",
   "execution_count": 9,
   "metadata": {},
   "outputs": [
    {
     "ename": "NameError",
     "evalue": "name 'res' is not defined",
     "output_type": "error",
     "traceback": [
      "\u001b[0;31m---------------------------------------------------------------------------\u001b[0m",
      "\u001b[0;31mNameError\u001b[0m                                 Traceback (most recent call last)",
      "\u001b[0;32m<ipython-input-9-2e2f0a4ee10f>\u001b[0m in \u001b[0;36m<module>\u001b[0;34m\u001b[0m\n\u001b[0;32m----> 1\u001b[0;31m visualize.plot_funcs_2d.show_landscape(res,\n\u001b[0m\u001b[1;32m      2\u001b[0m                              \u001b[0mplan_keys\u001b[0m\u001b[0;34m=\u001b[0m\u001b[0;34m[\u001b[0m\u001b[0;34m'Jx'\u001b[0m\u001b[0;34m,\u001b[0m \u001b[0;34m'Jz'\u001b[0m\u001b[0;34m]\u001b[0m\u001b[0;34m,\u001b[0m\u001b[0;34m\u001b[0m\u001b[0m\n\u001b[1;32m      3\u001b[0m                              itr=-1, log_scale=True)\n",
      "\u001b[0;31mNameError\u001b[0m: name 'res' is not defined"
     ]
    }
   ],
   "source": [
    "visualize.plot_funcs_2d.show_landscape(res,\n",
    "                             plan_keys=['Jx', 'Jz'],\n",
    "                             itr=-1, log_scale=True)"
   ]
  },
  {
   "cell_type": "code",
   "execution_count": 13,
   "metadata": {},
   "outputs": [],
   "source": [
    "from visualize import plot_funcs_3d"
   ]
  },
  {
   "cell_type": "code",
   "execution_count": 14,
   "metadata": {},
   "outputs": [
    {
     "name": "stdout",
     "output_type": "stream",
     "text": [
      "   o\n",
      "  / \\  ...  |  | \n",
      "-o - o- ... -o--o-\n"
     ]
    }
   ],
   "source": [
    "print('   o')\n",
    "print('  / \\  ...  |  | ')\n",
    "print('-o - o- ... -o--o-')"
   ]
  },
  {
   "cell_type": "code",
   "execution_count": 15,
   "metadata": {},
   "outputs": [],
   "source": [
    "class Animal:\n",
    "    \n",
    "    def __init__(self):\n",
    "        pass\n",
    "    \n",
    "class Dog(Animal):\n",
    "    \n",
    "    def __init__(self):\n",
    "        pass\n",
    "    \n"
   ]
  },
  {
   "cell_type": "code",
   "execution_count": 16,
   "metadata": {},
   "outputs": [],
   "source": [
    "mydog = Dog()\n",
    "mycat = Animal()"
   ]
  },
  {
   "cell_type": "code",
   "execution_count": 17,
   "metadata": {},
   "outputs": [
    {
     "data": {
      "text/plain": [
       "True"
      ]
     },
     "execution_count": 17,
     "metadata": {},
     "output_type": "execute_result"
    }
   ],
   "source": [
    "isinstance(mydog, Dog)"
   ]
  },
  {
   "cell_type": "code",
   "execution_count": 18,
   "metadata": {},
   "outputs": [
    {
     "data": {
      "text/plain": [
       "False"
      ]
     },
     "execution_count": 18,
     "metadata": {},
     "output_type": "execute_result"
    }
   ],
   "source": [
    "isinstance(mycat, Dog)"
   ]
  },
  {
   "cell_type": "code",
   "execution_count": null,
   "metadata": {},
   "outputs": [],
   "source": []
  }
 ],
 "metadata": {
  "kernelspec": {
   "display_name": "Python 3",
   "language": "python",
   "name": "python3"
  },
  "language_info": {
   "codemirror_mode": {
    "name": "ipython",
    "version": 3
   },
   "file_extension": ".py",
   "mimetype": "text/x-python",
   "name": "python",
   "nbconvert_exporter": "python",
   "pygments_lexer": "ipython3",
   "version": "3.7.0"
  }
 },
 "nbformat": 4,
 "nbformat_minor": 2
}
