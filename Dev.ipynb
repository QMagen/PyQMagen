{
 "cells": [
  {
   "cell_type": "code",
   "execution_count": 1,
   "metadata": {},
   "outputs": [],
   "source": [
    "import solver\n",
    "from Models import chain\n",
    "from bayes_opt import BayesianOptimization\n",
    "import numpy as np\n",
    "import matplotlib.pyplot as plt\n",
    "from SubFunc import load_experiment_data"
   ]
  },
  {
   "cell_type": "code",
   "execution_count": 3,
   "metadata": {},
   "outputs": [],
   "source": [
    "experimental_files = {'T':'./Data/demo_data/T.csv',\n",
    "                     'C':'./Data/demo_data/C.csv',\n",
    "                     'Chiz':'./Data/demo_data/Chiz.csv',\n",
    "                     'Chixy':'./Data/demo_data/Chixy.csv'}\n",
    "\n",
    "exp_thermal_data = load_experiment_data(experimental_files)"
   ]
  },
  {
   "cell_type": "code",
   "execution_count": 4,
   "metadata": {},
   "outputs": [],
   "source": [
    "mymodel = chain.UniformSpinChain(l=8)\n",
    "interactions = mymodel.generate_interactions(J=1)"
   ]
  },
  {
   "cell_type": "code",
   "execution_count": 5,
   "metadata": {},
   "outputs": [],
   "source": [
    "mysolver = solver.ED_solver(size=mymodel.l)\n",
    "# mysolver.get_hamiltonian_matrix(interactions)"
   ]
  },
  {
   "cell_type": "code",
   "execution_count": 6,
   "metadata": {},
   "outputs": [],
   "source": [
    "thermal_data = mysolver.forward(interactions, T=exp_thermal_data.T)"
   ]
  },
  {
   "cell_type": "code",
   "execution_count": 7,
   "metadata": {},
   "outputs": [
    {
     "data": {
      "text/plain": [
       "[<matplotlib.lines.Line2D at 0x7ff3c5035090>]"
      ]
     },
     "execution_count": 7,
     "metadata": {},
     "output_type": "execute_result"
    },
    {
     "data": {
      "image/png": "[encoded data removed]",
      "text/plain": [
       "<Figure size 432x288 with 1 Axes>"
      ]
     },
     "metadata": {
      "needs_background": "light"
     },
     "output_type": "display_data"
    }
   ],
   "source": [
    "plt.semilogx(thermal_data.T, thermal_data.Chiz.detach().numpy())"
   ]
  },
  {
   "cell_type": "code",
   "execution_count": 8,
   "metadata": {},
   "outputs": [],
   "source": [
    "from optimizer import BayesianOptimizer"
   ]
  },
  {
   "cell_type": "code",
   "execution_count": 9,
   "metadata": {},
   "outputs": [],
   "source": [
    "Opt = BayesianOptimizer(parameter_space={'J':(-10, 10)},\n",
    "                 n_exp_total=100,\n",
    "                 solver=solver.ED_solver(size=mymodel.l),\n",
    "                 model=mymodel,\n",
    "                 exp_thermal_data=exp_thermal_data)"
   ]
  },
  {
   "cell_type": "code",
   "execution_count": 10,
   "metadata": {
    "scrolled": true
   },
   "outputs": [
    {
     "name": "stdout",
     "output_type": "stream",
     "text": [
      "iteration 0: Loss = 1.5242221204419517, Parameter is {'J': -5.1212461428157035}\n",
      "iteration 1: Loss = 3.1630697877741594, Parameter is {'J': 1.2955666264217065}\n",
      "iteration 2: Loss = 1.7758728384310312, Parameter is {'J': 2.1426611010568983}\n",
      "iteration 3: Loss = 1.8146226891745567, Parameter is {'J': -1.499588110330981}\n",
      "iteration 4: Loss = 0.9967066087942806, Parameter is {'J': 7.485704973032014}\n",
      "iteration 5: Loss = 1.5129468729069155, Parameter is {'J': -5.242413231489989}\n",
      "iteration 6: Loss = 1.2736903556833146, Parameter is {'J': 0.1538465816144079}\n",
      "iteration 7: Loss = 1.5083059953551063, Parameter is {'J': -5.293475247904333}\n",
      "iteration 8: Loss = 0.9527979183425054, Parameter is {'J': 9.603377322688878}\n",
      "iteration 9: Loss = 1.802520620054698, Parameter is {'J': -2.8168473712976594}\n",
      "iteration 10: Loss = 2.8190760566625497, Parameter is {'J': 1.102965078073249}\n",
      "iteration 11: Loss = 2.738991703288453, Parameter is {'J': 1.4437482211526653}\n",
      "iteration 12: Loss = 1.2499156372085178, Parameter is {'J': 3.7899383387304693}\n",
      "iteration 13: Loss = 1.2653955340419472, Parameter is {'J': -10.0}\n",
      "iteration 14: Loss = 2.8191043527791937, Parameter is {'J': 1.102972710206398}\n",
      "iteration 15: Loss = 1.3532847900948626, Parameter is {'J': -7.608958431318094}\n",
      "iteration 16: Loss = 1.0766383342367123, Parameter is {'J': 5.589380835367063}\n",
      "iteration 17: Loss = 1.6695369516934229, Parameter is {'J': -3.82485313479677}\n",
      "iteration 18: Loss = 1.303883342984437, Parameter is {'J': -8.78393263912943}\n",
      "iteration 19: Loss = 1.417177912684228, Parameter is {'J': -6.4760301087131005}\n",
      "iteration 20: Loss = 1.5986826270701417, Parameter is {'J': -0.770119745206916}\n",
      "iteration 21: Loss = 1.4456391683199044, Parameter is {'J': 2.874410998710958}\n",
      "iteration 22: Loss = 1.8585530809206738, Parameter is {'J': -2.157513456856896}\n",
      "iteration 23: Loss = 0.9712034043791995, Parameter is {'J': 8.537482910776232}\n",
      "iteration 24: Loss = 1.0297508796224204, Parameter is {'J': 6.5286287754448615}\n",
      "iteration 25: Loss = 1.1455748006720823, Parameter is {'J': 4.669055780152655}\n",
      "iteration 26: Loss = 3.2117960797121854, Parameter is {'J': 1.255592340448267}\n",
      "iteration 27: Loss = 1.5986102860910116, Parameter is {'J': -4.407187244625947}\n",
      "iteration 28: Loss = 1.7381338553587427, Parameter is {'J': -3.3093866040392625}\n",
      "iteration 29: Loss = 1.2834417719783746, Parameter is {'J': -9.387537830292892}\n",
      "iteration 30: Loss = 1.3271474887706505, Parameter is {'J': -8.188181611670132}\n",
      "iteration 31: Loss = 1.3835778653437443, Parameter is {'J': -7.029720415868397}\n",
      "iteration 32: Loss = 1.4547943826107856, Parameter is {'J': -5.94072904994039}\n",
      "iteration 33: Loss = 0.9473767992570359, Parameter is {'J': 9.994390000569155}\n",
      "iteration 34: Loss = 1.3778153917161542, Parameter is {'J': -0.32299100098381395}\n",
      "iteration 35: Loss = 0.9828904668870811, Parameter is {'J': 8.009146147916077}\n",
      "iteration 36: Loss = 1.3324712540432275, Parameter is {'J': 3.3259407254923374}\n",
      "iteration 37: Loss = 0.9613299935769137, Parameter is {'J': 9.066074583649346}\n",
      "iteration 38: Loss = 3.2063978444701857, Parameter is {'J': 1.2350580608441764}\n",
      "iteration 39: Loss = 1.0511740325105408, Parameter is {'J': 6.0545320260707705}\n",
      "iteration 40: Loss = 1.1085497586815367, Parameter is {'J': 5.114138578321956}\n",
      "iteration 41: Loss = 1.7323425257466603, Parameter is {'J': -1.1527559750919956}\n",
      "iteration 42: Loss = 1.0117396851281473, Parameter is {'J': 7.008121244861169}\n",
      "iteration 43: Loss = 1.1920165868468031, Parameter is {'J': 4.223684651762081}\n",
      "iteration 44: Loss = 1.6178194729137967, Parameter is {'J': 0.6168398825358672}\n",
      "iteration 45: Loss = 1.8386761709993429, Parameter is {'J': -2.479509766895558}\n",
      "iteration 46: Loss = 1.5875196934267486, Parameter is {'J': 2.4861627742300936}\n",
      "iteration 47: Loss = 2.1031280034306596, Parameter is {'J': 1.7840113873594472}\n",
      "iteration 48: Loss = 1.8538067799767273, Parameter is {'J': -1.8271135368102502}\n",
      "iteration 49: Loss = 1.5647847543084021, Parameter is {'J': -4.715469152807192}\n",
      "iteration 50: Loss = 1.273879857208048, Parameter is {'J': -9.701538998572307}\n",
      "iteration 51: Loss = 1.635099396940956, Parameter is {'J': -4.098603102512168}\n",
      "iteration 52: Loss = 1.3151458136055538, Parameter is {'J': -8.48479611905627}\n",
      "iteration 53: Loss = 1.3679324783924052, Parameter is {'J': -7.318028387992694}\n",
      "iteration 54: Loss = 1.4760251917772813, Parameter is {'J': -5.669977280060959}\n",
      "iteration 55: Loss = 1.7704381904223072, Parameter is {'J': -3.068440451009746}\n",
      "iteration 56: Loss = 1.2932626371128735, Parameter is {'J': -9.08693029020226}\n",
      "iteration 57: Loss = 3.2124369984450825, Parameter is {'J': 1.252247429409989}\n",
      "iteration 58: Loss = 1.4005849649551165, Parameter is {'J': -6.739269423633807}\n",
      "iteration 59: Loss = 1.3397024761265874, Parameter is {'J': -7.899456305834118}\n",
      "iteration 60: Loss = 1.7032946095121637, Parameter is {'J': -3.568064890143427}\n",
      "iteration 61: Loss = 2.0990478699773143, Parameter is {'J': 0.8658908774881944}\n",
      "iteration 62: Loss = 0.9767717979437691, Parameter is {'J': 8.274327689527471}\n",
      "iteration 63: Loss = 1.4354628926145048, Parameter is {'J': -6.206073776920126}\n",
      "iteration 64: Loss = 0.9569316547678346, Parameter is {'J': 9.332337581669051}\n",
      "iteration 65: Loss = 3.2113870910946094, Parameter is {'J': 1.256900126645279}\n",
      "iteration 66: Loss = 1.2411617745429873, Parameter is {'J': -0.08566155740622605}\n",
      "iteration 67: Loss = 3.203712080471184, Parameter is {'J': 1.2320244965697373}\n",
      "iteration 68: Loss = 1.288545979401321, Parameter is {'J': 3.5544348008629623}\n",
      "iteration 69: Loss = 0.989818013112143, Parameter is {'J': 7.734917431575759}\n",
      "iteration 70: Loss = 1.0918445469211182, Parameter is {'J': 5.350271972655509}\n",
      "iteration 71: Loss = 1.0203245855407865, Parameter is {'J': 6.7687225760298055}\n",
      "iteration 72: Loss = 3.212446514522344, Parameter is {'J': 1.2521537907196123}\n",
      "iteration 73: Loss = 1.5060547144649705, Parameter is {'J': -0.5613023629883536}\n",
      "iteration 74: Loss = 0.9660158734927657, Parameter is {'J': 8.804317680789893}\n",
      "iteration 75: Loss = 3.212099251704649, Parameter is {'J': 1.2543644356378092}\n",
      "iteration 76: Loss = 2.3629973003319718, Parameter is {'J': 1.6100723014580876}\n",
      "iteration 77: Loss = 1.1675761336471058, Parameter is {'J': 4.444909009343975}\n",
      "iteration 78: Loss = 1.3872350565041893, Parameter is {'J': 3.0866716339446025}\n",
      "iteration 79: Loss = 3.2123214732029317, Parameter is {'J': 1.2531516887485967}\n",
      "iteration 80: Loss = 1.040526771706886, Parameter is {'J': 6.279009467454319}\n",
      "iteration 81: Loss = 1.3392562316196865, Parameter is {'J': 0.3925512911395064}\n",
      "iteration 82: Loss = 3.2080651103929276, Parameter is {'J': 1.2372881753927008}\n",
      "iteration 83: Loss = 3.2120120418507994, Parameter is {'J': 1.254752059961712}\n",
      "iteration 84: Loss = 3.183220099204136, Parameter is {'J': 1.2168089281598782}\n",
      "iteration 85: Loss = 1.7787429539677677, Parameter is {'J': -1.3270285812927707}\n",
      "iteration 86: Loss = 3.211968668442758, Parameter is {'J': 1.2549328629716427}\n",
      "iteration 87: Loss = 1.0040512981517278, Parameter is {'J': 7.242094226647243}\n",
      "iteration 88: Loss = 1.9123387644780565, Parameter is {'J': 1.966695575550517}\n",
      "iteration 89: Loss = 3.2123486024408456, Parameter is {'J': 1.2529666426334813}\n",
      "iteration 90: Loss = 1.0634006034542502, Parameter is {'J': 5.819836861922168}\n",
      "iteration 91: Loss = 3.2125267811091422, Parameter is {'J': 1.250974399095897}\n",
      "iteration 92: Loss = 1.8600511986403494, Parameter is {'J': -1.993777709677918}\n",
      "iteration 93: Loss = 3.21139183752605, Parameter is {'J': 1.2568863874775555}\n",
      "iteration 94: Loss = 0.9497405949360335, Parameter is {'J': 9.818522323969713}\n",
      "iteration 95: Loss = 3.2120268426715555, Parameter is {'J': 1.2458732529454952}\n",
      "iteration 96: Loss = 1.5133886364356917, Parameter is {'J': 2.6702891420104624}\n",
      "iteration 97: Loss = 3.2109414933414206, Parameter is {'J': 1.2580819426454788}\n",
      "iteration 98: Loss = 3.212290106652985, Parameter is {'J': 1.2472026554325453}\n",
      "iteration 99: Loss = 1.1260626077724614, Parameter is {'J': 4.891631876679515}\n"
     ]
    }
   ],
   "source": [
    "Opt.minimize()"
   ]
  }
 ],
 "metadata": {
  "kernelspec": {
   "display_name": "Python 3",
   "language": "python",
   "name": "python3"
  },
  "language_info": {
   "codemirror_mode": {
    "name": "ipython",
    "version": 3
   },
   "file_extension": ".py",
   "mimetype": "text/x-python",
   "name": "python",
   "nbconvert_exporter": "python",
   "pygments_lexer": "ipython3",
   "version": "3.7.4"
  }
 },
 "nbformat": 4,
 "nbformat_minor": 2
}
