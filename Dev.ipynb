{
 "cells": [
  {
   "cell_type": "code",
   "execution_count": 2,
   "metadata": {},
   "outputs": [],
   "source": [
    "import magen.solver as solver\n",
    "from magen.Models import chain\n",
    "# from bayes_opt import BayesianOptimization\n",
    "import numpy as np\n",
    "# import matplotlib.pyplot as plt\n",
    "from magen.SubFunc import load_experiment_data"
   ]
  },
  {
   "cell_type": "code",
   "execution_count": 3,
   "metadata": {},
   "outputs": [],
   "source": [
    "experimental_files = {'T':'./Data/demo_data/T.csv',\n",
    "                     'C':'./Data/demo_data/C.csv',\n",
    "                     'Chiz':'./Data/demo_data/Chiz.csv',\n",
    "                     'Chixy':'./Data/demo_data/Chixy.csv'}\n",
    "\n",
    "exp_thermal_data = load_experiment_data(experimental_files)"
   ]
  },
  {
   "cell_type": "code",
   "execution_count": 4,
   "metadata": {},
   "outputs": [],
   "source": [
    "mymodel = chain.UniformSpinChain(l=8)\n",
    "interactions = mymodel.generate_interactions(J=1)"
   ]
  },
  {
   "cell_type": "code",
   "execution_count": 5,
   "metadata": {},
   "outputs": [],
   "source": [
    "mysolver = solver.ED_solver(size=mymodel.l)\n",
    "# mysolver.get_hamiltonian_matrix(interactions)"
   ]
  },
  {
   "cell_type": "code",
   "execution_count": 6,
   "metadata": {},
   "outputs": [],
   "source": [
    "thermal_data = mysolver.forward(interactions, T=exp_thermal_data.T)"
   ]
  },
  {
   "cell_type": "code",
   "execution_count": 7,
   "metadata": {},
   "outputs": [],
   "source": [
    "from magen.optimizer import BayesianOptimizer"
   ]
  },
  {
   "cell_type": "code",
   "execution_count": 8,
   "metadata": {},
   "outputs": [],
   "source": [
    "Opt = BayesianOptimizer(parameter_space={'J':(-10, 10)},\n",
    "                 n_exp_total=100,\n",
    "                 solver=solver.ED_solver(size=mymodel.l),\n",
    "                 model=mymodel,\n",
    "                 exp_thermal_data=exp_thermal_data)"
   ]
  },
  {
   "cell_type": "code",
   "execution_count": null,
   "metadata": {
    "scrolled": true
   },
   "outputs": [
    {
     "name": "stdout",
     "output_type": "stream",
     "text": [
      "iteration 0: Loss = 1.6714629130717062, Parameter is {'J': -3.809941798090395}\n",
      "iteration 1: Loss = 1.3170338444157268, Parameter is {'J': -8.436691727978857}\n",
      "iteration 2: Loss = 1.0703755517334195, Parameter is {'J': 5.695593108157739}\n",
      "iteration 3: Loss = 1.3363260674752808, Parameter is {'J': -7.975088560533727}\n",
      "iteration 4: Loss = 1.5855191462825073, Parameter is {'J': -4.523665903704699}\n",
      "iteration 5: Loss = 1.8394412308479828, Parameter is {'J': 2.0548453676903407}\n",
      "iteration 6: Loss = 1.00419401564332, Parameter is {'J': 7.237564487818812}\n",
      "iteration 7: Loss = 1.6296237370133053, Parameter is {'J': 2.395963158789174}\n",
      "iteration 8: Loss = 1.3995375172917994, Parameter is {'J': 3.0386662743485395}\n",
      "iteration 9: Loss = 1.7459825419938997, Parameter is {'J': -1.2003762433319753}\n",
      "iteration 10: Loss = 2.952181584371334, Parameter is {'J': 1.371801337530116}\n",
      "iteration 11: Loss = 2.937466716485883, Parameter is {'J': 1.1348311445101078}\n",
      "iteration 12: Loss = 3.2029041766676136, Parameter is {'J': 1.2696177141759613}\n",
      "iteration 13: Loss = 1.423384721147858, Parameter is {'J': 0.4749490211301399}\n",
      "iteration 14: Loss = 1.312565195155521, Parameter is {'J': 3.424904681017292}\n",
      "iteration 15: Loss = 1.4854482161132359, Parameter is {'J': -5.555983425316018}\n",
      "iteration 16: Loss = 2.937337160261392, Parameter is {'J': 1.1347960254462635}\n",
      "iteration 17: Loss = 0.9473058687093017, Parameter is {'J': 9.999803825242605}\n",
      "iteration 18: Loss = 1.2653955340418308, Parameter is {'J': -10.0}\n",
      "iteration 19: Loss = 3.2095676819831773, Parameter is {'J': 1.239690282681785}\n",
      "iteration 20: Loss = 1.8400130622831032, Parameter is {'J': -2.4642589965088524}\n",
      "iteration 21: Loss = 1.3999243971770805, Parameter is {'J': -6.750142561738784}\n",
      "iteration 22: Loss = 0.9697291567185129, Parameter is {'J': 8.611052017859594}\n",
      "iteration 23: Loss = 1.1610861918563211, Parameter is {'J': 4.508357516536134}\n",
      "iteration 24: Loss = 1.4482434988468702, Parameter is {'J': -0.44828880224543255}\n",
      "iteration 25: Loss = 1.7660368143407037, Parameter is {'J': -3.1016663473412143}\n",
      "iteration 26: Loss = 1.8547295662089804, Parameter is {'J': -1.842234608782574}\n",
      "iteration 27: Loss = 1.289406717156942, Parameter is {'J': -9.202478766572955}\n",
      "iteration 28: Loss = 1.0326528117933957, Parameter is {'J': 6.458969999192419}\n",
      "iteration 29: Loss = 1.4399240726501883, Parameter is {'J': -6.143109319739642}\n",
      "iteration 30: Loss = 1.3659369536348394, Parameter is {'J': -7.356405059340229}\n",
      "iteration 31: Loss = 0.9851467320501355, Parameter is {'J': 7.9169972522685645}\n",
      "iteration 32: Loss = 0.9574793903487586, Parameter is {'J': 9.297996067987423}\n",
      "iteration 33: Loss = 1.5329204611633327, Parameter is {'J': -5.030428186576441}\n",
      "iteration 34: Loss = 1.1098919333335282, Parameter is {'J': 5.096234169586111}\n",
      "iteration 35: Loss = 1.2249949137841785, Parameter is {'J': 3.963074789116622}\n",
      "iteration 36: Loss = 1.2122598227689414, Parameter is {'J': 0.005576939022128968}\n",
      "iteration 37: Loss = 1.7189440161439447, Parameter is {'J': -3.451465254359121}\n",
      "iteration 38: Loss = 1.6276442089941505, Parameter is {'J': -0.8435853552549375}\n",
      "iteration 39: Loss = 2.2102967414648567, Parameter is {'J': 1.7040274245210778}\n",
      "iteration 40: Loss = 1.8586973830035374, Parameter is {'J': -2.1525384546217596}\n",
      "iteration 41: Loss = 1.2768823792998159, Parameter is {'J': -9.6005145095715}\n",
      "iteration 42: Loss = 1.6264845695542323, Parameter is {'J': -4.169529977202144}\n",
      "iteration 43: Loss = 1.818735104740195, Parameter is {'J': -1.5233183369563257}\n",
      "iteration 44: Loss = 1.3027583709978605, Parameter is {'J': -8.815020932632233}\n",
      "iteration 45: Loss = 1.8061247563135054, Parameter is {'J': -2.786929374496583}\n",
      "iteration 46: Loss = 1.0174318585431779, Parameter is {'J': 6.847019821448377}\n",
      "iteration 47: Loss = 1.0505835310151743, Parameter is {'J': 6.0664621578992985}\n",
      "iteration 48: Loss = 1.9901494811886196, Parameter is {'J': 0.8180459822324497}\n",
      "iteration 49: Loss = 1.4984053608219887, Parameter is {'J': 2.7121265290514245}\n",
      "iteration 50: Loss = 1.4191209122052455, Parameter is {'J': -6.446388591217788}\n",
      "iteration 51: Loss = 0.9520982082978852, Parameter is {'J': 9.651455248444208}\n",
      "iteration 52: Loss = 0.9769811352994184, Parameter is {'J': 8.264859937746486}\n",
      "iteration 53: Loss = 1.3507833885765848, Parameter is {'J': -7.660878960839557}\n"
     ]
    }
   ],
   "source": [
    "Opt.minimize()"
   ]
  },
  {
   "cell_type": "code",
   "execution_count": null,
   "metadata": {},
   "outputs": [],
   "source": []
  }
 ],
 "metadata": {
  "kernelspec": {
   "display_name": "Python 3",
   "language": "python",
   "name": "python3"
  },
  "language_info": {
   "codemirror_mode": {
    "name": "ipython",
    "version": 3
   },
   "file_extension": ".py",
   "mimetype": "text/x-python",
   "name": "python",
   "nbconvert_exporter": "python",
   "pygments_lexer": "ipython3",
   "version": "3.7.0"
  }
 },
 "nbformat": 4,
 "nbformat_minor": 2
}
