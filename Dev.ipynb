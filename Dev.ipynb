{
 "cells": [
  {
   "cell_type": "code",
   "execution_count": 10,
   "metadata": {},
   "outputs": [],
   "source": [
    "import magen.solver as solver\n",
    "from magen.Models import chain\n",
    "from magen.optimizer import BayesianOptimizer\n",
    "# from bayes_opt import BayesianOptimization\n",
    "import numpy as np\n",
    "# import matplotlib.pyplot as plt\n",
    "from magen.SubFunc import load_experiment_data"
   ]
  },
  {
   "cell_type": "code",
   "execution_count": 11,
   "metadata": {},
   "outputs": [],
   "source": [
    "experimental_files = {'T':'./Data/demo_data/T.csv',\n",
    "                     'C':'./Data/demo_data/C.csv',\n",
    "                     'Chiz':'./Data/demo_data/Chiz.csv',\n",
    "                     'Chixy':'./Data/demo_data/Chixy.csv'}\n",
    "\n",
    "exp_thermal_data = load_experiment_data(experimental_files)"
   ]
  },
  {
   "cell_type": "code",
   "execution_count": 12,
   "metadata": {},
   "outputs": [
    {
     "name": "stdout",
     "output_type": "stream",
     "text": [
      "[['x', 'x', 0, 1, tensor(1)], ['y', 'y', 0, 1, tensor(1)], ['z', 'z', 0, 1, tensor(1)], ['x', 'x', 1, 2, tensor(1)], ['y', 'y', 1, 2, tensor(1)], ['z', 'z', 1, 2, tensor(1)], ['x', 'x', 2, 3, tensor(1)], ['y', 'y', 2, 3, tensor(1)], ['z', 'z', 2, 3, tensor(1)], ['x', 'x', 3, 4, tensor(1)], ['y', 'y', 3, 4, tensor(1)], ['z', 'z', 3, 4, tensor(1)], ['x', 'x', 4, 5, tensor(1)], ['y', 'y', 4, 5, tensor(1)], ['z', 'z', 4, 5, tensor(1)], ['x', 'x', 5, 6, tensor(1)], ['y', 'y', 5, 6, tensor(1)], ['z', 'z', 5, 6, tensor(1)], ['x', 'x', 6, 7, tensor(1)], ['y', 'y', 6, 7, tensor(1)], ['z', 'z', 6, 7, tensor(1)], ['x', 'x', 7, 0, tensor(1)], ['y', 'y', 7, 0, tensor(1)], ['z', 'z', 7, 0, tensor(1)]]\n"
     ]
    }
   ],
   "source": [
    "mymodel = chain.UniformSpinChain(l=8)\n",
    "interactions = mymodel.generate_interactions(J=1)\n",
    "print(interactions)"
   ]
  },
  {
   "cell_type": "code",
   "execution_count": 17,
   "metadata": {},
   "outputs": [],
   "source": [
    "mysolver = solver.ED_solver(size=mymodel.l)\n",
    "# mysolver.get_hamiltonian_matrix(interactions)"
   ]
  },
  {
   "cell_type": "code",
   "execution_count": 15,
   "metadata": {},
   "outputs": [
    {
     "data": {
      "text/plain": [
       "8"
      ]
     },
     "execution_count": 15,
     "metadata": {},
     "output_type": "execute_result"
    }
   ],
   "source": [
    "mymodel.l"
   ]
  },
  {
   "cell_type": "code",
   "execution_count": 18,
   "metadata": {},
   "outputs": [],
   "source": [
    "thermal_data = mysolver.forward(interactions, T=exp_thermal_data.T)"
   ]
  },
  {
   "cell_type": "code",
   "execution_count": 7,
   "metadata": {},
   "outputs": [],
   "source": []
  },
  {
   "cell_type": "code",
   "execution_count": 19,
   "metadata": {},
   "outputs": [],
   "source": [
    "Opt = BayesianOptimizer(parameter_space={'J':(-10, 10)},\n",
    "                 n_exp_total=100,\n",
    "                 solver=solver.ED_solver(size=mymodel.l),\n",
    "                 model=mymodel,\n",
    "                 exp_thermal_data=exp_thermal_data)"
   ]
  },
  {
   "cell_type": "code",
   "execution_count": 20,
   "metadata": {
    "scrolled": true
   },
   "outputs": [
    {
     "name": "stdout",
     "output_type": "stream",
     "text": [
      "iteration 0: Loss = 1.036401554995852, Parameter is {'J': 6.371699940968199}\n",
      "iteration 1: Loss = 1.7946182732617753, Parameter is {'J': -2.880943326439052}\n",
      "iteration 2: Loss = 1.7205044167493038, Parameter is {'J': -1.1132559954583794}\n",
      "iteration 3: Loss = 1.1188906040749815, Parameter is {'J': 4.979930248598084}\n",
      "iteration 4: Loss = 1.782924937203674, Parameter is {'J': 0.7143110826886616}\n",
      "iteration 5: Loss = 1.3662703616252223, Parameter is {'J': 3.1730619124279595}\n",
      "iteration 6: Loss = 1.0287912464423425, Parameter is {'J': 6.552084499156699}\n",
      "iteration 7: Loss = 1.4655104969274282, Parameter is {'J': -5.801550123599881}\n",
      "iteration 8: Loss = 1.3250514782441958, Parameter is {'J': -8.238457229331221}\n",
      "iteration 9: Loss = 1.1003163786903072, Parameter is {'J': 5.227341378800501}\n",
      "iteration 10: Loss = 1.7227909461250257, Parameter is {'J': -3.422938314536157}\n",
      "iteration 11: Loss = 1.8404307953650227, Parameter is {'J': -2.459415720796536}\n",
      "iteration 12: Loss = 1.8569812219662558, Parameter is {'J': -2.2027542535622424}\n",
      "iteration 13: Loss = 0.9473045702954662, Parameter is {'J': 9.999902373611825}\n",
      "iteration 14: Loss = 1.2654047909203, Parameter is {'J': -9.99966371998536}\n",
      "iteration 15: Loss = 2.774496059507608, Parameter is {'J': 1.431124555669383}\n",
      "iteration 16: Loss = 2.249373089296543, Parameter is {'J': 1.6779770204436302}\n",
      "iteration 17: Loss = 3.13038179364776, Parameter is {'J': 1.3101008338181757}\n",
      "iteration 18: Loss = 1.7205339973293454, Parameter is {'J': -1.1133528287117116}\n",
      "iteration 19: Loss = 3.179825156346158, Parameter is {'J': 1.2148800610364692}\n",
      "iteration 20: Loss = 3.2119843809934787, Parameter is {'J': 1.24569488123643}\n",
      "iteration 21: Loss = 0.9774848902065914, Parameter is {'J': 8.242197885983778}\n",
      "iteration 22: Loss = 1.588695188850519, Parameter is {'J': -4.495095511261857}\n",
      "iteration 23: Loss = 1.3862132903960078, Parameter is {'J': -6.9832263069147675}\n",
      "iteration 24: Loss = 1.3365618035790858, Parameter is {'J': -0.2526575178267514}\n",
      "iteration 25: Loss = 1.6683684563227656, Parameter is {'J': 2.3205912413883496}\n",
      "iteration 26: Loss = 1.213626900457733, Parameter is {'J': 4.048520292068291}\n",
      "iteration 27: Loss = 1.2925276542993103, Parameter is {'J': -9.10871716920299}\n",
      "iteration 28: Loss = 0.9814489772087415, Parameter is {'J': 8.069547199359977}\n",
      "iteration 29: Loss = 0.9605094409906302, Parameter is {'J': 9.114153337195175}\n",
      "iteration 30: Loss = 0.9624280567276555, Parameter is {'J': 9.00281827334624}\n",
      "iteration 31: Loss = 1.523310032851754, Parameter is {'J': -5.130900616670702}\n",
      "iteration 32: Loss = 1.8375366869256764, Parameter is {'J': -1.6520306738962542}\n",
      "iteration 33: Loss = 1.6535791981372323, Parameter is {'J': -3.9499197479896004}\n",
      "iteration 34: Loss = 1.0020674768154492, Parameter is {'J': 7.305832602197469}\n",
      "iteration 35: Loss = 1.3535090929348044, Parameter is {'J': -7.604335828297066}\n",
      "iteration 36: Loss = 1.4231626906953947, Parameter is {'J': -6.38547998944752}\n",
      "iteration 37: Loss = 1.269024985052094, Parameter is {'J': 0.24641367896422395}\n",
      "iteration 38: Loss = 1.0651740435000059, Parameter is {'J': 5.787623041504286}\n",
      "iteration 39: Loss = 1.5709783641824326, Parameter is {'J': -0.7036631984968782}\n",
      "iteration 40: Loss = 1.4914582372180991, Parameter is {'J': 2.732121694822558}\n",
      "iteration 41: Loss = 1.278314170099782, Parameter is {'J': -9.553138532524944}\n",
      "iteration 42: Loss = 1.3081696585890608, Parameter is {'J': -8.667546279407844}\n",
      "iteration 43: Loss = 1.2788825814385636, Parameter is {'J': 3.6099951995793447}\n",
      "iteration 44: Loss = 1.1620109773255096, Parameter is {'J': 4.499186018956635}\n",
      "iteration 45: Loss = 1.8932547718973216, Parameter is {'J': 1.9886104259477015}\n",
      "iteration 46: Loss = 1.4935449821900597, Parameter is {'J': -5.4608138828932535}\n",
      "iteration 47: Loss = 1.5887015726702431, Parameter is {'J': -4.495038695889453}\n",
      "iteration 48: Loss = 0.9530319192823311, Parameter is {'J': 9.587447499556689}\n",
      "iteration 49: Loss = 1.5556539136776744, Parameter is {'J': -4.803059733137427}\n",
      "iteration 50: Loss = 2.5018337951289635, Parameter is {'J': 1.011859889051106}\n",
      "iteration 51: Loss = 1.8582550024073845, Parameter is {'J': -1.917832657736307}\n",
      "iteration 52: Loss = 0.9917532425630826, Parameter is {'J': 7.662696420924043}\n",
      "iteration 53: Loss = 1.3694368950311229, Parameter is {'J': -7.289346082411845}\n",
      "iteration 54: Loss = 1.7589119543997096, Parameter is {'J': -3.1550914992322436}\n",
      "iteration 55: Loss = 1.0140268488704234, Parameter is {'J': 6.942225487883455}\n",
      "iteration 56: Loss = 1.3385694315798717, Parameter is {'J': -7.924678065212644}\n",
      "iteration 57: Loss = 1.7902658633242565, Parameter is {'J': -1.3773008360842436}\n",
      "iteration 58: Loss = 1.44291929097495, Parameter is {'J': -6.101434353775619}\n",
      "iteration 59: Loss = 1.6217932730265285, Parameter is {'J': -4.208625397395744}\n",
      "iteration 60: Loss = 0.9696671406574136, Parameter is {'J': 8.614184424667556}\n",
      "iteration 61: Loss = 1.4037476562711055, Parameter is {'J': -6.687641865828306}\n",
      "iteration 62: Loss = 3.2105906761443608, Parameter is {'J': 1.2589007866176125}\n",
      "iteration 63: Loss = 1.6879696299098637, Parameter is {'J': -3.683539425641116}\n",
      "iteration 64: Loss = 1.0510072049623855, Parameter is {'J': 6.057896827190966}\n",
      "iteration 65: Loss = 1.2123156414692384, Parameter is {'J': -0.006475133251132803}\n",
      "iteration 66: Loss = 1.0817301899668645, Parameter is {'J': 5.506483848537529}\n",
      "iteration 67: Loss = 1.271365871564311, Parameter is {'J': -9.787926126987738}\n",
      "iteration 68: Loss = 1.8195709040892432, Parameter is {'J': -2.670119698541864}\n",
      "iteration 69: Loss = 1.4232464826183628, Parameter is {'J': 2.951278636881513}\n",
      "iteration 70: Loss = 1.4471655817577562, Parameter is {'J': 0.4948166983688864}\n",
      "iteration 71: Loss = 1.470621304324239, Parameter is {'J': -0.4906918776784721}\n",
      "iteration 72: Loss = 1.3001974015623006, Parameter is {'J': -8.886656344238343}\n",
      "iteration 73: Loss = 1.1862867327565323, Parameter is {'J': 4.273196457919223}\n",
      "iteration 74: Loss = 3.2120105244504003, Parameter is {'J': 1.2458038415897654}\n",
      "iteration 75: Loss = 3.208401093977506, Parameter is {'J': 1.2628795153236432}\n",
      "iteration 76: Loss = 1.3175409329175045, Parameter is {'J': 3.3994924516035994}\n",
      "iteration 77: Loss = 1.5752226994631782, Parameter is {'J': 2.514322522560711}\n",
      "iteration 78: Loss = 1.1388176981237619, Parameter is {'J': 4.7433875530831475}\n",
      "iteration 79: Loss = 1.654469427752441, Parameter is {'J': -0.9156002989366705}\n",
      "iteration 80: Loss = 3.212290048458207, Parameter is {'J': 1.247202299653278}\n",
      "iteration 81: Loss = 0.949949448154424, Parameter is {'J': 9.803396440840242}\n",
      "iteration 82: Loss = 1.3167738648655063, Parameter is {'J': -8.443282390630555}\n",
      "iteration 83: Loss = 1.285168144549177, Parameter is {'J': -9.333163245574994}\n",
      "iteration 84: Loss = 3.2120516817239224, Parameter is {'J': 1.245980924481266}\n",
      "iteration 85: Loss = 1.244211481012301, Parameter is {'J': 3.8279620350198904}\n",
      "iteration 86: Loss = 3.2107063063217036, Parameter is {'J': 1.2586396051640278}\n",
      "iteration 87: Loss = 2.958641129013792, Parameter is {'J': 1.1406032509014565}\n",
      "iteration 88: Loss = 2.0497021558987525, Parameter is {'J': 1.8293085067092125}\n",
      "iteration 89: Loss = 3.212151716421552, Parameter is {'J': 1.2464456445615095}\n",
      "iteration 90: Loss = 0.9564655287301236, Parameter is {'J': 9.361839901114262}\n",
      "iteration 91: Loss = 3.211869524658406, Parameter is {'J': 1.2452441572158524}\n",
      "iteration 92: Loss = 3.208942044084944, Parameter is {'J': 1.262019443838394}\n",
      "iteration 93: Loss = 3.2120045451837806, Parameter is {'J': 1.2457786554047328}\n",
      "iteration 94: Loss = 3.209804432210867, Parameter is {'J': 1.2605044776501089}\n",
      "iteration 95: Loss = 3.2114037627992063, Parameter is {'J': 1.243727723021216}\n",
      "iteration 96: Loss = 1.4793809995628187, Parameter is {'J': -5.628969112715286}\n",
      "iteration 97: Loss = 3.2118110496093943, Parameter is {'J': 1.2450295506681925}\n",
      "iteration 98: Loss = 0.9867334469871358, Parameter is {'J': 7.8538726764709175}\n",
      "iteration 99: Loss = 3.2111655407395157, Parameter is {'J': 1.2575114883966343}\n"
     ]
    }
   ],
   "source": [
    "Opt.minimize()"
   ]
  },
  {
   "cell_type": "code",
   "execution_count": null,
   "metadata": {},
   "outputs": [],
   "source": []
  }
 ],
 "metadata": {
  "kernelspec": {
   "display_name": "Python 3",
   "language": "python",
   "name": "python3"
  },
  "language_info": {
   "codemirror_mode": {
    "name": "ipython",
    "version": 3
   },
   "file_extension": ".py",
   "mimetype": "text/x-python",
   "name": "python",
   "nbconvert_exporter": "python",
   "pygments_lexer": "ipython3",
   "version": "3.7.0"
  }
 },
 "nbformat": 4,
 "nbformat_minor": 2
}
