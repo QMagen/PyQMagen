{
 "cells": [
  {
   "cell_type": "code",
   "execution_count": 1,
   "metadata": {},
   "outputs": [],
   "source": [
    "import magen.solver as solver\n",
    "from magen.models import chain\n",
    "from magen.optimizer import BayesianOptimizer\n",
    "# from bayes_opt import BayesianOptimization\n",
    "import numpy as np\n",
    "import matplotlib.pyplot as plt\n",
    "from magen.aux_func import load_experiment_data"
   ]
  },
  {
   "cell_type": "code",
   "execution_count": 2,
   "metadata": {},
   "outputs": [],
   "source": [
    "from magen import optimizer"
   ]
  },
  {
   "cell_type": "code",
   "execution_count": 3,
   "metadata": {},
   "outputs": [],
   "source": [
    "experimental_files = {'T':'./Data/demo_data/T.csv',\n",
    "                     'C':'./Data/demo_data/C.csv',\n",
    "                     'Chiz':'./Data/demo_data/Chiz.csv',\n",
    "                     'Chixy':'./Data/demo_data/Chixy.csv'}\n",
    "\n",
    "exp_thermal_data = load_experiment_data(experimental_files)"
   ]
  },
  {
   "cell_type": "code",
   "execution_count": 4,
   "metadata": {},
   "outputs": [],
   "source": [
    "mymodel = chain.XYZSpinChain(l=8)\n",
    "interactions = mymodel.generate_interactions(Jx=1., Jz=1., Jy=1.)"
   ]
  },
  {
   "cell_type": "code",
   "execution_count": 5,
   "metadata": {},
   "outputs": [],
   "source": [
    "mysolver = solver.EDSolver(size=mymodel.l)\n",
    "# mysolver.get_hamiltonian_matrix(interactions)"
   ]
  },
  {
   "cell_type": "code",
   "execution_count": 6,
   "metadata": {},
   "outputs": [],
   "source": [
    "thermal_data = mysolver.forward(interactions, T=exp_thermal_data.T, with_chi_para=True)"
   ]
  },
  {
   "cell_type": "code",
   "execution_count": 7,
   "metadata": {},
   "outputs": [
    {
     "data": {
      "text/plain": [
       "[<matplotlib.lines.Line2D at 0x7fcad6215978>]"
      ]
     },
     "execution_count": 7,
     "metadata": {},
     "output_type": "execute_result"
    },
    {
     "data": {
      "image/png": "[encoded data removed]",
      "text/plain": [
       "<Figure size 432x288 with 1 Axes>"
      ]
     },
     "metadata": {
      "needs_background": "light"
     },
     "output_type": "display_data"
    }
   ],
   "source": [
    "plt.semilogx(exp_thermal_data.T, exp_thermal_data.Chixy, 'o')\n",
    "plt.semilogx(exp_thermal_data.T, thermal_data.Chixy.detach())"
   ]
  },
  {
   "cell_type": "code",
   "execution_count": 11,
   "metadata": {},
   "outputs": [],
   "source": [
    "Opt = BayesianOptimizer(parameter_space={'Jx':(-10, 10), 'Jy':(-10, 10), 'Jz':(-10, 10)},\n",
    "                        n_exp_total=300,\n",
    "                        solver=solver.EDSolver(size=mymodel.l, cal_chi_para=True),\n",
    "                        model=mymodel,\n",
    "                        T_cut=0,\n",
    "                        exp_thermal_data=exp_thermal_data,\n",
    "                        record_BO = True,\n",
    "                        target_obs=['C', 'Chiz', 'Chixy'])"
   ]
  },
  {
   "cell_type": "code",
   "execution_count": 12,
   "metadata": {},
   "outputs": [],
   "source": [
    "import magen"
   ]
  },
  {
   "cell_type": "code",
   "execution_count": 13,
   "metadata": {
    "scrolled": true
   },
   "outputs": [
    {
     "name": "stdout",
     "output_type": "stream",
     "text": [
      "iteration 1: Loss = -0.0444635975443514, Parameter is {'Jx': 7.020564808029032, 'Jy': -7.771772648003723, 'Jz': 3.4293536832410787}\n",
      "iteration 2: Loss = -0.2007623284030666, Parameter is {'Jx': -0.2527815856675186, 'Jy': 2.067589921872571, 'Jz': -8.44673611280741}\n",
      "iteration 3: Loss = -0.08370713399572739, Parameter is {'Jx': -3.063777515410626, 'Jy': -9.211117653592265, 'Jz': 7.747297152304988}\n",
      "iteration 4: Loss = -0.08156935239934154, Parameter is {'Jx': 4.195338904230896, 'Jy': 7.791085767632808, 'Jz': 4.971056710507714}\n",
      "iteration 5: Loss = -0.09288304671284153, Parameter is {'Jx': -5.0790684313683325, 'Jy': -4.805304073903165, 'Jz': 1.7655305336691658}\n",
      "iteration 6: Loss = -0.28100645963533405, Parameter is {'Jx': -7.940535246929099, 'Jy': -0.7732134945479494, 'Jz': -5.3008906387784505}\n",
      "iteration 7: Loss = -0.255932041908316, Parameter is {'Jx': 1.5574913760388718, 'Jy': -1.4856823187243542, 'Jz': -9.603108656101519}\n",
      "iteration 8: Loss = -0.0494219467855682, Parameter is {'Jx': 3.0189767013776994, 'Jy': 5.133336950329618, 'Jz': 2.7443121520739453}\n",
      "iteration 9: Loss = -0.029222459709636855, Parameter is {'Jx': 4.943095958652531, 'Jy': -2.3672600585268055, 'Jz': 0.5373276219811842}\n",
      "iteration 10: Loss = -0.07063558263157498, Parameter is {'Jx': 4.415940503262831, 'Jy': 9.082154634713618, 'Jz': -6.330967257660538}\n",
      "iteration 11: Loss = -0.018511600703354305, Parameter is {'Jx': 4.2616161916868975, 'Jy': -1.8317172547552383, 'Jz': 4.871017862169081}\n",
      "iteration 12: Loss = -0.10612725292523748, Parameter is {'Jx': 10.0, 'Jy': -0.20861703800845874, 'Jz': 2.881208117430554}\n",
      "iteration 13: Loss = -0.004101470557653032, Parameter is {'Jx': 2.0793193152071563, 'Jy': -3.411940710739672, 'Jz': 3.511420277642745}\n",
      "iteration 14: Loss = -0.0827194729856541, Parameter is {'Jx': -1.2945102840021274, 'Jy': 0.04628098978662093, 'Jz': 7.331248165009168}\n",
      "iteration 15: Loss = -0.015286795828514797, Parameter is {'Jx': 3.0277128060955594, 'Jy': -5.347016286690955, 'Jz': 3.296260466295076}\n",
      "iteration 16: Loss = -0.0018308981953805872, Parameter is {'Jx': 2.321982136020825, 'Jy': -1.7703338516964973, 'Jz': 2.9458467854419332}\n",
      "iteration 17: Loss = -0.02207616706940819, Parameter is {'Jx': 10.0, 'Jy': -10.0, 'Jz': 10.0}\n",
      "iteration 18: Loss = -0.048971657468261875, Parameter is {'Jx': 5.5775458194931105, 'Jy': -8.733738306252974, 'Jz': 9.97509105841634}\n",
      "iteration 19: Loss = -0.0597101015145856, Parameter is {'Jx': -9.158360541578865, 'Jy': 9.622908279181644, 'Jz': 9.045237224398356}\n",
      "iteration 20: Loss = -0.10091398542319915, Parameter is {'Jx': -2.4433489004254016, 'Jy': 10.0, 'Jz': 0.39470716478616674}\n",
      "iteration 21: Loss = -0.0022727770710106376, Parameter is {'Jx': 2.8513210657339645, 'Jy': -2.346273192301977, 'Jz': 2.73946516755381}\n",
      "iteration 22: Loss = -0.03718794525793405, Parameter is {'Jx': 9.890776857886557, 'Jy': 9.444991630143345, 'Jz': -8.62179855147982}\n",
      "iteration 23: Loss = -0.07707568487692631, Parameter is {'Jx': 9.862275148023816, 'Jy': 9.520729559170427, 'Jz': -1.2172298551052414}\n",
      "iteration 24: Loss = -0.001331842982703486, Parameter is {'Jx': 1.2097368733345348, 'Jy': -2.8346246431692768, 'Jz': 2.37451409331066}\n",
      "iteration 25: Loss = -0.055122758533220226, Parameter is {'Jx': 10.0, 'Jy': -5.221482036327775, 'Jz': 10.0}\n",
      "iteration 26: Loss = -0.0012441494056149778, Parameter is {'Jx': 1.8777837431869422, 'Jy': -2.837311830483089, 'Jz': 2.425255448159934}\n",
      "iteration 27: Loss = -0.0002443651615973784, Parameter is {'Jx': 1.509845973814052, 'Jy': -1.8234941991140374, 'Jz': 2.125069325684718}\n",
      "iteration 28: Loss = -0.0022309341250280803, Parameter is {'Jx': 2.620478702208457, 'Jy': -0.6072869623611599, 'Jz': 2.1793206219539147}\n",
      "iteration 29: Loss = -0.10796806649144904, Parameter is {'Jx': 9.943297997157266, 'Jy': 9.648792178022042, 'Jz': 9.663825460812646}\n",
      "iteration 30: Loss = -0.0003556521915720457, Parameter is {'Jx': 1.8026694769420963, 'Jy': -1.5240414834639981, 'Jz': 1.7307243517290676}\n",
      "iteration 31: Loss = -0.00017525222954108024, Parameter is {'Jx': 1.437566981641572, 'Jy': -0.07567336980369, 'Jz': 1.5483933235552136}\n",
      "iteration 32: Loss = -0.00021378309078130665, Parameter is {'Jx': 1.5763725054345912, 'Jy': -0.8956592153776182, 'Jz': 2.0937367568618725}\n",
      "iteration 33: Loss = -0.0004698655648844413, Parameter is {'Jx': 2.0638927852682336, 'Jy': -0.15261416553111573, 'Jz': 1.322780696256915}\n",
      "iteration 34: Loss = -0.12679331555821743, Parameter is {'Jx': -9.946164752235898, 'Jy': -9.653481635148704, 'Jz': 9.99505753415907}\n",
      "iteration 35: Loss = -0.0006445084028026092, Parameter is {'Jx': 1.4445079087551598, 'Jy': -0.4083987483882119, 'Jz': 1.1284882867051351}\n",
      "iteration 36: Loss = -0.06447403147750859, Parameter is {'Jx': -2.8584015306732997, 'Jy': 9.814615676036219, 'Jz': 9.928202183735703}\n",
      "iteration 37: Loss = -0.10166654436190725, Parameter is {'Jx': 0.5165434638724964, 'Jy': -9.927537603422127, 'Jz': 1.9094777367753544}\n",
      "iteration 38: Loss = -0.0338992794084486, Parameter is {'Jx': 9.86986584708131, 'Jy': -9.6675635674748, 'Jz': 7.347811388880636}\n",
      "iteration 39: Loss = -0.0005908241492474706, Parameter is {'Jx': 1.857245741072994, 'Jy': 1.3080645721985373, 'Jz': 0.24101630511244565}\n",
      "iteration 40: Loss = -0.00041035701476046095, Parameter is {'Jx': 1.899145833254341, 'Jy': 0.3987428121456311, 'Jz': 0.8329615013329761}\n",
      "iteration 41: Loss = -0.0003273371484166998, Parameter is {'Jx': 1.1522457661643983, 'Jy': 1.7637893635727693, 'Jz': 1.0508450369301912}\n",
      "iteration 42: Loss = -0.00018436612768687745, Parameter is {'Jx': 1.414362881581539, 'Jy': 1.0308231569584247, 'Jz': 0.8451949619541637}\n",
      "iteration 43: Loss = -0.00029671146329179264, Parameter is {'Jx': 1.5490797310249587, 'Jy': 1.4133944792806865, 'Jz': 0.7271898061774245}\n",
      "iteration 44: Loss = -0.0007080308654302281, Parameter is {'Jx': 1.020090107216575, 'Jy': 2.3705203828052355, 'Jz': 0.4512052266513944}\n",
      "iteration 45: Loss = -0.00024028945767150457, Parameter is {'Jx': 0.5289004812717977, 'Jy': 1.170014345483711, 'Jz': 1.3431638175538403}\n",
      "iteration 46: Loss = -0.0005895718966084554, Parameter is {'Jx': 0.13455860160413735, 'Jy': 2.375615559724757, 'Jz': 0.7204795378648488}\n",
      "iteration 47: Loss = -0.00032816255821596673, Parameter is {'Jx': 0.3683373523176936, 'Jy': 2.2084197025362826, 'Jz': 0.803403801276172}\n",
      "iteration 48: Loss = -0.00017586805168794971, Parameter is {'Jx': 0.7336374306493827, 'Jy': 1.3267872151403317, 'Jz': 1.0559068446414273}\n",
      "iteration 49: Loss = -0.002596345614561931, Parameter is {'Jx': -1.0702493640546678, 'Jy': 2.5922575640069994, 'Jz': 1.7898826958388963}\n",
      "iteration 50: Loss = -0.00018038079233507332, Parameter is {'Jx': 1.4871179315204337, 'Jy': -0.6449351022770244, 'Jz': 1.811312707166607}\n",
      "iteration 51: Loss = -0.0007162357905597741, Parameter is {'Jx': -0.06580613879758879, 'Jy': 2.2506082879701843, 'Jz': 1.5351070128744997}\n",
      "iteration 52: Loss = -0.0026129772698960255, Parameter is {'Jx': -0.8192246216174617, 'Jy': 1.4644995786849524, 'Jz': 1.4821444010571039}\n",
      "iteration 53: Loss = -0.000619112737816554, Parameter is {'Jx': 2.0707137212587217, 'Jy': -1.4832302997053084, 'Jz': 2.1446738157325473}\n",
      "iteration 54: Loss = -5.8995202734932324e-05, Parameter is {'Jx': 1.1306142492302822, 'Jy': 0.3220927521313577, 'Jz': 1.6726398771355164}\n",
      "iteration 55: Loss = -0.00011834731535399178, Parameter is {'Jx': 0.8908528262705406, 'Jy': 0.6965737853454819, 'Jz': 1.4875498797419908}\n",
      "iteration 56: Loss = -0.000589087467216384, Parameter is {'Jx': 0.11177256256880597, 'Jy': -0.5613411318688044, 'Jz': 2.3101631557793}\n",
      "iteration 57: Loss = -0.0002712797009763448, Parameter is {'Jx': 0.870652013451652, 'Jy': 0.5481711721154277, 'Jz': 2.1910213062462027}\n",
      "iteration 58: Loss = -0.00010330047343731594, Parameter is {'Jx': 0.8384463521019008, 'Jy': -1.386767478021353, 'Jz': 2.1676846851005322}\n",
      "iteration 59: Loss = -9.992530963092352e-05, Parameter is {'Jx': 1.183827214834725, 'Jy': -0.6435891216607068, 'Jz': 2.196406248789625}\n",
      "iteration 60: Loss = -6.861077849594092e-05, Parameter is {'Jx': 1.1598593667503394, 'Jy': -0.2670530525640409, 'Jz': 2.0471082444259388}\n",
      "iteration 61: Loss = -0.0001278053299830035, Parameter is {'Jx': 1.2004935286449978, 'Jy': -0.9006679979326915, 'Jz': 1.966583004031433}\n",
      "iteration 62: Loss = -0.07899720676903121, Parameter is {'Jx': 9.913223044545909, 'Jy': 5.176247255980089, 'Jz': -7.809548942720612}\n"
     ]
    },
    {
     "name": "stdout",
     "output_type": "stream",
     "text": [
      "iteration 63: Loss = -2.410679262519793e-05, Parameter is {'Jx': 0.8518179623337971, 'Jy': 0.8573518107557181, 'Jz': 1.732190727256338}\n",
      "iteration 64: Loss = -0.00024103423600537133, Parameter is {'Jx': 0.622274071098257, 'Jy': 0.027796438687563096, 'Jz': 1.8895878660567114}\n",
      "iteration 65: Loss = -1.1130772529817848e-05, Parameter is {'Jx': 0.8893160900087675, 'Jy': 1.0270060355167558, 'Jz': 1.5665559109557883}\n",
      "iteration 66: Loss = -0.00026981755324354407, Parameter is {'Jx': 0.7577987568511357, 'Jy': -0.7232529948839357, 'Jz': 2.46636573722801}\n",
      "iteration 67: Loss = -0.1536791467215112, Parameter is {'Jx': 9.985770167967626, 'Jy': -9.68925063681585, 'Jz': -9.331782234402933}\n",
      "iteration 68: Loss = -0.0002467540877108721, Parameter is {'Jx': 1.5009046512712594, 'Jy': 0.8310100508357223, 'Jz': 1.459665727453494}\n",
      "iteration 69: Loss = -0.17912274965868377, Parameter is {'Jx': -9.860050552609675, 'Jy': 3.4598414763723913, 'Jz': 9.795947501855775}\n",
      "iteration 70: Loss = -0.0017304683296518806, Parameter is {'Jx': 0.6623885835157388, 'Jy': -2.072404802625549, 'Jz': 2.797260535139909}\n",
      "iteration 71: Loss = -0.18801418778158582, Parameter is {'Jx': -9.865499759067228, 'Jy': 9.69395852816983, 'Jz': 2.587231506164745}\n",
      "iteration 72: Loss = -0.0006047798072238784, Parameter is {'Jx': 1.144571755847748, 'Jy': 1.78510223212254, 'Jz': -0.0845588915601283}\n",
      "iteration 73: Loss = -0.00015428424560389278, Parameter is {'Jx': 0.41998649312567515, 'Jy': 1.1585320220322188, 'Jz': 1.8572421338156193}\n",
      "iteration 74: Loss = -0.00010819842045237268, Parameter is {'Jx': 0.7628645058345551, 'Jy': -0.4968579353725211, 'Jz': 2.197160261247914}\n",
      "iteration 75: Loss = -0.00022475039977516077, Parameter is {'Jx': 0.7963057605366899, 'Jy': 1.9448153759403937, 'Jz': 0.44975848420352804}\n",
      "iteration 76: Loss = -0.00012801244214968383, Parameter is {'Jx': 0.6470070896859763, 'Jy': -1.7261744528059495, 'Jz': 1.8602665262513263}\n",
      "iteration 77: Loss = -5.9474752676842084e-05, Parameter is {'Jx': 0.6201931918712198, 'Jy': 1.6237312615637993, 'Jz': 1.2378662334134578}\n",
      "iteration 78: Loss = -9.094395466923205e-05, Parameter is {'Jx': 1.1137188112427499, 'Jy': -1.522430169272761, 'Jz': 2.080229463821139}\n",
      "iteration 79: Loss = -0.0002608582474481831, Parameter is {'Jx': 1.3493869268817331, 'Jy': 1.3830097290687071, 'Jz': 0.5120374930423903}\n",
      "iteration 80: Loss = -0.004242176666196836, Parameter is {'Jx': 2.5847396546702726, 'Jy': 3.032724458525438, 'Jz': -1.5104896186781236}\n",
      "iteration 81: Loss = -0.0032759440488470907, Parameter is {'Jx': 1.2814433942076064, 'Jy': 3.052679658782962, 'Jz': -1.358228464189592}\n",
      "iteration 82: Loss = -0.00018611410306312216, Parameter is {'Jx': 0.547738474666172, 'Jy': -1.4993193764070707, 'Jz': 2.015866509734911}\n",
      "iteration 83: Loss = -0.000129527722676609, Parameter is {'Jx': 1.2293931450768305, 'Jy': -1.435911731160612, 'Jz': 1.9290288094681394}\n",
      "iteration 84: Loss = -0.0001771068126682414, Parameter is {'Jx': 1.0798517317598684, 'Jy': -2.4225210277955833, 'Jz': 1.4182667619437428}\n",
      "iteration 85: Loss = -0.0016728914093340967, Parameter is {'Jx': 1.8505602349984578, 'Jy': 2.4784506993903612, 'Jz': -0.46788062290793064}\n",
      "iteration 86: Loss = -0.0008500244451845596, Parameter is {'Jx': 0.47689986977280263, 'Jy': -2.487953673951992, 'Jz': 1.8645921721905019}\n",
      "iteration 87: Loss = -0.0008264028981512149, Parameter is {'Jx': 1.8608409366834309, 'Jy': -2.6343322745303226, 'Jz': 1.4032263036269157}\n",
      "iteration 88: Loss = -0.0002505505805402976, Parameter is {'Jx': 1.3835857734245636, 'Jy': 0.040189273266113545, 'Jz': 2.091372790962911}\n",
      "iteration 89: Loss = -9.313059763076745e-05, Parameter is {'Jx': 0.9592437954214716, 'Jy': -1.8892753910046913, 'Jz': 1.5642653720266964}\n",
      "iteration 90: Loss = -5.415316603643881e-05, Parameter is {'Jx': 0.831085928812934, 'Jy': 0.29922952282540294, 'Jz': 1.9729121588911056}\n",
      "iteration 91: Loss = -6.197804955953632e-05, Parameter is {'Jx': 0.6479751880524098, 'Jy': 1.3546227836293063, 'Jz': 1.333224412109221}\n",
      "iteration 92: Loss = -2.939227445825623e-05, Parameter is {'Jx': 1.0849392488515424, 'Jy': 0.4724759310628901, 'Jz': 1.7672682889345293}\n",
      "iteration 93: Loss = -0.0024889434578628726, Parameter is {'Jx': 2.0970070339305824, 'Jy': 1.7318241117054995, 'Jz': -1.3347366451306293}\n",
      "iteration 94: Loss = -1.815023804962998e-05, Parameter is {'Jx': 1.0799125453701777, 'Jy': 0.9131642349562679, 'Jz': 1.503258133665664}\n",
      "iteration 95: Loss = -0.00015646295668106432, Parameter is {'Jx': 0.9642876394396644, 'Jy': -2.3708839195343963, 'Jz': 1.5654320900314111}\n",
      "iteration 96: Loss = -0.00011790552938293453, Parameter is {'Jx': 0.4652352018010859, 'Jy': 1.3974152463026197, 'Jz': 1.667315448368658}\n",
      "iteration 97: Loss = -0.0002789679119914322, Parameter is {'Jx': 1.4898872911157017, 'Jy': -1.972807078568401, 'Jz': 1.1287772370074052}\n",
      "iteration 98: Loss = -3.4573196428498646e-05, Parameter is {'Jx': 1.1271880770668457, 'Jy': 0.3943490827454621, 'Jz': 1.7531189787221457}\n",
      "iteration 99: Loss = -0.0005817361060490141, Parameter is {'Jx': 0.06982541693511912, 'Jy': 0.9088917524043651, 'Jz': 2.3237575662497107}\n",
      "iteration 100: Loss = -0.00013084525651658178, Parameter is {'Jx': 1.248746510898627, 'Jy': -1.8448292969963465, 'Jz': 1.650445556896214}\n",
      "iteration 101: Loss = -0.0003088097197685944, Parameter is {'Jx': 1.6702791650773907, 'Jy': -2.105607604725252, 'Jz': 1.5759495904646315}\n",
      "iteration 102: Loss = -7.950520807015513e-05, Parameter is {'Jx': 0.7715211672557825, 'Jy': 1.7565134149854593, 'Jz': 0.8915564928470836}\n",
      "iteration 103: Loss = -0.00015099646143350886, Parameter is {'Jx': 0.8263440972485334, 'Jy': -1.3270371098269678, 'Jz': 1.8801510193955266}\n",
      "iteration 104: Loss = -0.00043889300512360563, Parameter is {'Jx': 0.9628731973625193, 'Jy': -2.5004701251964416, 'Jz': 0.6810558910642079}\n",
      "iteration 105: Loss = -0.0009331220892372257, Parameter is {'Jx': 1.3501286469748521, 'Jy': -1.591175952970774, 'Jz': -0.06599628698441862}\n",
      "iteration 106: Loss = -0.0009414606913496922, Parameter is {'Jx': 2.195653814283512, 'Jy': 0.3531156183617483, 'Jz': 0.12741827049156385}\n",
      "iteration 107: Loss = -0.08848431869209189, Parameter is {'Jx': 9.944541736304132, 'Jy': -9.778462189731583, 'Jz': 0.10790953777928713}\n",
      "iteration 108: Loss = -0.0011565577408604697, Parameter is {'Jx': 2.3638233573213903, 'Jy': -0.9248882503138205, 'Jz': 0.3806774228390015}\n",
      "iteration 109: Loss = -9.847658211258669e-05, Parameter is {'Jx': 0.8075854765957793, 'Jy': -1.9737571317684477, 'Jz': 1.4582737438623194}\n",
      "iteration 110: Loss = -0.0011976011643793985, Parameter is {'Jx': 1.6988516016827582, 'Jy': -1.940304401978004, 'Jz': 0.010278638247079641}\n",
      "iteration 111: Loss = -0.00023411286295230618, Parameter is {'Jx': 1.0961350276216013, 'Jy': -1.9331740582700085, 'Jz': 1.0466283762468613}\n",
      "iteration 112: Loss = -0.007969927202499331, Parameter is {'Jx': -0.5300567151987039, 'Jy': 3.72204204478213, 'Jz': 0.44034189613572394}\n",
      "iteration 113: Loss = -9.950276272769434e-05, Parameter is {'Jx': 1.407348452850405, 'Jy': 0.5224930984874128, 'Jz': 1.3827670284460858}\n",
      "iteration 114: Loss = -3.207811415497022e-05, Parameter is {'Jx': 0.7375548322322505, 'Jy': 1.4656060662047228, 'Jz': 1.3595623026219332}\n",
      "iteration 115: Loss = -3.745094433943613e-05, Parameter is {'Jx': 1.15153726559938, 'Jy': 0.4545452058493531, 'Jz': 1.6634335950818446}\n",
      "iteration 116: Loss = -0.00020344411492244325, Parameter is {'Jx': 0.5524136304624676, 'Jy': -2.1802279560416498, 'Jz': 1.1284937862794067}\n",
      "iteration 117: Loss = -0.012755947391351006, Parameter is {'Jx': 4.0839755949716405, 'Jy': -4.837611440355294, 'Jz': 5.757750453666397}\n",
      "iteration 118: Loss = -0.0015567334068304294, Parameter is {'Jx': 1.8500296504701268, 'Jy': -0.1982115828035269, 'Jz': -0.48292200422734766}\n",
      "iteration 119: Loss = -5.8952109832641165e-05, Parameter is {'Jx': 1.2650350631392566, 'Jy': 0.9529687713403803, 'Jz': 1.3402706112062734}\n",
      "iteration 120: Loss = -9.577614886291154e-05, Parameter is {'Jx': 1.081117602628085, 'Jy': -1.7853672440491302, 'Jz': 2.0611286411577794}\n",
      "iteration 121: Loss = -5.299705154803779e-05, Parameter is {'Jx': 1.0006494915198605, 'Jy': 0.5570039048089281, 'Jz': 1.6097913067094254}\n",
      "iteration 122: Loss = -0.00011729498399671873, Parameter is {'Jx': 0.7719846351273709, 'Jy': -0.9760149832249745, 'Jz': 2.225598503024578}\n"
     ]
    },
    {
     "name": "stdout",
     "output_type": "stream",
     "text": [
      "iteration 123: Loss = -0.0007280220905017606, Parameter is {'Jx': 0.5087525426863575, 'Jy': -2.088065759872622, 'Jz': 0.10632150151536912}\n",
      "iteration 124: Loss = -0.0009250358477760225, Parameter is {'Jx': 0.06786559148872229, 'Jy': -1.784901537014619, 'Jz': 0.8356399178533813}\n",
      "iteration 125: Loss = -0.008079996406439891, Parameter is {'Jx': -0.737371444402136, 'Jy': 3.1694298915420624, 'Jz': 3.472747726350322}\n",
      "iteration 126: Loss = -0.000160912943370891, Parameter is {'Jx': 0.6098621436210312, 'Jy': 0.5999136739991879, 'Jz': 2.1290827678034354}\n",
      "iteration 127: Loss = -7.35504258047003e-05, Parameter is {'Jx': 0.9466944661079495, 'Jy': -0.3927923915365099, 'Jz': 2.155439185903864}\n",
      "iteration 128: Loss = -2.7292900775426934e-05, Parameter is {'Jx': 1.1514522342962774, 'Jy': 0.7943456856793709, 'Jz': 1.517362982655186}\n",
      "iteration 129: Loss = -0.00023925103862278496, Parameter is {'Jx': 0.5135536632557773, 'Jy': 0.1927509457392489, 'Jz': 2.2953195132024433}\n",
      "iteration 130: Loss = -0.0001239575566110727, Parameter is {'Jx': 0.46870763077944133, 'Jy': 1.755976779952583, 'Jz': 1.1545085787482314}\n",
      "iteration 131: Loss = -3.8392822158562965e-05, Parameter is {'Jx': 1.0199637565141941, 'Jy': 0.44061191280124135, 'Jz': 1.720137992621451}\n",
      "iteration 132: Loss = -4.5269911053355054e-05, Parameter is {'Jx': 1.049476689926374, 'Jy': 0.09940291437376203, 'Jz': 1.929200570595766}\n",
      "iteration 133: Loss = -9.427688266299471e-05, Parameter is {'Jx': 1.0608346973842266, 'Jy': 1.5989781279838944, 'Jz': 0.7802232831476115}\n",
      "iteration 134: Loss = -0.001230477007194278, Parameter is {'Jx': -0.4313985921062482, 'Jy': 1.5205196217238388, 'Jz': 2.3788534960724323}\n",
      "iteration 135: Loss = -0.00010032336026034077, Parameter is {'Jx': 1.0816788377511077, 'Jy': -2.140538663399374, 'Jz': 1.8145263026760379}\n",
      "iteration 136: Loss = -3.8916466093092715e-05, Parameter is {'Jx': 0.9777480756050281, 'Jy': 1.3539753290768495, 'Jz': 1.0789905680606857}\n",
      "iteration 137: Loss = -0.00039944842848966427, Parameter is {'Jx': 0.98978757318317, 'Jy': -2.085372817339737, 'Jz': 0.468274458480213}\n",
      "iteration 138: Loss = -0.0001281324521986009, Parameter is {'Jx': 0.6806687569572141, 'Jy': -1.9707464324478625, 'Jz': 1.4378310626727657}\n",
      "iteration 139: Loss = -0.00015307198556528012, Parameter is {'Jx': 1.2841639811161691, 'Jy': 1.0672509280799485, 'Jz': 1.439075856549671}\n",
      "iteration 140: Loss = -6.268284162361633e-05, Parameter is {'Jx': 1.0761758345041734, 'Jy': -0.15159188379980648, 'Jz': 2.072575432909513}\n",
      "iteration 141: Loss = -0.0002402261163899576, Parameter is {'Jx': 1.0648716204129354, 'Jy': 0.9439455566871722, 'Jz': 1.8458105234819833}\n",
      "iteration 142: Loss = -0.0001179560195176329, Parameter is {'Jx': 0.9542082691236669, 'Jy': -0.46269111769601245, 'Jz': 1.9698382480780694}\n",
      "iteration 143: Loss = -0.079921736147068, Parameter is {'Jx': 6.891790617714715, 'Jy': 9.91648641368512, 'Jz': -9.83337816916816}\n",
      "iteration 144: Loss = -6.857608525447422e-05, Parameter is {'Jx': 0.8634081547411263, 'Jy': -1.9301138573284184, 'Jz': 1.7269717882403093}\n",
      "iteration 145: Loss = -7.755154667332873e-05, Parameter is {'Jx': 0.9237727430149878, 'Jy': -0.09586839152727222, 'Jz': 1.9655570108572569}\n",
      "iteration 146: Loss = -5.8532062324066394e-05, Parameter is {'Jx': 0.8771234910024219, 'Jy': 0.4292763295638853, 'Jz': 1.7794473416686873}\n",
      "iteration 147: Loss = -2.346168071565019e-05, Parameter is {'Jx': 0.8348265144481033, 'Jy': 1.4266112837198914, 'Jz': 1.3182794051119942}\n",
      "iteration 148: Loss = -5.575013095948249e-05, Parameter is {'Jx': 0.9701625511592571, 'Jy': 1.5929586160519822, 'Jz': 1.0333478436158767}\n",
      "iteration 149: Loss = -0.03956854378148393, Parameter is {'Jx': 2.9197361546442693, 'Jy': 6.0391147308224085, 'Jz': -2.105774055257566}\n",
      "iteration 150: Loss = -0.00013745623641978375, Parameter is {'Jx': 1.3408453488925325, 'Jy': 0.666852670941509, 'Jz': 1.189991506322631}\n",
      "iteration 151: Loss = -0.006291183461857815, Parameter is {'Jx': 4.144835624603957, 'Jy': -3.8521844481991767, 'Jz': 3.8747851637639705}\n",
      "iteration 152: Loss = -0.0012455150730403437, Parameter is {'Jx': 0.2664651096421444, 'Jy': -2.6953764131864038, 'Jz': 0.16120357554733467}\n",
      "iteration 153: Loss = -0.00014993994536813946, Parameter is {'Jx': 1.4040425919364612, 'Jy': 0.4502673280431502, 'Jz': 1.7318718360019947}\n",
      "iteration 154: Loss = -0.0005135834080257434, Parameter is {'Jx': 0.5415494340855389, 'Jy': 2.3090050485826623, 'Jz': 0.17187390023904214}\n",
      "iteration 155: Loss = -0.10517221123592249, Parameter is {'Jx': -9.950121561212415, 'Jy': -9.982624038943538, 'Jz': -9.064041805608088}\n",
      "iteration 156: Loss = -3.101915016250732e-05, Parameter is {'Jx': 0.8717897319559107, 'Jy': 1.4925411179286492, 'Jz': 1.2351815823021823}\n",
      "iteration 157: Loss = -0.00011789509758422563, Parameter is {'Jx': 1.4439779524355814, 'Jy': -0.15447665501389451, 'Jz': 1.7847259772644453}\n",
      "iteration 158: Loss = -2.929526969909295e-05, Parameter is {'Jx': 0.911039294965299, 'Jy': 1.188586564752356, 'Jz': 1.5202988184352613}\n",
      "iteration 159: Loss = -4.5704438111706725e-05, Parameter is {'Jx': 1.0879625982650865, 'Jy': 1.3848606655623144, 'Jz': 1.119904970059924}\n",
      "iteration 160: Loss = -2.4618924449942307e-05, Parameter is {'Jx': 0.8831597087697176, 'Jy': 1.0381569610672496, 'Jz': 1.425839663727487}\n",
      "iteration 161: Loss = -0.0007126861630878544, Parameter is {'Jx': 1.739958994794744, 'Jy': -1.2278382955363032, 'Jz': 0.5633631127493999}\n",
      "iteration 162: Loss = -2.098288964320196e-05, Parameter is {'Jx': 0.9562586048877044, 'Jy': 0.6517688614208978, 'Jz': 1.6987740523281083}\n",
      "iteration 163: Loss = -5.3009556264179427e-05, Parameter is {'Jx': 0.9674942142041942, 'Jy': 1.0539472527829936, 'Jz': 1.2689024970949596}\n",
      "iteration 164: Loss = -0.04904019963884973, Parameter is {'Jx': 9.560597746533546, 'Jy': 9.890618073488273, 'Jz': -5.662173869213005}\n",
      "iteration 165: Loss = -6.55004509051988e-05, Parameter is {'Jx': 0.9420474827149974, 'Jy': 0.6782321334603765, 'Jz': 1.5440542845089293}\n",
      "iteration 166: Loss = -0.0001199517793181681, Parameter is {'Jx': 1.02899475146571, 'Jy': -1.1537609707682037, 'Jz': 2.298793063634797}\n",
      "iteration 167: Loss = -0.005451717068726866, Parameter is {'Jx': 3.2769057140962126, 'Jy': 1.1624034466965671, 'Jz': -1.1014951188002122}\n",
      "iteration 168: Loss = -6.617747337003366e-05, Parameter is {'Jx': 0.9157378051421876, 'Jy': -1.9222344852399864, 'Jz': 1.803836459607835}\n",
      "iteration 169: Loss = -0.1661910506858397, Parameter is {'Jx': -9.762640753724883, 'Jy': -9.98025627730195, 'Jz': -0.9809585458686136}\n",
      "iteration 170: Loss = -8.036065635822887e-05, Parameter is {'Jx': 0.9784593146685605, 'Jy': -0.4235334642980444, 'Jz': 2.1947050185147337}\n",
      "iteration 171: Loss = -9.054274861130427e-05, Parameter is {'Jx': 0.6162752519691566, 'Jy': 0.6827083138571943, 'Jz': 1.9457286821411621}\n",
      "iteration 172: Loss = -0.00013141172225931177, Parameter is {'Jx': 0.7680914218104373, 'Jy': -0.7658467318230748, 'Jz': 2.07807085255768}\n",
      "iteration 173: Loss = -5.866550739155778e-05, Parameter is {'Jx': 0.6079233553246688, 'Jy': 1.16796986923082, 'Jz': 1.6645817817067972}\n",
      "iteration 174: Loss = -3.795252074794525e-05, Parameter is {'Jx': 0.9870733977629236, 'Jy': 0.3621604455353218, 'Jz': 1.8032105844858677}\n",
      "iteration 175: Loss = -0.17531038477809968, Parameter is {'Jx': -9.435605986654807, 'Jy': 9.615765837147062, 'Jz': -9.85705800860628}\n",
      "iteration 176: Loss = -0.0002639546119900324, Parameter is {'Jx': 0.5608321828300795, 'Jy': 1.7161294112964924, 'Jz': 1.6005358435173491}\n",
      "iteration 177: Loss = -0.0006973106292651253, Parameter is {'Jx': 0.16708596270938614, 'Jy': -2.44605773815535, 'Jz': 0.7891928165011226}\n",
      "iteration 178: Loss = -6.685245044414368e-05, Parameter is {'Jx': 1.2879001521025675, 'Jy': 0.5209492123907218, 'Jz': 1.4780968394901777}\n",
      "iteration 179: Loss = -9.99408002372243e-05, Parameter is {'Jx': 0.9355393006314099, 'Jy': -0.8094692907312488, 'Jz': 2.06893699916845}\n",
      "iteration 180: Loss = -0.016859411346374722, Parameter is {'Jx': 6.5111059556847515, 'Jy': -4.9389900240679445, 'Jz': 5.409784438990826}\n",
      "iteration 181: Loss = -7.777161353717327e-05, Parameter is {'Jx': 0.6849391845735457, 'Jy': 1.782180327654192, 'Jz': 1.03749035313324}\n",
      "iteration 182: Loss = -8.354395973741126e-05, Parameter is {'Jx': 1.0446524050450385, 'Jy': 0.779732913916229, 'Jz': 1.363073287155519}\n"
     ]
    },
    {
     "name": "stdout",
     "output_type": "stream",
     "text": [
      "iteration 183: Loss = -0.0035958925840227206, Parameter is {'Jx': 0.6990575918972493, 'Jy': -3.391084970698854, 'Jz': 1.0624986123665803}\n",
      "iteration 184: Loss = -0.0001041062466118243, Parameter is {'Jx': 0.5328417848887845, 'Jy': 0.9393540233796323, 'Jz': 1.7832075551240614}\n",
      "iteration 185: Loss = -8.26872801808817e-05, Parameter is {'Jx': 0.9548729634151432, 'Jy': -2.0533078703209195, 'Jz': 1.4128037960114028}\n",
      "iteration 186: Loss = -3.265691345793569e-05, Parameter is {'Jx': 0.8235415701634974, 'Jy': 1.3548334805678337, 'Jz': 1.208503568818692}\n",
      "iteration 187: Loss = -0.00048618051513018884, Parameter is {'Jx': 0.16201895198509497, 'Jy': 0.4865885398401204, 'Jz': 1.963852858495736}\n",
      "iteration 188: Loss = -0.0001999880200561105, Parameter is {'Jx': 0.8240448114116674, 'Jy': -0.11307427620803345, 'Jz': 2.3433837607829204}\n",
      "iteration 189: Loss = -4.356902798518234e-05, Parameter is {'Jx': 0.782686964841453, 'Jy': 1.1143582327335633, 'Jz': 1.6803314147163881}\n",
      "iteration 190: Loss = -0.0006432133007759963, Parameter is {'Jx': 0.04394021961071104, 'Jy': -1.818315065537245, 'Jz': 1.5355656886771918}\n",
      "iteration 191: Loss = -1.8941522604151144e-05, Parameter is {'Jx': 0.9417141834068801, 'Jy': 0.7725691561832306, 'Jz': 1.6141771507541431}\n",
      "iteration 192: Loss = -2.8987961039010767e-05, Parameter is {'Jx': 0.7624005701500902, 'Jy': 1.383338968347946, 'Jz': 1.4316835438187052}\n",
      "iteration 193: Loss = -8.164573241848211e-05, Parameter is {'Jx': 1.0459819589627024, 'Jy': -1.7517976040909247, 'Jz': 2.014034446883281}\n",
      "iteration 194: Loss = -0.00011927407237979024, Parameter is {'Jx': 1.3632578008048988, 'Jy': 0.8173728886689062, 'Jz': 1.1232735887185292}\n",
      "iteration 195: Loss = -0.00010229068005427553, Parameter is {'Jx': 1.1868503256257235, 'Jy': -0.8667849172850204, 'Jz': 2.2050547125226565}\n",
      "iteration 196: Loss = -3.492264411848387e-05, Parameter is {'Jx': 0.706459429318933, 'Jy': 1.4208250536625648, 'Jz': 1.4270332414264981}\n",
      "iteration 197: Loss = -9.574196804956755e-05, Parameter is {'Jx': 0.5738045830236427, 'Jy': 1.717491335227221, 'Jz': 1.0721375762192071}\n",
      "iteration 198: Loss = -9.532184143933751e-05, Parameter is {'Jx': 1.1631425686229804, 'Jy': -1.0459883248956636, 'Jz': 2.1530030483567977}\n",
      "iteration 199: Loss = -9.700886036755554e-05, Parameter is {'Jx': 1.3970621582103817, 'Jy': 0.42023539056731885, 'Jz': 1.4536452578814973}\n",
      "iteration 200: Loss = -6.174971968734614e-05, Parameter is {'Jx': 0.7005504368989506, 'Jy': 1.3866219442545926, 'Jz': 1.5537790650499907}\n",
      "iteration 201: Loss = -6.878706391976976e-05, Parameter is {'Jx': 1.2496122835631152, 'Jy': -0.03344419360037065, 'Jz': 1.914920847946501}\n",
      "iteration 202: Loss = -0.00010104053336240166, Parameter is {'Jx': 0.8428304058521281, 'Jy': -1.0838607975882848, 'Jz': 2.106683444418236}\n",
      "iteration 203: Loss = -0.00011912847677305402, Parameter is {'Jx': 0.776166972501322, 'Jy': 1.564707344648058, 'Jz': 0.8879121729345165}\n",
      "iteration 204: Loss = -6.733445826446062e-05, Parameter is {'Jx': 0.8889919732426819, 'Jy': -1.9029254156270987, 'Jz': 1.7877488058459825}\n",
      "iteration 205: Loss = -8.475580476697337e-05, Parameter is {'Jx': 0.9437468551488948, 'Jy': 1.7140263229080315, 'Jz': 0.969701623223445}\n",
      "iteration 206: Loss = -8.662186935705107e-05, Parameter is {'Jx': 0.9728756076020044, 'Jy': 0.12522804715601588, 'Jz': 1.8099717538997844}\n",
      "iteration 207: Loss = -3.575018853305572e-05, Parameter is {'Jx': 0.811871959816127, 'Jy': 0.6720540389130463, 'Jz': 1.7776095731091068}\n",
      "iteration 208: Loss = -0.000774019349864938, Parameter is {'Jx': 2.207023832532517, 'Jy': -1.745401659733158, 'Jz': 1.0747682505837908}\n",
      "iteration 209: Loss = -7.382737741228347e-05, Parameter is {'Jx': 1.3063342085709007, 'Jy': 0.40927540415623476, 'Jz': 1.5289441443496727}\n",
      "iteration 210: Loss = -0.004025357499239667, Parameter is {'Jx': 0.4351224375560392, 'Jy': 0.1175799568625191, 'Jz': -0.8896084094691794}\n",
      "iteration 211: Loss = -6.402743931318867e-05, Parameter is {'Jx': 1.035284699180325, 'Jy': 0.024175068088933216, 'Jz': 1.878656808621482}\n",
      "iteration 212: Loss = -0.002785798253313222, Parameter is {'Jx': 1.1162436092284178, 'Jy': -2.0384727739176345, 'Jz': -0.9972429538223722}\n",
      "iteration 213: Loss = -0.00018388053492488394, Parameter is {'Jx': 1.2359071840732465, 'Jy': -2.2285839196401103, 'Jz': 1.9264348859698508}\n",
      "iteration 214: Loss = -4.924435277075554e-05, Parameter is {'Jx': 1.0946265291917712, 'Jy': 1.2649823323043599, 'Jz': 1.3011124500110718}\n",
      "iteration 215: Loss = -8.813236688234914e-05, Parameter is {'Jx': 1.1463531493694816, 'Jy': -2.106678255419581, 'Jz': 1.5229681975583649}\n",
      "iteration 216: Loss = -1.3709013284525054e-05, Parameter is {'Jx': 0.9921583776566472, 'Jy': 1.1223727419314944, 'Jz': 1.3332786279158686}\n",
      "iteration 217: Loss = -4.1015261596511596e-05, Parameter is {'Jx': 0.736245027865694, 'Jy': 1.1320140378156385, 'Jz': 1.4630588882871933}\n",
      "iteration 218: Loss = -7.589961646796474e-05, Parameter is {'Jx': 0.7190227334033406, 'Jy': 0.5199431347998207, 'Jz': 2.0019701681357844}\n",
      "iteration 219: Loss = -0.0005656725249959073, Parameter is {'Jx': 2.169560292862844, 'Jy': -0.9974228383447645, 'Jz': 1.3413040769181332}\n",
      "iteration 220: Loss = -9.830003800797291e-05, Parameter is {'Jx': 0.9156456861900502, 'Jy': -1.497976450009908, 'Jz': 1.9162315484386312}\n",
      "iteration 221: Loss = -7.080842466933952e-05, Parameter is {'Jx': 0.9496230529736511, 'Jy': -1.9186325170123233, 'Jz': 1.874489929898644}\n",
      "iteration 222: Loss = -8.254354550751978e-05, Parameter is {'Jx': 0.6522998899355574, 'Jy': 0.7212224840809327, 'Jz': 1.9465585830350065}\n",
      "iteration 223: Loss = -8.69252332167951e-05, Parameter is {'Jx': 1.2869400475999964, 'Jy': 0.3251576821585651, 'Jz': 1.8200039117970963}\n",
      "iteration 224: Loss = -6.694218481714649e-05, Parameter is {'Jx': 1.0986241807592982, 'Jy': -0.3102350962379514, 'Jz': 2.088113812071505}\n",
      "iteration 225: Loss = -0.00012728742485879546, Parameter is {'Jx': 0.5787000339338082, 'Jy': 0.9727386395063693, 'Jz': 1.9435870133752289}\n",
      "iteration 226: Loss = -6.524596297089023e-05, Parameter is {'Jx': 0.8905472741743168, 'Jy': -2.0100205644624403, 'Jz': 1.6901108419468702}\n",
      "iteration 227: Loss = -4.8253263361872444e-05, Parameter is {'Jx': 0.9184961807330776, 'Jy': 0.29712937300603137, 'Jz': 1.8613984539183015}\n",
      "iteration 228: Loss = -0.00010025314429578016, Parameter is {'Jx': 0.7760937147156621, 'Jy': 1.8540628033044335, 'Jz': 0.90438106010083}\n",
      "iteration 229: Loss = -2.0797188715237604e-05, Parameter is {'Jx': 0.9283292938513643, 'Jy': 0.9981102606039904, 'Jz': 1.4315345881501056}\n",
      "iteration 230: Loss = -0.003152883449486288, Parameter is {'Jx': -0.7300591106180541, 'Jy': -2.006784535940418, 'Jz': -0.4677199892170929}\n",
      "iteration 231: Loss = -0.00012412328859277497, Parameter is {'Jx': 0.6637813906157923, 'Jy': -0.04536034029179348, 'Jz': 2.1737062149740574}\n",
      "iteration 232: Loss = -5.5089819270292775e-05, Parameter is {'Jx': 1.1851587748937398, 'Jy': 0.050446957321915065, 'Jz': 1.8892196767265474}\n",
      "iteration 233: Loss = -0.00366068810112036, Parameter is {'Jx': -0.9846513130538561, 'Jy': -1.7214548707276336, 'Jz': 1.3015475797236888}\n",
      "iteration 234: Loss = -7.098520550858834e-05, Parameter is {'Jx': 1.1094012530385378, 'Jy': 0.4012361256113586, 'Jz': 1.91813029048725}\n",
      "iteration 235: Loss = -6.785482779601319e-05, Parameter is {'Jx': 1.0660190561348841, 'Jy': 1.1159790495288657, 'Jz': 1.125911623621164}\n",
      "iteration 236: Loss = -9.01012758203346e-05, Parameter is {'Jx': 1.087763445088596, 'Jy': -0.4450311565295113, 'Jz': 2.1995597856984332}\n",
      "iteration 237: Loss = -3.363059740676047e-05, Parameter is {'Jx': 1.132805656613801, 'Jy': 0.5460371107915769, 'Jz': 1.614651778573231}\n",
      "iteration 238: Loss = -4.2264260941840286e-05, Parameter is {'Jx': 0.9194272585791978, 'Jy': 1.1511256991715424, 'Jz': 1.5761551149818978}\n",
      "iteration 239: Loss = -3.3419982147706045e-05, Parameter is {'Jx': 0.7979514293059466, 'Jy': 0.8521076796801381, 'Jz': 1.6449600914915692}\n",
      "iteration 240: Loss = -4.288781025858094e-05, Parameter is {'Jx': 0.8549191206404849, 'Jy': 1.4002694594326837, 'Jz': 1.4092112024921395}\n",
      "iteration 241: Loss = -3.5814906193472454e-05, Parameter is {'Jx': 1.0558708630769882, 'Jy': 1.1893775080766833, 'Jz': 1.3909416457263823}\n",
      "iteration 242: Loss = -0.00016753444703084694, Parameter is {'Jx': 0.6097740179546474, 'Jy': -1.0305747647526822, 'Jz': 2.141160668929585}\n"
     ]
    },
    {
     "name": "stdout",
     "output_type": "stream",
     "text": [
      "iteration 243: Loss = -0.00010706588835978372, Parameter is {'Jx': 0.9545560181780992, 'Jy': -1.6998672970781836, 'Jz': 2.1375249594844554}\n",
      "iteration 244: Loss = -8.464754892652058e-05, Parameter is {'Jx': 1.191722775444429, 'Jy': -0.6006999184916051, 'Jz': 2.080263600830804}\n",
      "iteration 245: Loss = -0.00011272201259113013, Parameter is {'Jx': 1.0821701003807362, 'Jy': -0.05220243530952473, 'Jz': 1.7831802532700074}\n",
      "iteration 246: Loss = -0.0001510371329697061, Parameter is {'Jx': 0.823929967861897, 'Jy': -2.3579041770653024, 'Jz': 1.2597232799184699}\n",
      "iteration 247: Loss = -0.017749221908445405, Parameter is {'Jx': -2.488672456518639, 'Jy': 5.331814148805998, 'Jz': 3.7330941930273447}\n",
      "iteration 248: Loss = -0.0001460387028702143, Parameter is {'Jx': 1.346648514527235, 'Jy': -1.2458852574445896, 'Jz': 2.172803075438196}\n",
      "iteration 249: Loss = -5.344635984012388e-05, Parameter is {'Jx': 0.7904725820051279, 'Jy': 0.9121781186319957, 'Jz': 1.81297169112635}\n",
      "iteration 250: Loss = -0.008296827094100467, Parameter is {'Jx': -2.2488926709881536, 'Jy': 2.263334306382319, 'Jz': 3.099073056919348}\n",
      "iteration 251: Loss = -6.225202110491232e-05, Parameter is {'Jx': 1.060193033130247, 'Jy': 1.531953607062901, 'Jz': 0.9629256490710443}\n",
      "iteration 252: Loss = -0.0739330212282342, Parameter is {'Jx': -2.530380156408114, 'Jy': 9.550327611378194, 'Jz': 6.161386781419974}\n",
      "iteration 253: Loss = -6.647736960161545e-05, Parameter is {'Jx': 1.3176111603580019, 'Jy': 0.3679976189369256, 'Jz': 1.6195329663167612}\n",
      "iteration 254: Loss = -1.6150153748695554e-05, Parameter is {'Jx': 0.792356787843504, 'Jy': 1.1660985208582986, 'Jz': 1.487522780002088}\n",
      "iteration 255: Loss = -0.09262418265383054, Parameter is {'Jx': 9.886887792856236, 'Jy': 1.9980334737218168, 'Jz': 9.996566417701551}\n",
      "iteration 256: Loss = -0.002071119096988721, Parameter is {'Jx': 2.6298674030858926, 'Jy': 0.6861629261865971, 'Jz': 0.6107417976163916}\n",
      "iteration 257: Loss = -0.00010158236459783675, Parameter is {'Jx': 1.391271319433356, 'Jy': -0.13528562708802916, 'Jz': 1.828430933999437}\n",
      "iteration 258: Loss = -3.849050453299526e-05, Parameter is {'Jx': 0.8363316303627677, 'Jy': 0.6434236502790558, 'Jz': 1.866483494482079}\n",
      "iteration 259: Loss = -6.551935459375289e-05, Parameter is {'Jx': 1.310036859043116, 'Jy': 0.7970897204901277, 'Jz': 1.4057890719981927}\n",
      "iteration 260: Loss = -9.294523323956602e-05, Parameter is {'Jx': 1.16220946342888, 'Jy': 1.1745224184749237, 'Jz': 0.9867746444412813}\n",
      "iteration 261: Loss = -5.814984049375443e-05, Parameter is {'Jx': 1.0313442406760345, 'Jy': -0.04482466173463884, 'Jz': 1.941752927698758}\n",
      "iteration 262: Loss = -0.00013190972163475926, Parameter is {'Jx': 1.0412768049788586, 'Jy': 1.7451418817860809, 'Jz': 0.6514210368418283}\n",
      "iteration 263: Loss = -5.824917216502571e-05, Parameter is {'Jx': 0.9056226074959177, 'Jy': 0.01733661933128161, 'Jz': 2.024883096674051}\n",
      "iteration 264: Loss = -3.245001635405645e-05, Parameter is {'Jx': 0.9796235505164912, 'Jy': 1.2279071072853363, 'Jz': 1.1824576946254517}\n",
      "iteration 265: Loss = -6.774195078875899e-05, Parameter is {'Jx': 0.5988313325410779, 'Jy': 1.04713266116649, 'Jz': 1.7001924977330418}\n",
      "iteration 266: Loss = -7.495840858213064e-05, Parameter is {'Jx': 0.6668323942739107, 'Jy': 1.5122438766955693, 'Jz': 1.4812192588991895}\n",
      "iteration 267: Loss = -6.988354349064737e-05, Parameter is {'Jx': 0.8120759787859946, 'Jy': 0.262813861829553, 'Jz': 2.061254442661582}\n",
      "iteration 268: Loss = -0.00010152961509615501, Parameter is {'Jx': 0.8912751169026762, 'Jy': -2.1565358051720356, 'Jz': 1.2307899361585068}\n",
      "iteration 269: Loss = -6.421231552717236e-05, Parameter is {'Jx': 1.0540889925761938, 'Jy': 0.9915286336309528, 'Jz': 1.2346450263002424}\n",
      "iteration 270: Loss = -6.709517589301219e-05, Parameter is {'Jx': 0.6144933462293025, 'Jy': 1.6784218122336334, 'Jz': 1.1992287501027619}\n",
      "iteration 271: Loss = -0.07332440276203801, Parameter is {'Jx': 1.0465217586498525, 'Jy': -9.997826907501102, 'Jz': 9.73579462004793}\n",
      "iteration 272: Loss = -0.00027482147455804755, Parameter is {'Jx': 1.7397172181180451, 'Jy': -0.37968861248042884, 'Jz': 1.8721054721832253}\n",
      "iteration 273: Loss = -0.00036763493089481385, Parameter is {'Jx': 0.06913221476531106, 'Jy': 1.6043540587675977, 'Jz': 1.7082050133534956}\n",
      "iteration 274: Loss = -1.315964599028063e-05, Parameter is {'Jx': 0.9505092033138389, 'Jy': 0.9981151565404538, 'Jz': 1.4509248187332915}\n",
      "iteration 275: Loss = -5.9154092182463035e-05, Parameter is {'Jx': 1.0331275875872983, 'Jy': -0.17769255793699656, 'Jz': 2.0217993356220525}\n",
      "iteration 276: Loss = -4.6718179019343934e-05, Parameter is {'Jx': 0.88070355572893, 'Jy': 1.1492014105774455, 'Jz': 1.2776109821398247}\n",
      "iteration 277: Loss = -6.210520432480267e-05, Parameter is {'Jx': 0.751542995213283, 'Jy': 0.6658166941036647, 'Jz': 1.7492266617930223}\n",
      "iteration 278: Loss = -9.257785926966584e-05, Parameter is {'Jx': 1.1516522184489375, 'Jy': -2.0814529875714367, 'Jz': 1.4929612826046519}\n",
      "iteration 279: Loss = -0.0019695563324301437, Parameter is {'Jx': 0.3233835285683, 'Jy': -1.7131902973341617, 'Jz': -0.8023236925000212}\n",
      "iteration 280: Loss = -0.00030576697323921037, Parameter is {'Jx': 1.3357112134984988, 'Jy': -2.32224964436492, 'Jz': 0.9336230504338836}\n",
      "iteration 281: Loss = -0.0021001846153687366, Parameter is {'Jx': -0.06731336481900563, 'Jy': 1.8848751001754778, 'Jz': -0.5215885334742296}\n",
      "iteration 282: Loss = -0.08723193816052631, Parameter is {'Jx': 5.00908872238969, 'Jy': -3.0722212170992647, 'Jz': 9.564022379278853}\n",
      "iteration 283: Loss = -7.593770938009049e-05, Parameter is {'Jx': 0.9163008816724982, 'Jy': -1.9812529085492319, 'Jz': 1.850118685150644}\n",
      "iteration 284: Loss = -0.06931714784534114, Parameter is {'Jx': 4.927649857568975, 'Jy': -9.944403197565244, 'Jz': 6.4895922183196575}\n",
      "iteration 285: Loss = -0.025404615298699675, Parameter is {'Jx': 5.679340437772529, 'Jy': 3.6273014349626997, 'Jz': -2.920658807397185}\n",
      "iteration 286: Loss = -0.0012705807087872135, Parameter is {'Jx': 0.7518685961606302, 'Jy': 2.3290265520469084, 'Jz': -0.7209232066887488}\n",
      "iteration 287: Loss = -4.209406027001912e-05, Parameter is {'Jx': 0.8852638825876102, 'Jy': 1.09733321686919, 'Jz': 1.6381523326420329}\n",
      "iteration 288: Loss = -2.9664651180812163e-05, Parameter is {'Jx': 0.9066563034591564, 'Jy': 1.4626176138229212, 'Jz': 1.100052179731092}\n",
      "iteration 289: Loss = -0.122893342386487, Parameter is {'Jx': -2.897527960173509, 'Jy': -9.996847367843891, 'Jz': -9.779206692840251}\n",
      "iteration 290: Loss = -7.6900338797686e-05, Parameter is {'Jx': 0.8862678679310463, 'Jy': -2.1690279712042653, 'Jz': 1.4376080845075805}\n",
      "iteration 291: Loss = -0.009388376635120425, Parameter is {'Jx': 3.4592144072972975, 'Jy': 2.9388563821746168, 'Jz': -3.073487252570411}\n",
      "iteration 292: Loss = -6.212392988491892e-05, Parameter is {'Jx': 1.0529787402942006, 'Jy': 0.48394379444061997, 'Jz': 1.9041829020584053}\n",
      "iteration 293: Loss = -0.0015098593112326734, Parameter is {'Jx': -0.3745849797706917, 'Jy': 0.34314111871255726, 'Jz': 2.6149497925769545}\n",
      "iteration 294: Loss = -5.522451541267909e-05, Parameter is {'Jx': 0.6691194099851359, 'Jy': 1.6510855590450983, 'Jz': 1.1558169803780522}\n",
      "iteration 295: Loss = -0.00010414649732834909, Parameter is {'Jx': 0.9301298224698673, 'Jy': -0.7558064113336815, 'Jz': 2.2771679856409843}\n",
      "iteration 296: Loss = -3.0723715749144466e-05, Parameter is {'Jx': 0.8205015657524619, 'Jy': 0.8830272786396698, 'Jz': 1.5993083833162274}\n",
      "iteration 297: Loss = -1.1304674087878627e-05, Parameter is {'Jx': 0.8943420533604041, 'Jy': 1.289291904805756, 'Jz': 1.3219084292260153}\n",
      "iteration 298: Loss = -0.00027842979505176505, Parameter is {'Jx': 0.5143395808069773, 'Jy': 1.7006033359020662, 'Jz': 0.8010726283854446}\n",
      "iteration 299: Loss = -6.351946185526475e-05, Parameter is {'Jx': 0.9890776934046581, 'Jy': 0.8574367048942655, 'Jz': 1.7611297989192423}\n",
      "iteration 300: Loss = -9.48394644659433e-05, Parameter is {'Jx': 0.8111340857852962, 'Jy': -2.1517652981028927, 'Jz': 1.646830841694909}\n",
      "===================FINISHED=========================\n",
      "Best parameter found at iteration 65, with Loss = -0.28100645963533405\n",
      "{'Jx': 0.8893160900087675, 'Jy': 1.0270060355167558, 'Jz': 1.5665559109557883}\n"
     ]
    }
   ],
   "source": [
    "res = Opt.minimize(log_accelerate=False)"
   ]
  },
  {
   "cell_type": "code",
   "execution_count": 14,
   "metadata": {},
   "outputs": [],
   "source": [
    "from visualize import plot_funcs_2d"
   ]
  },
  {
   "cell_type": "code",
   "execution_count": 17,
   "metadata": {},
   "outputs": [
    {
     "data": {
      "text/plain": [
       "(<Figure size 360x360 with 2 Axes>, <AxesSubplot:xlabel='Jx', ylabel='Jz'>)"
      ]
     },
     "execution_count": 17,
     "metadata": {},
     "output_type": "execute_result"
    },
    {
     "data": {
      "image/png": "[encoded data removed]",
      "text/plain": [
       "<Figure size 360x360 with 2 Axes>"
      ]
     },
     "metadata": {
      "needs_background": "light"
     },
     "output_type": "display_data"
    }
   ],
   "source": [
    "plot_funcs_2d.show_landscape(res, ['Jx', 'Jz'], itr=-1)"
   ]
  },
  {
   "cell_type": "code",
   "execution_count": 18,
   "metadata": {},
   "outputs": [],
   "source": [
    "from visualize import plot_funcs_3d"
   ]
  },
  {
   "cell_type": "code",
   "execution_count": 15,
   "metadata": {},
   "outputs": [
    {
     "name": "stdout",
     "output_type": "stream",
     "text": [
      "   o\n",
      "  / \\  ...  |  | \n",
      "-o - o- ... -o--o-\n"
     ]
    }
   ],
   "source": [
    "print('   o')\n",
    "print('  / \\  ...  |  | ')\n",
    "print('-o - o- ... -o--o-')"
   ]
  },
  {
   "cell_type": "code",
   "execution_count": 16,
   "metadata": {},
   "outputs": [],
   "source": [
    "class Animal:\n",
    "    \n",
    "    def __init__(self):\n",
    "        pass\n",
    "    \n",
    "class Dog(Animal):\n",
    "    \n",
    "    def __init__(self):\n",
    "        pass\n",
    "    \n"
   ]
  },
  {
   "cell_type": "code",
   "execution_count": 17,
   "metadata": {},
   "outputs": [],
   "source": [
    "mydog = Dog()\n",
    "mycat = Animal()"
   ]
  },
  {
   "cell_type": "code",
   "execution_count": 18,
   "metadata": {},
   "outputs": [
    {
     "data": {
      "text/plain": [
       "True"
      ]
     },
     "execution_count": 18,
     "metadata": {},
     "output_type": "execute_result"
    }
   ],
   "source": [
    "isinstance(mydog, Dog)"
   ]
  },
  {
   "cell_type": "code",
   "execution_count": 19,
   "metadata": {},
   "outputs": [
    {
     "data": {
      "text/plain": [
       "False"
      ]
     },
     "execution_count": 19,
     "metadata": {},
     "output_type": "execute_result"
    }
   ],
   "source": [
    "isinstance(mycat, Dog)"
   ]
  },
  {
   "cell_type": "code",
   "execution_count": null,
   "metadata": {},
   "outputs": [],
   "source": []
  }
 ],
 "metadata": {
  "kernelspec": {
   "display_name": "Python 3",
   "language": "python",
   "name": "python3"
  },
  "language_info": {
   "codemirror_mode": {
    "name": "ipython",
    "version": 3
   },
   "file_extension": ".py",
   "mimetype": "text/x-python",
   "name": "python",
   "nbconvert_exporter": "python",
   "pygments_lexer": "ipython3",
   "version": "3.7.0"
  }
 },
 "nbformat": 4,
 "nbformat_minor": 2
}
