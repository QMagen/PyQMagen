{
 "cells": [
  {
   "cell_type": "markdown",
   "id": "transsexual-synthetic",
   "metadata": {},
   "source": [
    "# PyQMagen\n",
    "\n",
    "The Python version of QMagen provides a highly \n",
    "customizable package for the analysis of thermal data \n",
    "of quantum magnets. \n",
    "Featuring Bayesian optimizer for the fitting loss, \n",
    "and combined with an ED solver,\n",
    "the PyQMagen is a computational light package \n",
    "that can analyze high temperature thermal data.\n",
    "\n",
    "## Basic usage: data input, thermal data calculation, and inferring model parameters\n",
    "\n",
    "---\n",
    "\n",
    "We will demonstrate the basic workflow of PyQMagen package with a spin-chain model, with Hamiltonian \n",
    "\n",
    "$$\n",
    "H = \\sum_{\\langle i,j \\rangle} J_x S_i^x S_j^x + J_y S_i^y S_j^y \n",
    "+ J_z S_i^z S_j^z.\n",
    "\\tag{1}\n",
    "$$\n",
    "\n",
    "\n"
   ]
  },
  {
   "cell_type": "code",
   "execution_count": null,
   "id": "communist-corps",
   "metadata": {},
   "outputs": [],
   "source": [
    "import magen.solver as solver\n",
    "from magen.models import chain\n",
    "from magen.optimizer import BayesianOptimizer\n",
    "from magen import visualize\n",
    "import numpy as np\n",
    "import matplotlib.pyplot as plt\n",
    "from magen.aux_func import load_experiment_data"
   ]
  },
  {
   "cell_type": "markdown",
   "id": "compressed-nursery",
   "metadata": {},
   "source": [
    "Experimental thermal data can be imported with function ```load_experiment_data```, with input ```experimental_files``` being a ```dict``` object defining name of thermal observables \n",
    "corresponding data files in .csv\n",
    "format (with  ',' as delimiter).\n",
    "The return is a ```ThObs``` object, with various thermal observables\n",
    "\n",
    ">In */Data/demo_data*, you can find experimental data generated with theoretical calculation (at thermodynamic limit) by linearized tensor renormalization group (LTRG) method. The experimental data was generated with Hamiltonian in (1), and $J_x = J_y = 1, J_z = 1.5$."
   ]
  },
  {
   "cell_type": "code",
   "execution_count": 2,
   "id": "controversial-detail",
   "metadata": {},
   "outputs": [],
   "source": [
    "experimental_files = {'T':'/Users/yusizhuo/GithubLocal/HamiltonianLearning/Data/demo_data/T.csv',\n",
    "                     'C':'/Users/yusizhuo/GithubLocal/HamiltonianLearning/Data/demo_data/C.csv',\n",
    "                     'Chiz':'/Users/yusizhuo/GithubLocal/HamiltonianLearning/Data/demo_data/Chiz.csv',\n",
    "                     'Chixy':'/Users/yusizhuo/GithubLocal/HamiltonianLearning/Data/demo_data/Chixy.csv'}\n",
    "\n",
    "# experimental_files = {'T':'/Users/yusizhuo/GithubLocal/HamiltonianLearning/Data/demo_data/T.csv',\n",
    "#                      'C':'./Data/demo_data/C.csv',\n",
    "#                      'Chiz':'./Data/demo_data/Chiz.csv',\n",
    "#                      'Chixy':'./Data/demo_data/Chixy.csv'}\n",
    "\n",
    "\n",
    "exp_thermal_data = load_experiment_data(experimental_files)"
   ]
  },
  {
   "cell_type": "markdown",
   "id": "about-serbia",
   "metadata": {},
   "source": [
    "With ```model.chain```, we provided pre-defined templates for different spin models. \n",
    "Every model, for exemple, a ```chain``` object, has a method ```generate_interactions``` \n",
    "that can generate a interaction map with Hamiltonian parameters as its input."
   ]
  },
  {
   "cell_type": "code",
   "execution_count": 3,
   "id": "proud-african",
   "metadata": {},
   "outputs": [],
   "source": [
    "mymodel = chain.XYZSpinChain(l=8)\n",
    "interactions = mymodel.generate_interactions(Jx=3., Jy=3., Jz=3.)"
   ]
  },
  {
   "cell_type": "markdown",
   "id": "accredited-withdrawal",
   "metadata": {},
   "source": [
    "Every element in ```interaction``` is a ```list``` or ```tuple``` object with following structure:"
   ]
  },
  {
   "cell_type": "code",
   "execution_count": 4,
   "id": "august-convention",
   "metadata": {},
   "outputs": [
    {
     "name": "stdout",
     "output_type": "stream",
     "text": [
      "['x', 'x', 0, 1, tensor(3.)]\n"
     ]
    }
   ],
   "source": [
    "print(interactions[0])"
   ]
  },
  {
   "cell_type": "markdown",
   "id": "mighty-eclipse",
   "metadata": {},
   "source": [
    "for example, the above element defines interaction $3 \\cdot S_0^x S_1^x$. \n",
    "\n",
    "You can also describe a customize Hamiltonian with this convention, by \n",
    "```interactions = custom_func(**parameter)```.\n",
    "\n",
    "Then, after getting the interaction map, we can call a ```solver``` to calculate\n",
    "thermal data:"
   ]
  },
  {
   "cell_type": "code",
   "execution_count": 5,
   "id": "cooked-pennsylvania",
   "metadata": {},
   "outputs": [],
   "source": [
    "# In EDSolver, by default chi_xy is not calculated\n",
    "# by setting cal_chi_para=True we can compute chi in xy-plane\n",
    "\n",
    "mysolver = solver.EDSolver(size=mymodel.l, cal_chi_para=True) \n",
    "thermal_data = mysolver.forward(interactions, \n",
    "                                T=exp_thermal_data.T, \n",
    "                                mag_field={'hx':0., 'hz':0.})"
   ]
  },
  {
   "cell_type": "markdown",
   "id": "medical-engineering",
   "metadata": {},
   "source": [
    "```forward``` function in ```solver``` with return a ```ThObs``` object. \n",
    "\n",
    "Let's see the difference between experimental specific heat and theoretical calculation:"
   ]
  },
  {
   "cell_type": "code",
   "execution_count": 6,
   "id": "happy-think",
   "metadata": {},
   "outputs": [
    {
     "data": {
      "text/plain": [
       "[<matplotlib.lines.Line2D at 0x7fb588b1ad68>]"
      ]
     },
     "execution_count": 6,
     "metadata": {},
     "output_type": "execute_result"
    },
    {
     "data": {
      "image/png": "[encoded data removed]",
      "text/plain": [
       "<Figure size 432x288 with 1 Axes>"
      ]
     },
     "metadata": {
      "needs_background": "light"
     },
     "output_type": "display_data"
    }
   ],
   "source": [
    "plt.semilogx(exp_thermal_data.T, exp_thermal_data.C, 'o')\n",
    "plt.semilogx(exp_thermal_data.T, thermal_data.C.detach())"
   ]
  },
  {
   "cell_type": "markdown",
   "id": "international-wesley",
   "metadata": {},
   "source": [
    "See the theorectical calculation does not match with the experimental data.\n",
    "In this case, although we know the candidate material is a spin-chian material,\n",
    "the parameter used for theoretical calculation $J_x=J_y=J_z=3$ differs from\n",
    "the true paramter $J_x^*=J_y^*=1, J_z^*=1.5$. \n",
    "\n",
    "The search for true parameter can be automated with optimization over fitting loss \n",
    "$\\mathcal{L}$. This scheme allow us to go beyond a handful of free parameters, reducing\n",
    "human bias, and automate the entire process.\n",
    "\n",
    "The recommended loss configuration is\n",
    "\n",
    "$$\n",
    "\\mathcal{L}(\\mathbf{x}) = \\sum_{\\alpha}\\frac{1}{N_\\alpha}\n",
    "(\\frac{O^\\mathrm{exp}_\\alpha-O^{\\rm sim, \\mathbf{x}}_\\alpha}{O^{\\rm exp}_\\alpha})^2,\n",
    "\\tag{2}\n",
    "$$\n",
    "\n",
    "the sum of squared relative errors between $O^{\\rm exp}_\\alpha$ and $O^{\\rm sim}_\\alpha$,\n",
    "the experimental and simulation data.\n",
    "\n",
    "The loss function in (2) is the default loss function if not specificly defined differently."
   ]
  },
  {
   "cell_type": "code",
   "execution_count": 7,
   "id": "administrative-criticism",
   "metadata": {},
   "outputs": [],
   "source": [
    "Opt = BayesianOptimizer(parameter_space={'Jx':(-10, 10), 'Jy':(-10, 10), 'Jz':(-10, 10)},\n",
    "                        n_exp_total=300,\n",
    "                        solver=mysolver,\n",
    "                        model=mymodel,\n",
    "                        T_cut=0,\n",
    "                        exp_thermal_data=exp_thermal_data,\n",
    "                        record_BO = True,\n",
    "                        target_obs=['C', 'Chiz', 'Chixy'])"
   ]
  },
  {
   "cell_type": "markdown",
   "id": "fancy-barrel",
   "metadata": {},
   "source": [
    "```BayesianOptimizer``` is an efficient optimizer with relatively low dimensional parameter space, note  that the ```target_obs``` is a ```list``` of thermal observable names added into the loss computation.\n",
    "\n",
    "The ```minimize``` function can be called to initiate the optimization process, and it will return a ```BayesianOptimizationResult``` object as its result."
   ]
  },
  {
   "cell_type": "code",
   "execution_count": 8,
   "id": "through-charm",
   "metadata": {
    "scrolled": true
   },
   "outputs": [
    {
     "name": "stdout",
     "output_type": "stream",
     "text": [
      "|==================Optimization Start==================|\n",
      "|   Itr    |   Loss   |    Jx    |    Jy    |    Jz    |\n",
      "|    0     | 1.03e-01 | 8.83966  | 0.93952  | 8.82547  |\n",
      "|    1     | 1.17e-01 | 9.99599  | 3.75402  | 7.28176  |\n",
      "|    2     | 1.48e-01 | 4.24556  | -7.40987 | -0.90852 |\n",
      "|    3     | 2.55e+00 | -0.52377 | -1.73526 | -9.71876 |\n",
      "|    4     | 7.99e-02 | -2.08883 | -2.92812 | 6.29954  |\n",
      "|    5     | 2.55e-01 | 9.50576  | -4.82579 | -4.38339 |\n",
      "|    6     | 8.29e-01 | 7.39140  | -3.50708 | -8.79571 |\n",
      "|    7     | 1.07e-01 | 4.90815  | 9.30516  | 3.80027  |\n",
      "|    8     | 8.01e-02 | 0.78997  | 7.01077  | 3.28295  |\n",
      "|    9     | 6.95e-02 | -3.97239 | 8.70306  | 5.66754  |\n",
      "|    10    | 1.02e-01 | 6.75400  |-10.00000 | 5.05851  |\n",
      "|    11    | 1.23e-01 | 0.62309  | 4.94839  | 10.00000 |\n",
      "|    12    | 2.93e-02 | 5.43163  | -3.37281 | 4.43575  |\n",
      "|    13    | 1.72e-01 |-10.00000 |-10.00000 | 10.00000 |\n",
      "|    14    | 7.12e-01 |-10.00000 | 2.06928  | 10.00000 |\n",
      "|    15    | 8.47e-02 | -1.04045 |-10.00000 | 8.28066  |\n",
      "|    16    | 1.98e-01 | 10.00000 |-10.00000 | -1.08400 |\n",
      "|    17    | 9.83e-02 | 0.29165  | 10.00000 | 6.94527  |\n",
      "|    18    | 1.25e-01 | 2.20879  | -4.01422 | 10.00000 |\n",
      "|    19    | 8.69e-02 | 1.67387  | -8.24468 | 4.27978  |\n",
      "|    20    | 7.97e-02 | 3.08169  | 1.92316  | 5.98982  |\n",
      "|    21    | 1.37e-01 | 9.98985  | -3.38543 | 3.05770  |\n",
      "|    22    | 1.42e-01 | 10.00000 | 10.00000 | 10.00000 |\n",
      "|    23    | 9.68e-02 | 10.00000 | 10.00000 | -1.44722 |\n",
      "|    24    | 4.59e-02 | 10.00000 |-10.00000 | 10.00000 |\n",
      "|    25    | 7.30e-02 | 9.81167  | -5.12957 | 9.62488  |\n",
      "|    26    | 1.17e-01 | -2.37369 | 10.00000 | 2.83179  |\n",
      "|    27    | 1.19e-01 | 10.00000 | 10.00000 | 3.27947  |\n",
      "|    28    | 6.33e-02 | 5.36212  |-10.00000 | 10.00000 |\n",
      "|    29    | 6.26e-02 | 5.11427  | -6.25174 | 2.77455  |\n",
      "|    30    | 1.13e-01 | -6.01639 |-10.00000 | 5.03788  |\n",
      "|    31    | 1.23e-01 | 9.96004  | 4.56863  | 0.64983  |\n",
      "|    32    | 3.48e-02 | 2.70876  | -3.21081 | 5.29919  |\n",
      "|    33    | 4.86e-02 | -1.14609 | 5.85985  | 5.96825  |\n",
      "|    34    | 1.06e-01 | -4.99440 |-10.00000 | 10.00000 |\n",
      "|    35    | 3.76e-02 | 5.71391  | -4.18754 | 6.69936  |\n",
      "|    36    | 6.79e-02 | -3.98725 | 10.00000 | 10.00000 |\n",
      "|    37    | 4.89e-02 | 5.28347  | -1.92341 | 5.80152  |\n",
      "|    38    | 3.41e-01 | 10.00000 | 10.00000 |-10.00000 |\n",
      "|    39    | 9.12e-01 |-10.00000 | 10.00000 | 4.34707  |\n",
      "|    40    | 7.89e-02 | -2.50395 | 9.20418  | 6.39351  |\n",
      "|    41    | 1.19e-01 | 4.09286  | 9.91408  | 9.78706  |\n",
      "|    42    | 7.03e-02 | -1.13088 | 1.59781  | 5.77691  |\n",
      "|    43    | 5.30e-02 | 7.20105  | -7.58171 | 9.47300  |\n",
      "|    44    | 3.63e-02 | -2.85282 | 6.36025  | 4.70898  |\n",
      "|    45    | 1.46e-01 | 4.44487  | -9.99714 | 0.63825  |\n",
      "|    46    | 7.98e-02 | -2.48641 | -7.37088 | 6.59056  |\n",
      "|    47    | 1.38e-02 | 3.88802  | -4.64991 | 4.98963  |\n",
      "|    48    | 4.94e-01 | 10.00000 |-10.00000 | -9.19885 |\n",
      "|    49    | 4.12e-02 | 2.95908  | -6.12056 | 6.67418  |\n",
      "|    50    | 7.26e-02 | 9.90876  | -8.59129 | 6.86278  |\n",
      "|    51    | 5.44e-02 | -3.50917 | 6.01946  | 7.77310  |\n",
      "|    52    | 8.45e-02 | 6.33957  | 1.85263  | 3.30232  |\n",
      "|    53    | 8.75e-02 | -1.27100 | 9.63178  | 9.88782  |\n",
      "|    54    | 1.16e-02 | 2.94181  | -4.52821 | 3.72142  |\n",
      "|    55    | 2.75e-02 | 1.43261  | -5.11575 | 4.36454  |\n",
      "|    56    | 1.13e-02 | 3.43619  | -4.49958 | 4.14867  |\n",
      "|    57    | 1.11e-01 | 4.96184  | 10.00000 | -0.65972 |\n",
      "|    58    | 3.60e-01 |-10.00000 |-10.00000 | 3.50677  |\n",
      "|    59    | 1.31e-02 | 3.79053  | -2.72669 | 3.00904  |\n",
      "|    60    | 1.19e-02 | 3.03335  | -3.28783 | 3.30188  |\n",
      "|    61    | 1.07e-02 | 3.25519  | -4.01696 | 3.34176  |\n",
      "|    62    | 1.22e-01 | 7.39166  | 4.67924  | 9.84095  |\n",
      "|    63    | 1.93e-02 | 2.62888  | -0.02561 | 3.21045  |\n",
      "|    64    | 2.09e-02 | 3.43134  | -0.80842 | 3.46284  |\n",
      "|    65    | 2.98e-02 | 1.20957  | 2.68563  | 3.45580  |\n",
      "|    66    | 2.61e-02 | 0.33944  | -0.34200 | 3.50631  |\n",
      "|    67    | 4.01e-02 | 1.37753  | 0.28317  | 4.21619  |\n",
      "|    68    | 5.25e-03 | 2.57618  | -1.41133 | 2.47514  |\n",
      "|    69    | 3.17e-02 | 3.81332  | -0.71605 | 1.87231  |\n",
      "|    70    | 3.99e-03 | 1.71945  | -1.28808 | 2.90435  |\n",
      "|    71    | 7.92e-03 | 0.76733  | -3.16741 | 2.97665  |\n",
      "|    72    | 4.70e-03 | 1.80829  | -2.38832 | 2.44194  |\n",
      "|    73    | 6.17e-02 | -1.73637 | -4.78965 | 3.76313  |\n",
      "|    74    | 5.84e-03 | 1.18339  | -2.58734 | 3.28755  |\n",
      "|    75    | 3.44e-03 | 2.04803  | -1.58472 | 2.53579  |\n",
      "|    76    | 3.96e-03 | 2.32491  | -1.56420 | 2.78366  |\n",
      "|    77    | 1.60e-02 | -1.25199 | 4.01893  | 3.92610  |\n",
      "|    78    | 3.48e-02 | -2.97837 | 3.78293  | 4.79889  |\n",
      "|    79    | 1.87e-03 | 1.78975  | -2.05668 | 2.88041  |\n",
      "|    80    | 1.11e-01 | 6.27352  | -3.34643 | 9.96072  |\n",
      "|    81    | 1.22e-01 | 9.88627  | 4.88049  | -3.91646 |\n",
      "|    82    | 1.46e-01 | 9.83619  | 0.69065  | -0.80339 |\n",
      "|    83    | 1.02e-01 | -3.10884 | -9.98020 | 2.35986  |\n",
      "|    84    | 1.18e-03 | 0.96785  | -1.97862 | 2.59292  |\n",
      "|    85    | 7.28e-02 | 5.69250  | 6.01248  | 0.70688  |\n",
      "|    86    | 9.79e-02 | -1.48302 | -9.95632 | 4.82215  |\n",
      "|    87    | 9.36e-02 | 0.59128  | -7.71294 | 9.98419  |\n",
      "|    88    | 1.03e-02 | -1.11145 | 2.92633  | 2.75072  |\n",
      "|    89    | 3.17e-02 | -0.05431 | 4.40434  | 2.20284  |\n",
      "|    90    | 4.79e-02 | -2.59925 | 4.28005  | 2.78822  |\n",
      "|    91    | 2.27e-03 | 0.84813  | 1.42004  | 1.93305  |\n",
      "|    92    | 3.15e-03 | 0.46921  | 0.52302  | 2.21395  |\n",
      "|    93    | 4.37e-03 | 0.79974  | 1.39276  | 2.22379  |\n",
      "|    94    | 1.87e-03 | 0.20324  | 1.53780  | 1.75573  |\n",
      "|    95    | 1.08e-03 | 0.65506  | 0.52375  | 1.74591  |\n",
      "|    96    | 1.75e-03 | 0.61282  | 0.04900  | 1.91187  |\n",
      "|    97    | 1.14e-04 | 1.12719  | 0.39435  | 1.75312  |\n",
      "|    98    | 1.08e-01 | -3.61122 | -4.68536 | 9.95140  |\n",
      "|    99    | 6.44e-04 | 1.12234  | -0.44805 | 1.96354  |\n",
      "|   100    | 5.19e-02 | 7.28631  | -9.93823 | 8.33562  |\n",
      "|   101    | 2.89e-02 | 6.54974  | -7.00603 | 6.73507  |\n",
      "|   102    | 3.39e-02 | 2.99195  | 3.35009  | 1.38347  |\n",
      "|   103    | 3.09e-02 | -1.01385 | 1.28413  | 2.22171  |\n",
      "|   104    | 7.10e-03 | -0.08740 | 2.82835  | 1.92965  |\n",
      "|   105    | 9.91e-02 | 5.29473  | 5.71005  | 5.89005  |\n",
      "|   106    | 1.30e-01 | -1.36699 | -0.29234 | 9.87975  |\n",
      "|   107    | 4.32e-02 | 4.73064  | -8.05508 | 7.54373  |\n",
      "|   108    | 6.81e-02 | 1.85203  | -5.89041 | 1.97328  |\n",
      "|   109    | 9.79e-02 | 9.79781  | -2.82879 | 7.25008  |\n",
      "|   110    | 8.98e-04 | 1.56147  | -0.29269 | 2.11378  |\n",
      "|   111    | 7.92e-02 | 7.83549  | 9.79173  | -4.20438 |\n",
      "|   112    | 7.04e-02 | 7.81366  | 6.98811  | -2.56273 |\n",
      "|   113    | 4.78e-04 | 0.75828  | 0.99344  | 1.79781  |\n",
      "|   114    | 1.27e-01 | 8.21411  | 9.83944  | 6.66289  |\n",
      "|   115    | 2.04e-03 | 1.19889  | -0.16526 | 2.33568  |\n",
      "|   116    | 7.75e-02 | 9.95980  | 8.92650  | -4.61204 |\n",
      "|   117    | 3.49e-03 | 0.34242  | 2.09321  | 2.06263  |\n",
      "|   118    | 1.35e-01 | 0.28671  | 9.70411  | -1.83524 |\n",
      "|   119    | 6.39e-02 | 2.45569  | 5.73596  | -0.08286 |\n",
      "|   120    | 5.57e-04 | 1.20155  | 0.58815  | 1.81707  |\n",
      "|   121    | 6.51e-02 | 5.88894  | 3.79369  | -0.85214 |\n",
      "|   122    | 3.31e-03 | 0.82351  | 2.22763  | 1.12593  |\n",
      "|   123    | 6.09e-04 | 1.51991  | -0.07748 | 1.85561  |\n",
      "|   124    | 2.90e-03 | 1.65476  | 1.35615  | 1.13765  |\n",
      "|   125    | 1.84e-03 | 0.85281  | 1.85092  | 1.49492  |\n",
      "|   126    | 4.21e-04 | 1.39939  | 0.47182  | 1.59945  |\n",
      "|   127    | 1.04e-04 | 1.15145  | 0.79435  | 1.51736  |\n",
      "|   128    | 8.32e-02 | -3.46756 | 7.78198  | 9.94763  |\n",
      "|   129    | 1.91e-01 | -6.10068 | -5.74395 | 6.78843  |\n",
      "|   130    | 1.39e-04 | 1.01996  | 0.44061  | 1.72014  |\n",
      "|   131    | 2.49e-04 | 1.04948  | 0.09940  | 1.92920  |\n",
      "|   132    | 2.30e-02 | 5.35422  | -5.66548 | 5.72476  |\n",
      "|   133    | 4.96e-02 | 9.80566  | -7.74964 | 9.89935  |\n",
      "|   134    | 8.66e-04 | 1.10072  | -0.94003 | 2.11508  |\n",
      "|   135    | 3.71e-04 | 0.97775  | 1.35398  | 1.07899  |\n",
      "|   136    | 1.39e-03 | 0.57982  | 1.18558  | 1.33552  |\n",
      "|   137    | 1.29e-01 | 3.55335  | 9.95859  | -4.76988 |\n",
      "|   138    | 7.05e-04 | 1.28416  | 1.06725  | 1.43908  |\n",
      "|   139    | 8.00e-03 | 2.16717  | 2.21058  | 0.09887  |\n",
      "|   140    | 1.06e-01 | 6.05981  | -3.57961 | 0.54251  |\n",
      "|   141    | 7.98e-02 | 2.30138  | -9.98124 | 7.91888  |\n"
     ]
    },
    {
     "name": "stdout",
     "output_type": "stream",
     "text": [
      "|   142    | 1.90e-03 | 1.43960  | 1.64067  | 0.67370  |\n",
      "|   143    | 7.47e-04 | 1.45664  | 0.74820  | 1.17577  |\n",
      "|   144    | 7.37e-04 | 1.16011  | -1.86037 | 2.60460  |\n",
      "|   145    | 3.37e-04 | 0.87712  | 0.42928  | 1.77945  |\n",
      "|   146    | 2.02e-04 | 0.83483  | 1.42661  | 1.31828  |\n",
      "|   147    | 5.81e-04 | 0.65897  | 1.69522  | 1.26645  |\n",
      "|   148    | 5.66e-01 | -9.57155 | 9.90730  | -9.76554 |\n",
      "|   149    | 1.13e-03 | 1.29113  | 0.34645  | 1.31643  |\n",
      "|   150    | 4.23e-03 | 0.48428  | -1.43532 | 2.47916  |\n",
      "|   151    | 1.24e-01 | 9.93661  | 4.24677  | 9.88999  |\n",
      "|   152    | 6.02e-02 | 4.72406  | 6.73996  | -2.37191 |\n",
      "|   153    | 1.29e-01 | 3.73393  | 0.51974  | 9.71427  |\n",
      "|   154    | 7.00e-02 | 8.65576  | -5.67853 | 6.34893  |\n",
      "|   155    | 2.68e-04 | 0.87179  | 1.49254  | 1.23518  |\n",
      "|   156    | 6.94e-04 | 0.99182  | 0.66375  | 1.37955  |\n",
      "|   157    | 1.54e-04 | 0.91104  | 1.18859  | 1.52030  |\n",
      "|   158    | 3.54e-04 | 1.08796  | 1.38486  | 1.11990  |\n",
      "|   159    | 1.43e-04 | 0.88316  | 1.03816  | 1.42584  |\n",
      "|   160    | 6.01e-04 | 1.48366  | 0.50413  | 1.47515  |\n",
      "|   161    | 1.15e-04 | 0.95626  | 0.65177  | 1.69877  |\n",
      "|   162    | 2.71e-04 | 0.96749  | 1.05395  | 1.26890  |\n",
      "|   163    | 2.11e-02 | 3.10280  | 3.68179  | -1.00643 |\n",
      "|   164    | 2.57e-04 | 0.94205  | 0.67823  | 1.54405  |\n",
      "|   165    | 3.49e-04 | 1.26633  | -0.10363 | 2.02792  |\n",
      "|   166    | 1.16e-03 | 1.45611  | -0.61659 | 1.96550  |\n",
      "|   167    | 1.54e-03 | 0.96432  | -1.29138 | 2.52456  |\n",
      "|   168    | 1.55e-02 | 2.03076  | 3.15808  | -0.11328 |\n",
      "|   169    | 9.95e-02 | 9.89095  | -1.18700 | 9.99024  |\n",
      "|   170    | 1.26e-01 | 9.97349  | 0.12916  | 4.20893  |\n",
      "|   171    | 1.15e-01 | 9.62149  | 6.39339  | 3.89100  |\n",
      "|   172    | 5.00e-04 | 0.60792  | 1.16797  | 1.66458  |\n",
      "|   173    | 1.90e-04 | 0.98707  | 0.36216  | 1.80321  |\n",
      "|   174    | 7.85e-02 | -2.48118 | 4.03541  | 7.44135  |\n",
      "|   175    | 8.98e-04 | 0.56083  | 1.71613  | 1.60054  |\n",
      "|   176    | 2.81e-02 | 3.72032  | 2.63256  | -0.30888 |\n",
      "|   177    | 2.64e-04 | 1.28790  | 0.52095  | 1.47810  |\n",
      "|   178    | 2.90e-03 | 1.16744  | -1.49792 | 2.04986  |\n",
      "|   179    | 8.97e-02 | -0.87151 | -5.17733 | 8.20565  |\n",
      "|   180    | 9.35e-02 | 2.28711  | 6.82727  | 7.47148  |\n",
      "|   181    | 3.27e-04 | 1.04465  | 0.77973  | 1.36307  |\n",
      "|   182    | 9.38e-04 | 1.07602  | 1.70414  | 1.01069  |\n",
      "|   183    | 1.19e-01 | 1.32163  | 9.97052  | 1.89575  |\n",
      "|   184    | 1.12e-02 | -0.45479 | 3.19779  | 3.07043  |\n",
      "|   185    | 3.35e-04 | 0.82354  | 1.35483  | 1.20850  |\n",
      "|   186    | 3.81e-02 | 3.97719  | -6.66744 | 5.00483  |\n",
      "|   187    | 4.34e-02 | 5.16960  | -5.70608 | 7.48765  |\n",
      "|   188    | 2.92e-04 | 0.78269  | 1.11436  | 1.68033  |\n",
      "|   189    | 1.56e-01 | 9.99647  | -7.01473 | 1.05030  |\n",
      "|   190    | 8.76e-05 | 0.94171  | 0.77257  | 1.61418  |\n",
      "|   191    | 2.13e-04 | 0.76240  | 1.38334  | 1.43168  |\n",
      "|   192    | 1.32e-01 | 0.72172  | -9.99658 | 0.30752  |\n",
      "|   193    | 7.91e-04 | 0.90818  | -0.58249 | 2.08486  |\n",
      "|   194    | 5.32e-04 | 1.07326  | 0.81079  | 1.77917  |\n",
      "|   195    | 2.80e-04 | 0.70646  | 1.42083  | 1.42703  |\n",
      "|   196    | 5.50e-02 | 7.32761  | 6.90770  | -5.10178 |\n",
      "|   197    | 4.67e-02 | 5.78094  | 4.96934  | -3.46573 |\n",
      "|   198    | 2.10e-03 | 1.92153  | 0.00550  | 1.71363  |\n",
      "|   199    | 3.27e-04 | 0.70055  | 1.38662  | 1.55378  |\n",
      "|   200    | 2.30e-04 | 1.24961  | -0.03344 | 1.91492  |\n",
      "|   201    | 6.43e-04 | 1.45112  | 0.09800  | 1.91148  |\n",
      "|   202    | 6.76e-04 | 1.40245  | -0.93319 | 2.23112  |\n",
      "|   203    | 5.32e-04 | 0.96527  | -0.31669 | 2.06089  |\n",
      "|   204    | 3.21e-01 | 9.72613  | 4.50282  | -8.26941 |\n",
      "|   205    | 4.20e-04 | 0.97288  | 0.12523  | 1.80997  |\n",
      "|   206    | 3.26e-04 | 0.81187  | 0.67205  | 1.77761  |\n",
      "|   207    | 9.82e-02 | -4.45929 | -9.93953 | 7.64618  |\n",
      "|   208    | 2.97e-04 | 1.30633  | 0.40928  | 1.52894  |\n",
      "|   209    | 7.58e-04 | 1.40393  | 0.88032  | 1.08296  |\n",
      "|   210    | 3.03e-04 | 1.03528  | 0.02418  | 1.87866  |\n",
      "|   211    | 3.96e-03 | 1.93481  | 0.80890  | 0.62060  |\n",
      "|   212    | 1.17e-03 | 1.15517  | -2.49623 | 2.60687  |\n",
      "|   213    | 2.69e-04 | 1.09463  | 1.26498  | 1.30111  |\n",
      "|   214    | 9.73e-02 | -2.88784 | -7.61365 | 9.99896  |\n",
      "|   215    | 9.10e-05 | 0.99216  | 1.12237  | 1.33328  |\n",
      "|   216    | 2.08e-04 | 0.93472  | 0.47085  | 1.76791  |\n",
      "|   217    | 6.68e-04 | 1.31561  | -0.73049 | 2.33342  |\n",
      "|   218    | 3.97e-04 | 1.33898  | 0.82182  | 1.30623  |\n",
      "|   219    | 5.76e-03 | 1.13116  | 2.22132  | 0.02854  |\n",
      "|   220    | 6.36e-02 | -0.69223 | 4.70315  | -0.16503 |\n",
      "|   221    | 7.64e-02 | 2.33082  | 5.58276  | -2.76744 |\n",
      "|   222    | 3.44e-04 | 1.28694  | 0.32516  | 1.82000  |\n",
      "|   223    | 3.60e-04 | 1.09862  | -0.31024 | 2.08811  |\n",
      "|   224    | 2.08e-01 | -2.95914 | 9.86695  | -4.56946 |\n",
      "|   225    | 7.99e-01 | 2.94761  | 9.85610  | -9.94090 |\n",
      "|   226    | 3.25e-04 | 0.91850  | 0.29713  | 1.86140  |\n",
      "|   227    | 2.57e-02 | 2.94794  | 2.18248  | -1.39435 |\n",
      "|   228    | 1.02e-04 | 0.92833  | 0.99811  | 1.43153  |\n",
      "|   229    | 7.17e-02 | 3.71136  | 5.07449  | 3.65730  |\n",
      "|   230    | 1.42e-01 | -3.56678 | 9.62873  | -0.74315 |\n",
      "|   231    | 1.91e-04 | 1.18516  | 0.05045  | 1.88922  |\n",
      "|   232    | 6.15e-04 | 1.16907  | 0.10399  | 1.65231  |\n",
      "|   233    | 2.93e-04 | 1.18208  | -0.31150 | 2.06170  |\n",
      "|   234    | 3.98e-04 | 1.06602  | 1.11598  | 1.12591  |\n",
      "|   235    | 3.73e-03 | 1.65325  | 1.38213  | 0.28720  |\n",
      "|   236    | 8.89e-05 | 1.13281  | 0.54604  | 1.61465  |\n",
      "|   237    | 2.11e-04 | 0.91943  | 1.15113  | 1.57616  |\n",
      "|   238    | 2.46e-04 | 0.79795  | 0.85211  | 1.64496  |\n",
      "|   239    | 2.20e-04 | 0.85492  | 1.40027  | 1.40921  |\n",
      "|   240    | 1.85e-04 | 1.05587  | 1.18938  | 1.39094  |\n",
      "|   241    | 8.67e-01 | -9.83990 | -9.95763 | -5.89813 |\n",
      "|   242    | 3.25e-02 | -3.25914 | 6.69466  | 6.33427  |\n",
      "|   243    | 1.70e-03 | 1.17640  | -2.36028 | 2.82878  |\n",
      "|   244    | 2.11e-03 | 0.26071  | 2.07632  | 1.39458  |\n",
      "|   245    | 1.63e-02 | -1.29885 | 2.79535  | 3.80202  |\n",
      "|   246    | 3.21e-03 | 1.70325  | -3.21760 | 3.00987  |\n",
      "|   247    | 9.79e-02 | -4.06335 | -7.67271 | 3.76214  |\n",
      "|   248    | 4.59e-04 | 0.79047  | 0.91218  | 1.81297  |\n",
      "|   249    | 1.26e-01 | 9.78461  | -9.93963 | 3.34302  |\n",
      "|   250    | 4.17e-04 | 1.33923  | 0.84212  | 1.37171  |\n",
      "|   251    | 4.91e-04 | 1.19789  | -0.67394 | 2.26163  |\n",
      "|   252    | 2.49e-04 | 1.31761  | 0.36800  | 1.61953  |\n",
      "|   253    | 1.58e-04 | 0.79236  | 1.16610  | 1.48752  |\n",
      "|   254    | 6.36e-02 | 5.94898  | 7.83244  | -4.14759 |\n",
      "|   255    | 1.13e-01 | 6.48831  | 1.99157  | -2.87465 |\n",
      "|   256    | 4.79e-04 | 1.39127  | -0.13529 | 1.82843  |\n",
      "|   257    | 4.42e-04 | 0.83633  | 0.64342  | 1.86648  |\n",
      "|   258    | 3.25e-04 | 1.31004  | 0.79709  | 1.40579  |\n",
      "|   259    | 4.39e-02 | 7.86930  | -9.91708 | 9.95746  |\n",
      "|   260    | 3.09e-04 | 1.03134  | -0.04482 | 1.94175  |\n",
      "|   261    | 1.47e-03 | 1.04128  | 1.74514  | 0.65142  |\n",
      "|   262    | 9.91e-02 | 7.99968  | 8.63363  | 1.18437  |\n",
      "|   263    | 2.48e-04 | 0.97962  | 1.22791  | 1.18246  |\n",
      "|   264    | 1.23e-03 | 1.71826  | -0.67222 | 2.22618  |\n",
      "|   265    | 3.91e-04 | 0.66683  | 1.51224  | 1.48122  |\n",
      "|   266    | 5.94e-03 | 1.26422  | -3.35392 | 2.45690  |\n",
      "|   267    | 2.68e-04 | 1.24760  | 0.49390  | 1.72545  |\n",
      "|   268    | 3.04e-04 | 1.05409  | 0.99153  | 1.23465  |\n",
      "|   269    | 7.99e-02 | 1.46904  | -9.74993 | 9.90555  |\n",
      "|   270    | 9.53e-02 | 6.56853  | 2.48698  | 6.78073  |\n",
      "|   271    | 7.88e-02 | -0.98156 | -7.21702 | 2.69386  |\n",
      "|   272    | 1.08e-01 | 3.42484  | 9.96295  | 6.33198  |\n",
      "|   273    | 6.42e-05 | 0.95051  | 0.99812  | 1.45092  |\n",
      "|   274    | 3.64e-04 | 1.03313  | -0.17769 | 2.02180  |\n",
      "|   275    | 2.97e-04 | 0.88070  | 1.14920  | 1.27761  |\n",
      "|   276    | 3.24e-02 | 4.16392  | 4.20122  | -2.48323 |\n",
      "|   277    | 2.02e-02 | 4.56882  | -4.63778 | 4.02287  |\n",
      "|   278    | 6.28e-02 | 7.57113  | -7.19969 | 4.75647  |\n",
      "|   279    | 4.80e-02 | -3.99968 | 8.36111  | 8.13917  |\n",
      "|   280    | 1.19e-01 | 3.80676  | 5.75026  | 9.85289  |\n",
      "|   281    | 1.31e-01 | 7.26595  | 8.22134  | 9.97622  |\n",
      "|   282    | 1.25e-02 | 1.61242  | -4.09527 | 3.10928  |\n",
      "|   283    | 3.09e-03 | 0.56441  | -2.49447 | 2.02869  |\n",
      "|   284    | 3.09e-02 | -0.74620 | -3.32487 | 1.40750  |\n",
      "|   285    | 3.13e-02 | -0.71565 | -2.53909 | 2.57296  |\n"
     ]
    },
    {
     "name": "stdout",
     "output_type": "stream",
     "text": [
      "|   286    | 2.36e-04 | 0.88526  | 1.09733  | 1.63815  |\n",
      "|   287    | 3.63e-04 | 0.90666  | 1.46262  | 1.10005  |\n",
      "|   288    | 3.40e-04 | 1.36223  | 0.05574  | 1.87099  |\n",
      "|   289    | 2.00e-03 | 1.69342  | -2.55074 | 2.88576  |\n",
      "|   290    | 8.01e-02 | 7.52945  | -2.05354 | 5.32140  |\n",
      "|   291    | 4.47e-04 | 1.05298  | 0.48394  | 1.90418  |\n",
      "|   292    | 6.28e-02 | 0.54953  | 4.01954  | 5.72162  |\n",
      "|   293    | 9.43e-02 | -1.83448 | 7.19333  | 1.44329  |\n",
      "|   294    | 1.32e-01 | -7.03906 | -7.97340 | 9.94925  |\n",
      "|   295    | 2.05e-04 | 0.82050  | 0.88303  | 1.59931  |\n",
      "|   296    | 1.27e-04 | 0.89434  | 1.28929  | 1.32191  |\n",
      "|   297    | 6.87e-04 | 1.08257  | -0.23346 | 1.86126  |\n",
      "|   298    | 3.85e-04 | 0.98908  | 0.85744  | 1.76113  |\n",
      "|   299    | 1.30e-01 | 9.73750  | 7.82462  | 7.59544  |\n",
      "|=================Optimization Finised=================|\n",
      "|   Best   |   Loss   |    Jx    |    Jy    |    Jz    |\n",
      "|   274    | 6.42e-05 | 0.95051  | 0.99812  | 1.45092  |\n"
     ]
    }
   ],
   "source": [
    "res = Opt.minimize(log_accelerate=False)"
   ]
  },
  {
   "cell_type": "markdown",
   "id": "single-royal",
   "metadata": {},
   "source": [
    "note that we set ```log_accelerate=False```, using log scale during optimization can further improve efficiency. \n",
    "However, the log scale loss function will cause numercial problem for landscape prediction. If user wants to visualize the loss landscape, we recommand setting ```log_accelerate=False``` until the numerical issue being resolved in the future.\n",
    "\n",
    "---\n",
    "\n",
    "Visualizing the landscape is another benefit of the Bayesian optimizer. In short, a Gaussian process (GP) regression is used to fit the loss landscape, and predictions about mean and variance of loss at an unknown parameter point can be made by the GP.\n"
   ]
  },
  {
   "cell_type": "code",
   "execution_count": 9,
   "id": "joined-civilian",
   "metadata": {},
   "outputs": [
    {
     "name": "stderr",
     "output_type": "stream",
     "text": [
      "/Users/yusizhuo/GithubLocal/HamiltonianLearning/magen/visualize/plot_funcs_2d.py:92: UserWarning: Using log scale might cause numerical errors when the parameter space is not fully explored (Gaussian process might predict negative values\n",
      "  warnings.warn(warn_message)\n"
     ]
    },
    {
     "data": {
      "text/plain": [
       "(<Figure size 360x360 with 2 Axes>, <AxesSubplot:xlabel='Jx', ylabel='Jz'>)"
      ]
     },
     "execution_count": 9,
     "metadata": {},
     "output_type": "execute_result"
    },
    {
     "data": {
      "image/png": "[encoded data removed]",
      "text/plain": [
       "<Figure size 360x360 with 2 Axes>"
      ]
     },
     "metadata": {
      "needs_background": "light"
     },
     "output_type": "display_data"
    }
   ],
   "source": [
    "visualize.plot_funcs_2d.show_landscape(res,\n",
    "                                       plan_keys=['Jx', 'Jz'],\n",
    "#                                        fix_param={'Jy':1},\n",
    "#                                        itr=-1, \n",
    "                                       log_scale=True,\n",
    "                                      )"
   ]
  },
  {
   "cell_type": "markdown",
   "id": "governing-diploma",
   "metadata": {},
   "source": [
    "> ```itr``` default to be -1. Used to specify to check the landscape prediction at a given iteration\n",
    "\n",
    "> ```plan_keys``` two parameter names of the 2d parameter plan to visualize the landscape\n",
    "\n",
    "> ```fix_param``` if not specified, other parameters is set to their optimal values found during optimization. Can be specified using a dictionary"
   ]
  }
 ],
 "metadata": {
  "kernelspec": {
   "display_name": "Python 3",
   "language": "python",
   "name": "python3"
  },
  "language_info": {
   "codemirror_mode": {
    "name": "ipython",
    "version": 3
   },
   "file_extension": ".py",
   "mimetype": "text/x-python",
   "name": "python",
   "nbconvert_exporter": "python",
   "pygments_lexer": "ipython3",
   "version": "3.9.2"
  }
 },
 "nbformat": 4,
 "nbformat_minor": 5
}
