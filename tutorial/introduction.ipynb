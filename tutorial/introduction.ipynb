{
 "cells": [
  {
   "cell_type": "markdown",
   "id": "provincial-conservation",
   "metadata": {},
   "source": [
    "# PyQMagen\n",
    "\n",
    "The Python version of QMagen provides a highly \n",
    "customizable package for the analysis of thermal data \n",
    "of quantum magnets. \n",
    "Featuring Bayesian optimizer for the fitting loss, \n",
    "and combined with an ED solver,\n",
    "the PyQMagen is a computational light package \n",
    "that can analyze high temperature thermal data.\n",
    "\n",
    "## Basic usage: data input, thermal data calculation, and inferring model parameters\n",
    "\n",
    "---\n",
    "\n",
    "We will demonstrate the basic workflow of PyQMagen package with a spin-chain model, with Hamiltonian \n",
    "\n",
    "$$\n",
    "H = \\sum_{\\langle i,j \\rangle} J_x S_i^x S_j^x + J_y S_i^y S_j^y \n",
    "+ J_z S_i^z S_j^z.\n",
    "\\tag{1}\n",
    "$$\n",
    "\n",
    "\n"
   ]
  },
  {
   "cell_type": "code",
   "execution_count": 1,
   "id": "rental-hands",
   "metadata": {},
   "outputs": [],
   "source": [
    "import magen.solver as solver\n",
    "from magen.models import chain\n",
    "from magen.optimizer import BayesianOptimizer\n",
    "from magen import visualize\n",
    "import numpy as np\n",
    "import matplotlib.pyplot as plt\n",
    "from magen.aux_func import load_experiment_data"
   ]
  },
  {
   "cell_type": "markdown",
   "id": "multiple-sister",
   "metadata": {},
   "source": [
    "Experimental thermal data can be imported with function ```load_experiment_data```, with input ```experimental_files``` being a ```dict``` object defining name of thermal observables \n",
    "corresponding data files in .csv\n",
    "format (with  ',' as delimiter).\n",
    "The return is a ```ThObs``` object, with various thermal observables\n",
    "\n",
    ">In */Data/demo_data*, you can find experimental data generated with theoretical calculation (at thermodynamic limit) by linearized tensor renormalization group (LTRG) method. The experimental data was generated with Hamiltonian in (1), and $J_x = J_y = 1, J_z = 1.5$."
   ]
  },
  {
   "cell_type": "code",
   "execution_count": 2,
   "id": "knowing-render",
   "metadata": {},
   "outputs": [],
   "source": [
    "experimental_files = {'T':'../Data/demo_data/T.csv',\n",
    "                      'C':'../Data/demo_data/C.csv',\n",
    "                      'Chiz':'../Data/demo_data/Chiz.csv',\n",
    "                      'Chixy':'../Data/demo_data/Chixy.csv'}\n",
    "\n",
    "\n",
    "exp_thermal_data = load_experiment_data(experimental_files)"
   ]
  },
  {
   "cell_type": "markdown",
   "id": "cloudy-renewal",
   "metadata": {},
   "source": [
    "With ```model.chain```, we provided pre-defined templates for different spin models. \n",
    "Every model, for exemple, a ```chain``` object, has a method ```generate_interactions``` \n",
    "that can generate a interaction map with Hamiltonian parameters as its input."
   ]
  },
  {
   "cell_type": "code",
   "execution_count": 3,
   "id": "strategic-engineer",
   "metadata": {},
   "outputs": [],
   "source": [
    "mymodel = chain.XYZSpinChain(l=8)\n",
    "interactions = mymodel.generate_interactions(Jx=3., Jy=3., Jz=3.)"
   ]
  },
  {
   "cell_type": "markdown",
   "id": "neither-archive",
   "metadata": {},
   "source": [
    "Every element in ```interaction``` is a ```list``` or ```tuple``` object with following structure:"
   ]
  },
  {
   "cell_type": "code",
   "execution_count": 4,
   "id": "tribal-infection",
   "metadata": {},
   "outputs": [
    {
     "name": "stdout",
     "output_type": "stream",
     "text": [
      "['x', 'x', 0, 1, tensor(3.)]\n"
     ]
    }
   ],
   "source": [
    "print(interactions[0])"
   ]
  },
  {
   "cell_type": "markdown",
   "id": "fallen-credits",
   "metadata": {},
   "source": [
    "for example, the above element defines interaction $3 \\cdot S_0^x S_1^x$. \n",
    "\n",
    "You can also describe a customize Hamiltonian with this convention, by \n",
    "```interactions = custom_func(**parameter)```.\n",
    "\n",
    "Then, after getting the interaction map, we can call a ```solver``` to calculate\n",
    "thermal data:"
   ]
  },
  {
   "cell_type": "code",
   "execution_count": 5,
   "id": "caring-ancient",
   "metadata": {},
   "outputs": [],
   "source": [
    "# In EDSolver, by default chi_xy is not calculated\n",
    "# by setting cal_chi_para=True we can compute chi in xy-plane\n",
    "\n",
    "mysolver = solver.EDSolver(size=mymodel.l, cal_chi_para=True) \n",
    "thermal_data = mysolver.forward(interactions, \n",
    "                                T=exp_thermal_data.T, \n",
    "                                mag_field={'hx':0., 'hz':0.})"
   ]
  },
  {
   "cell_type": "markdown",
   "id": "numerous-celebration",
   "metadata": {},
   "source": [
    "```forward``` function in ```solver``` with return a ```ThObs``` object. \n",
    "\n",
    "Let's see the difference between experimental specific heat and theoretical calculation:"
   ]
  },
  {
   "cell_type": "code",
   "execution_count": 6,
   "id": "soviet-clinic",
   "metadata": {},
   "outputs": [
    {
     "data": {
      "text/plain": [
       "[<matplotlib.lines.Line2D at 0x7fbdb82f7460>]"
      ]
     },
     "execution_count": 6,
     "metadata": {},
     "output_type": "execute_result"
    },
    {
     "data": {
      "image/png": "[encoded data removed]",
      "text/plain": [
       "<Figure size 432x288 with 1 Axes>"
      ]
     },
     "metadata": {
      "needs_background": "light"
     },
     "output_type": "display_data"
    }
   ],
   "source": [
    "plt.semilogx(exp_thermal_data.T, exp_thermal_data.C, 'o')\n",
    "plt.semilogx(exp_thermal_data.T, thermal_data.C.detach())"
   ]
  },
  {
   "cell_type": "markdown",
   "id": "intense-category",
   "metadata": {},
   "source": [
    "See the theorectical calculation does not match with the experimental data.\n",
    "In this case, although we know the candidate material is a spin-chian material,\n",
    "the parameter used for theoretical calculation $J_x=J_y=J_z=3$ differs from\n",
    "the true paramter $J_x^*=J_y^*=1, J_z^*=1.5$. \n",
    "\n",
    "The search for true parameter can be automated with optimization over fitting loss \n",
    "$\\mathcal{L}$. This scheme allow us to go beyond a handful of free parameters, reducing\n",
    "human bias, and automate the entire process.\n",
    "\n",
    "The recommended loss configuration is\n",
    "\n",
    "$$\n",
    "\\mathcal{L}(\\mathbf{x}) = \\sum_{\\alpha}\\frac{1}{N_\\alpha}\n",
    "(\\frac{O^\\mathrm{exp}_\\alpha-O^{\\rm sim, \\mathbf{x}}_\\alpha}{O^{\\rm exp}_\\alpha})^2,\n",
    "\\tag{2}\n",
    "$$\n",
    "\n",
    "the sum of squared relative errors between $O^{\\rm exp}_\\alpha$ and $O^{\\rm sim}_\\alpha$,\n",
    "the experimental and simulation data.\n",
    "\n",
    "The loss function in (2) is the default loss function if not specificly defined differently."
   ]
  },
  {
   "cell_type": "code",
   "execution_count": 7,
   "id": "standard-foster",
   "metadata": {},
   "outputs": [],
   "source": [
    "Opt = BayesianOptimizer(parameter_space={'Jx':(-10, 10), 'Jy':(-10, 10), 'Jz':(-10, 10)},\n",
    "                        target_obs=['C', 'Chiz', 'Chixy'],\n",
    "                        exp_thermal_data=exp_thermal_data,\n",
    "                        n_exp_total=400,\n",
    "                        solver=mysolver,\n",
    "                        model=mymodel,\n",
    "                        T_cut=0,\n",
    "                        record_BO = True,\n",
    "                        )"
   ]
  },
  {
   "cell_type": "markdown",
   "id": "introductory-egyptian",
   "metadata": {},
   "source": [
    "```BayesianOptimizer``` is an efficient optimizer with relatively low dimensional parameter space, note  that the ```target_obs``` is a ```list``` of thermal observable names added into the loss computation.\n",
    "\n",
    "The ```minimize``` function can be called to initiate the optimization process, and it will return a ```BayesianOptimizationResult``` object as its result."
   ]
  },
  {
   "cell_type": "code",
   "execution_count": 8,
   "id": "genuine-proxy",
   "metadata": {
    "scrolled": true
   },
   "outputs": [
    {
     "name": "stdout",
     "output_type": "stream",
     "text": [
      "|======================================Optimization Start=======================================|\n",
      "-------------------------------------------------------------------------------------------------\n",
      "| Itr  |  Loss  |    Jx    |    Jy    |    Jz    ||BestIt|BestLoss|Best  Jx  |Best  Jy  |Best  Jz  |\n",
      "-------------------------------------------------------------------------------------------------\n",
      "|  0   |3.2e-01 | -7.57878 | -9.38029 | -8.71403 ||  0   |3.2e-01 | -7.57878 | -9.38029 | -8.71403 |\n",
      "|  1   |5.0e-02 | 4.53392  | 6.14004  | -3.14626 ||  1   |5.0e-02 | 4.53392  | 6.14004  | -3.14626 |\n",
      "|  2   |1.5e-01 | 8.72224  | 0.24414  | -2.24145 ||  1   |5.0e-02 | 4.53392  | 6.14004  | -3.14626 |\n",
      "|  3   |3.5e-01 | -6.34751 | 7.63522  | -2.94532 ||  1   |5.0e-02 | 4.53392  | 6.14004  | -3.14626 |\n",
      "|  4   |3.8e-01 | 2.61719  | -9.94843 | -7.41636 ||  1   |5.0e-02 | 4.53392  | 6.14004  | -3.14626 |\n",
      "|  5   |1.5e+00 | -2.10915 | -7.09629 | -9.28175 ||  1   |5.0e-02 | 4.53392  | 6.14004  | -3.14626 |\n",
      "|  6   |1.1e-01 | 3.43157  | -4.89016 | 9.44459  ||  1   |5.0e-02 | 4.53392  | 6.14004  | -3.14626 |\n",
      "|  7   |6.6e-01 | 7.85652  | -6.08721 | -8.89955 ||  1   |5.0e-02 | 4.53392  | 6.14004  | -3.14626 |\n",
      "|  8   |1.3e-01 | 2.95283  | -0.42708 | 9.06470  ||  1   |5.0e-02 | 4.53392  | 6.14004  | -3.14626 |\n",
      "|  9   |1.7e+00 | -9.93024 | -2.73644 | -9.17950 ||  1   |5.0e-02 | 4.53392  | 6.14004  | -3.14626 |\n",
      "|  10  |1.2e-01 | 3.19749  | -2.70298 | 9.25708  ||  1   |5.0e-02 | 4.53392  | 6.14004  | -3.14626 |\n",
      "|  11  |6.7e-02 | 5.89153  | 3.64507  | -0.67103 ||  1   |5.0e-02 | 4.53392  | 6.14004  | -3.14626 |\n",
      "|  12  |1.0e-01 | 8.91257  | 5.17375  | -2.97844 ||  1   |5.0e-02 | 4.53392  | 6.14004  | -3.14626 |\n",
      "|  13  |7.5e-02 | 6.75190  | -1.39401 | 4.54830  ||  1   |5.0e-02 | 4.53392  | 6.14004  | -3.14626 |\n",
      "|  14  |1.0e-01 | 5.06014  | 8.93281  | 1.09618  ||  1   |5.0e-02 | 4.53392  | 6.14004  | -3.14626 |\n",
      "-------------------------------------------------------------------------------------------------\n",
      "| Itr  |  Loss  |    Jx    |    Jy    |    Jz    ||BestIt|BestLoss|Best  Jx  |Best  Jy  |Best  Jz  |\n",
      "-------------------------------------------------------------------------------------------------\n",
      "|  15  |1.2e-01 | 9.87098  | 3.50520  | 5.40676  ||  1   |5.0e-02 | 4.53392  | 6.14004  | -3.14626 |\n",
      "|  16  |1.4e-01 | 5.16536  |-10.00000 | 1.97728  ||  1   |5.0e-02 | 4.53392  | 6.14004  | -3.14626 |\n",
      "|  17  |7.8e-02 | 10.00000 | -6.22164 | 7.76481  ||  1   |5.0e-02 | 4.53392  | 6.14004  | -3.14626 |\n",
      "|  18  |9.9e-02 | 9.53991  | -0.92249 | 9.72248  ||  1   |5.0e-02 | 4.53392  | 6.14004  | -3.14626 |\n",
      "|  19  |6.9e-02 | -1.03377 | 7.70499  | 5.87677  ||  1   |5.0e-02 | 4.53392  | 6.14004  | -3.14626 |\n",
      "|  20  |1.2e-01 | 4.07879  | 8.94775  | 10.00000 ||  1   |5.0e-02 | 4.53392  | 6.14004  | -3.14626 |\n",
      "|  21  |4.7e-02 | -6.18623 | 10.00000 | 10.00000 ||  21  |4.7e-02 | -6.18623 | 10.00000 | 10.00000 |\n",
      "|  22  |1.0e-01 | -5.49042 | 3.90999  | 10.00000 ||  21  |4.7e-02 | -6.18623 | 10.00000 | 10.00000 |\n",
      "|  23  |9.9e-01 |-10.00000 | 10.00000 | 5.69131  ||  21  |4.7e-02 | -6.18623 | 10.00000 | 10.00000 |\n",
      "|  24  |8.2e-02 | -3.10368 | 8.19126  | 9.91510  ||  21  |4.7e-02 | -6.18623 | 10.00000 | 10.00000 |\n",
      "|  25  |6.5e-02 | 2.59294  | 4.64119  | 4.43584  ||  21  |4.7e-02 | -6.18623 | 10.00000 | 10.00000 |\n",
      "|  26  |1.4e-01 | 0.64105  | 10.00000 | -2.79492 ||  21  |4.7e-02 | -6.18623 | 10.00000 | 10.00000 |\n",
      "|  27  |1.1e-01 | -5.05288 | -5.57442 | 10.00000 ||  21  |4.7e-02 | -6.18623 | 10.00000 | 10.00000 |\n",
      "|  28  |9.3e-02 | -1.93578 |-10.00000 | 5.85111  ||  21  |4.7e-02 | -6.18623 | 10.00000 | 10.00000 |\n",
      "|  29  |2.6e-01 |-10.00000 |-10.00000 | 6.09263  ||  21  |4.7e-02 | -6.18623 | 10.00000 | 10.00000 |\n",
      "-------------------------------------------------------------------------------------------------\n",
      "| Itr  |  Loss  |    Jx    |    Jy    |    Jz    ||BestIt|BestLoss|Best  Jx  |Best  Jy  |Best  Jz  |\n",
      "-------------------------------------------------------------------------------------------------\n",
      "|  30  |1.7e-01 | 7.18179  | 10.00000 | -8.31724 ||  21  |4.7e-02 | -6.18623 | 10.00000 | 10.00000 |\n",
      "|  31  |7.7e-02 | -1.89892 | -1.91767 | 5.96848  ||  21  |4.7e-02 | -6.18623 | 10.00000 | 10.00000 |\n",
      "|  32  |5.3e-02 | 6.83255  |-10.00000 | 10.00000 ||  21  |4.7e-02 | -6.18623 | 10.00000 | 10.00000 |\n",
      "|  33  |8.3e-02 | 0.73616  |-10.00000 | 10.00000 ||  21  |4.7e-02 | -6.18623 | 10.00000 | 10.00000 |\n",
      "|  34  |1.2e-01 | -2.83311 | -0.43774 | 10.00000 ||  21  |4.7e-02 | -6.18623 | 10.00000 | 10.00000 |\n",
      "|  35  |1.4e-01 | 10.00000 | 10.00000 | 10.00000 ||  21  |4.7e-02 | -6.18623 | 10.00000 | 10.00000 |\n",
      "|  36  |1.2e-01 | 9.83728  | -9.97477 | 4.05032  ||  21  |4.7e-02 | -6.18623 | 10.00000 | 10.00000 |\n",
      "|  37  |7.1e-02 | 0.58139  | 5.81345  | 0.83021  ||  21  |4.7e-02 | -6.18623 | 10.00000 | 10.00000 |\n",
      "|  38  |8.5e-01 |-10.00000 |-10.00000 | -3.97244 ||  21  |4.7e-02 | -6.18623 | 10.00000 | 10.00000 |\n",
      "|  39  |7.5e-02 | 4.54113  | -9.30468 | 6.62721  ||  21  |4.7e-02 | -6.18623 | 10.00000 | 10.00000 |\n",
      "|  40  |1.1e-01 | 1.93533  | 10.00000 | 5.28316  ||  21  |4.7e-02 | -6.18623 | 10.00000 | 10.00000 |\n",
      "|  41  |1.4e-01 | 10.00000 | -3.68540 | 2.57669  ||  21  |4.7e-02 | -6.18623 | 10.00000 | 10.00000 |\n",
      "|  42  |5.4e-02 | -1.19370 | 2.82783  | 5.55564  ||  21  |4.7e-02 | -6.18623 | 10.00000 | 10.00000 |\n",
      "|  43  |1.7e-02 | 2.02465  | -0.06580 | 3.23066  ||  43  |1.7e-02 | 2.02465  | -0.06580 | 3.23066  |\n",
      "|  44  |9.8e-02 | 10.00000 | 10.00000 | -1.18047 ||  43  |1.7e-02 | 2.02465  | -0.06580 | 3.23066  |\n",
      "-------------------------------------------------------------------------------------------------\n",
      "| Itr  |  Loss  |    Jx    |    Jy    |    Jz    ||BestIt|BestLoss|Best  Jx  |Best  Jy  |Best  Jz  |\n",
      "-------------------------------------------------------------------------------------------------\n",
      "|  45  |1.4e-02 | 2.28133  | -4.41911 | 4.35187  ||  45  |1.4e-02 | 2.28133  | -4.41911 | 4.35187  |\n",
      "|  46  |1.1e-01 | -5.63387 |-10.00000 | 10.00000 ||  45  |1.4e-02 | 2.28133  | -4.41911 | 4.35187  |\n",
      "|  47  |4.0e-01 |-10.00000 | -2.65289 | 10.00000 ||  45  |1.4e-02 | 2.28133  | -4.41911 | 4.35187  |\n",
      "|  48  |4.6e-02 | 10.00000 |-10.00000 | 10.00000 ||  45  |1.4e-02 | 2.28133  | -4.41911 | 4.35187  |\n",
      "|  49  |6.9e-02 | -0.13615 | -6.08967 | 7.26319  ||  45  |1.4e-02 | 2.28133  | -4.41911 | 4.35187  |\n",
      "|  50  |1.2e-01 | 10.00000 | 10.00000 | 4.28906  ||  45  |1.4e-02 | 2.28133  | -4.41911 | 4.35187  |\n",
      "|  51  |4.7e-02 | 2.12617  | -1.84638 | 5.07541  ||  45  |1.4e-02 | 2.28133  | -4.41911 | 4.35187  |\n",
      "|  52  |3.5e-02 | 4.18598  | -2.95450 | 1.81050  ||  45  |1.4e-02 | 2.28133  | -4.41911 | 4.35187  |\n",
      "|  53  |1.3e-01 | 10.00000 | 4.54219  | 10.00000 ||  45  |1.4e-02 | 2.28133  | -4.41911 | 4.35187  |\n",
      "|  54  |7.3e-01 | -0.21626 | 10.00000 |-10.00000 ||  45  |1.4e-02 | 2.28133  | -4.41911 | 4.35187  |\n",
      "|  55  |8.9e-02 | 6.77115  | 9.63694  | -3.34201 ||  45  |1.4e-02 | 2.28133  | -4.41911 | 4.35187  |\n",
      "|  56  |3.0e-02 | 5.40891  | -5.51981 | 4.10848  ||  45  |1.4e-02 | 2.28133  | -4.41911 | 4.35187  |\n",
      "|  57  |7.2e-01 | 10.00000 | 6.67633  |-10.00000 ||  45  |1.4e-02 | 2.28133  | -4.41911 | 4.35187  |\n",
      "|  58  |2.3e-01 | 10.00000 |-10.00000 | -2.73137 ||  45  |1.4e-02 | 2.28133  | -4.41911 | 4.35187  |\n",
      "|  59  |1.2e-01 | 10.00000 | 5.13300  | 0.73151  ||  45  |1.4e-02 | 2.28133  | -4.41911 | 4.35187  |\n",
      "-------------------------------------------------------------------------------------------------\n",
      "| Itr  |  Loss  |    Jx    |    Jy    |    Jz    ||BestIt|BestLoss|Best  Jx  |Best  Jy  |Best  Jz  |\n",
      "-------------------------------------------------------------------------------------------------\n",
      "|  60  |6.7e-02 | 2.28886  | -6.17297 | 2.55120  ||  45  |1.4e-02 | 2.28133  | -4.41911 | 4.35187  |\n",
      "|  61  |4.4e-02 | 4.23721  | 0.65078  | 2.10510  ||  45  |1.4e-02 | 2.28133  | -4.41911 | 4.35187  |\n",
      "|  62  |1.2e-01 | 0.07440  | 4.50462  | 9.96168  ||  45  |1.4e-02 | 2.28133  | -4.41911 | 4.35187  |\n",
      "|  63  |6.8e-02 | -3.92483 | 9.89661  | 9.99685  ||  45  |1.4e-02 | 2.28133  | -4.41911 | 4.35187  |\n",
      "|  64  |7.0e-02 | 8.06642  | -6.55632 | 10.00000 ||  45  |1.4e-02 | 2.28133  | -4.41911 | 4.35187  |\n",
      "|  65  |8.6e-03 | 0.52165  | 2.08319  | 2.56094  ||  65  |8.6e-03 | 0.52165  | 2.08319  | 2.56094  |\n"
     ]
    },
    {
     "name": "stdout",
     "output_type": "stream",
     "text": [
      "|  66  |9.6e-03 | 0.44269  | -2.47418 | 3.03821  ||  65  |8.6e-03 | 0.52165  | 2.08319  | 2.56094  |\n",
      "|  67  |2.1e-02 | -0.20647 | 0.07314  | 3.04274  ||  65  |8.6e-03 | 0.52165  | 2.08319  | 2.56094  |\n",
      "|  68  |1.7e-03 | 1.71024  | 0.70232  | 1.07379  ||  68  |1.7e-03 | 1.71024  | 0.70232  | 1.07379  |\n",
      "|  69  |1.4e-03 | 1.32992  | -1.47801 | 2.28078  ||  69  |1.4e-03 | 1.32992  | -1.47801 | 2.28078  |\n",
      "|  70  |1.6e-02 | 2.23340  | 2.75184  | 0.84460  ||  69  |1.4e-03 | 1.32992  | -1.47801 | 2.28078  |\n",
      "|  71  |1.2e-01 | 6.76682  | 7.18699  | 6.63359  ||  69  |1.4e-03 | 1.32992  | -1.47801 | 2.28078  |\n",
      "|  72  |5.8e-02 | 8.46579  |-10.00000 | 7.56883  ||  69  |1.4e-03 | 1.32992  | -1.47801 | 2.28078  |\n",
      "|  73  |4.3e-03 | 2.12697  | -2.94504 | 3.02961  ||  69  |1.4e-03 | 1.32992  | -1.47801 | 2.28078  |\n",
      "|  74  |3.2e-02 | 6.40153  | -4.82157 | 6.67922  ||  69  |1.4e-03 | 1.32992  | -1.47801 | 2.28078  |\n",
      "-------------------------------------------------------------------------------------------------\n",
      "| Itr  |  Loss  |    Jx    |    Jy    |    Jz    ||BestIt|BestLoss|Best  Jx  |Best  Jy  |Best  Jz  |\n",
      "-------------------------------------------------------------------------------------------------\n",
      "|  75  |1.4e-03 | 1.22818  | 0.40593  | 2.04950  ||  75  |1.4e-03 | 1.22818  | 0.40593  | 2.04950  |\n",
      "|  76  |1.2e-01 | 6.00848  | 3.32753  | 10.00000 ||  75  |1.4e-03 | 1.22818  | 0.40593  | 2.04950  |\n",
      "|  77  |8.4e-01 |-10.00000 |-10.00000 |-10.00000 ||  75  |1.4e-03 | 1.22818  | 0.40593  | 2.04950  |\n",
      "|  78  |1.3e-01 | -0.16355 |-10.00000 | -0.34450 ||  75  |1.4e-03 | 1.22818  | 0.40593  | 2.04950  |\n",
      "|  79  |8.8e-02 | -2.99590 | -5.94829 | 4.52891  ||  75  |1.4e-03 | 1.22818  | 0.40593  | 2.04950  |\n",
      "|  80  |1.9e-01 | 4.39206  | -9.97255 | -2.65028 ||  75  |1.4e-03 | 1.22818  | 0.40593  | 2.04950  |\n",
      "|  81  |1.2e-01 | -0.66040 | 10.00000 | 1.57132  ||  75  |1.4e-03 | 1.22818  | 0.40593  | 2.04950  |\n",
      "|  82  |6.6e-02 | -2.31275 | 3.48806  | 2.33442  ||  75  |1.4e-03 | 1.22818  | 0.40593  | 2.04950  |\n",
      "|  83  |9.3e-02 | -2.34792 | -8.24104 | 9.88467  ||  75  |1.4e-03 | 1.22818  | 0.40593  | 2.04950  |\n",
      "|  84  |6.8e-02 | -5.66709 | 7.64728  | 10.00000 ||  75  |1.4e-03 | 1.22818  | 0.40593  | 2.04950  |\n",
      "|  85  |6.8e-03 | 0.19720  | 2.11543  | 0.61360  ||  75  |1.4e-03 | 1.22818  | 0.40593  | 2.04950  |\n",
      "|  86  |2.8e-02 | 2.43007  | 3.39286  | -1.72503 ||  75  |1.4e-03 | 1.22818  | 0.40593  | 2.04950  |\n",
      "|  87  |1.7e-01 |-10.00000 |-10.00000 | 10.00000 ||  75  |1.4e-03 | 1.22818  | 0.40593  | 2.04950  |\n",
      "|  88  |1.6e-02 | 4.37427  | -3.73183 | 4.54537  ||  75  |1.4e-03 | 1.22818  | 0.40593  | 2.04950  |\n",
      "|  89  |6.5e-02 | 2.97206  | 6.01838  | -1.42126 ||  75  |1.4e-03 | 1.22818  | 0.40593  | 2.04950  |\n",
      "-------------------------------------------------------------------------------------------------\n",
      "| Itr  |  Loss  |    Jx    |    Jy    |    Jz    ||BestIt|BestLoss|Best  Jx  |Best  Jy  |Best  Jz  |\n",
      "-------------------------------------------------------------------------------------------------\n",
      "|  90  |3.0e-02 | 3.30048  | 1.46769  | -0.60472 ||  75  |1.4e-03 | 1.22818  | 0.40593  | 2.04950  |\n",
      "|  91  |3.9e-02 | -0.33829 | 5.11139  | 4.20219  ||  75  |1.4e-03 | 1.22818  | 0.40593  | 2.04950  |\n",
      "|  92  |1.1e-01 | 0.55301  | -9.93538 | 3.87625  ||  75  |1.4e-03 | 1.22818  | 0.40593  | 2.04950  |\n",
      "|  93  |5.2e-04 | 1.00638  | 1.27193  | 1.03940  ||  93  |5.2e-04 | 1.00638  | 1.27193  | 1.03940  |\n",
      "|  94  |2.3e-02 | 4.39380  | -5.59733 | 6.25636  ||  93  |5.2e-04 | 1.00638  | 1.27193  | 1.03940  |\n",
      "|  95  |3.8e-02 | 7.26856  | -7.18293 | 6.07051  ||  93  |5.2e-04 | 1.00638  | 1.27193  | 1.03940  |\n",
      "|  96  |7.5e-02 | 10.00000 | 10.00000 | -4.96034 ||  93  |5.2e-04 | 1.00638  | 1.27193  | 1.03940  |\n",
      "|  97  |3.7e-02 | 0.05212  | -5.00115 | 3.40295  ||  93  |5.2e-04 | 1.00638  | 1.27193  | 1.03940  |\n",
      "|  98  |4.8e-03 | 2.52119  | -1.10293 | 2.03708  ||  93  |5.2e-04 | 1.00638  | 1.27193  | 1.03940  |\n",
      "|  99  |5.9e-03 | 1.23925  | 2.40122  | 0.31506  ||  93  |5.2e-04 | 1.00638  | 1.27193  | 1.03940  |\n",
      "| 100  |1.1e-02 | 0.90415  | -0.40854 | 1.24148  ||  93  |5.2e-04 | 1.00638  | 1.27193  | 1.03940  |\n",
      "| 101  |8.2e-02 | 1.21337  | 6.21051  | 7.00575  ||  93  |5.2e-04 | 1.00638  | 1.27193  | 1.03940  |\n",
      "| 102  |1.3e-01 | 9.92617  | 0.85929  | 2.30972  ||  93  |5.2e-04 | 1.00638  | 1.27193  | 1.03940  |\n",
      "| 103  |6.2e-03 | 0.41533  | 2.61209  | 1.59363  ||  93  |5.2e-04 | 1.00638  | 1.27193  | 1.03940  |\n",
      "| 104  |6.6e-02 | -2.81847 | 4.99867  | 7.49297  ||  93  |5.2e-04 | 1.00638  | 1.27193  | 1.03940  |\n",
      "-------------------------------------------------------------------------------------------------\n",
      "| Itr  |  Loss  |    Jx    |    Jy    |    Jz    ||BestIt|BestLoss|Best  Jx  |Best  Jy  |Best  Jz  |\n",
      "-------------------------------------------------------------------------------------------------\n",
      "| 105  |1.2e-01 | -0.72520 | 5.54640  | -2.21192 ||  93  |5.2e-04 | 1.00638  | 1.27193  | 1.03940  |\n",
      "| 106  |2.6e-03 | 1.21566  | 1.41605  | 1.66513  ||  93  |5.2e-04 | 1.00638  | 1.27193  | 1.03940  |\n"
     ]
    },
    {
     "name": "stderr",
     "output_type": "stream",
     "text": [
      "ERROR:root:Internal Python error in the inspect module.\n",
      "Below is the traceback from this internal error.\n",
      "\n"
     ]
    },
    {
     "name": "stdout",
     "output_type": "stream",
     "text": [
      "Traceback (most recent call last):\n",
      "  File \"/Users/bunbun/miniconda3/envs/qmagen/lib/python3.9/site-packages/IPython/core/interactiveshell.py\", line 3437, in run_code\n",
      "    exec(code_obj, self.user_global_ns, self.user_ns)\n",
      "  File \"<ipython-input-8-22d66fe99046>\", line 1, in <module>\n",
      "    res = Opt.minimize(log_accelerate=False)\n",
      "  File \"/Users/bunbun/Git/PyQMagen/magen/optimizer/bayesian_optimizer.py\", line 93, in minimize\n",
      "    loss = self.eval_loss(**next_point)\n",
      "  File \"/Users/bunbun/Git/PyQMagen/magen/optimizer/optimizer.py\", line 32, in eval_loss\n",
      "    simulated_thermal_data = self.solver.forward(interactions=interactions,\n",
      "  File \"/Users/bunbun/Git/PyQMagen/magen/solver/ed_solver.py\", line 110, in forward\n",
      "    sim_therm_data_aux = self._solve_from_interaction(interactions, T, mag_field_aux)\n",
      "  File \"/Users/bunbun/Git/PyQMagen/magen/solver/ed_solver.py\", line 66, in _solve_from_interaction\n",
      "    [ESpec, U] = torch.symeig(h_matrix, eigenvectors=True)\n",
      "KeyboardInterrupt\n",
      "\n",
      "During handling of the above exception, another exception occurred:\n",
      "\n",
      "Traceback (most recent call last):\n",
      "  File \"/Users/bunbun/miniconda3/envs/qmagen/lib/python3.9/site-packages/IPython/core/interactiveshell.py\", line 2061, in showtraceback\n",
      "    stb = value._render_traceback_()\n",
      "AttributeError: 'KeyboardInterrupt' object has no attribute '_render_traceback_'\n",
      "\n",
      "During handling of the above exception, another exception occurred:\n",
      "\n",
      "Traceback (most recent call last):\n",
      "  File \"/Users/bunbun/miniconda3/envs/qmagen/lib/python3.9/site-packages/IPython/core/ultratb.py\", line 1101, in get_records\n",
      "    return _fixed_getinnerframes(etb, number_of_lines_of_context, tb_offset)\n",
      "  File \"/Users/bunbun/miniconda3/envs/qmagen/lib/python3.9/site-packages/IPython/core/ultratb.py\", line 248, in wrapped\n",
      "    return f(*args, **kwargs)\n",
      "  File \"/Users/bunbun/miniconda3/envs/qmagen/lib/python3.9/site-packages/IPython/core/ultratb.py\", line 281, in _fixed_getinnerframes\n",
      "    records = fix_frame_records_filenames(inspect.getinnerframes(etb, context))\n",
      "  File \"/Users/bunbun/miniconda3/envs/qmagen/lib/python3.9/inspect.py\", line 1541, in getinnerframes\n",
      "    frameinfo = (tb.tb_frame,) + getframeinfo(tb, context)\n",
      "  File \"/Users/bunbun/miniconda3/envs/qmagen/lib/python3.9/inspect.py\", line 1499, in getframeinfo\n",
      "    filename = getsourcefile(frame) or getfile(frame)\n",
      "  File \"/Users/bunbun/miniconda3/envs/qmagen/lib/python3.9/inspect.py\", line 709, in getsourcefile\n",
      "    if getattr(getmodule(object, filename), '__loader__', None) is not None:\n",
      "  File \"/Users/bunbun/miniconda3/envs/qmagen/lib/python3.9/inspect.py\", line 752, in getmodule\n",
      "    f = getabsfile(module)\n",
      "  File \"/Users/bunbun/miniconda3/envs/qmagen/lib/python3.9/inspect.py\", line 721, in getabsfile\n",
      "    _filename = getsourcefile(object) or getfile(object)\n",
      "  File \"/Users/bunbun/miniconda3/envs/qmagen/lib/python3.9/inspect.py\", line 706, in getsourcefile\n",
      "    if os.path.exists(filename):\n",
      "KeyboardInterrupt\n"
     ]
    },
    {
     "ename": "TypeError",
     "evalue": "object of type 'NoneType' has no len()",
     "output_type": "error",
     "traceback": [
      "\u001b[0;31m---------------------------------------------------------------------------\u001b[0m",
      "\u001b[0;31mKeyboardInterrupt\u001b[0m                         Traceback (most recent call last)",
      "    \u001b[0;31m[... skipping hidden 1 frame]\u001b[0m\n",
      "\u001b[0;32m<ipython-input-8-22d66fe99046>\u001b[0m in \u001b[0;36m<module>\u001b[0;34m\u001b[0m\n\u001b[0;32m----> 1\u001b[0;31m \u001b[0mres\u001b[0m \u001b[0;34m=\u001b[0m \u001b[0mOpt\u001b[0m\u001b[0;34m.\u001b[0m\u001b[0mminimize\u001b[0m\u001b[0;34m(\u001b[0m\u001b[0mlog_accelerate\u001b[0m\u001b[0;34m=\u001b[0m\u001b[0;32mFalse\u001b[0m\u001b[0;34m)\u001b[0m\u001b[0;34m\u001b[0m\u001b[0;34m\u001b[0m\u001b[0m\n\u001b[0m",
      "\u001b[0;32m~/Git/PyQMagen/magen/optimizer/bayesian_optimizer.py\u001b[0m in \u001b[0;36mminimize\u001b[0;34m(self, log_accelerate)\u001b[0m\n\u001b[1;32m     92\u001b[0m \u001b[0;34m\u001b[0m\u001b[0m\n\u001b[0;32m---> 93\u001b[0;31m                 \u001b[0mloss\u001b[0m \u001b[0;34m=\u001b[0m \u001b[0mself\u001b[0m\u001b[0;34m.\u001b[0m\u001b[0meval_loss\u001b[0m\u001b[0;34m(\u001b[0m\u001b[0;34m**\u001b[0m\u001b[0mnext_point\u001b[0m\u001b[0;34m)\u001b[0m\u001b[0;34m\u001b[0m\u001b[0;34m\u001b[0m\u001b[0m\n\u001b[0m\u001b[1;32m     94\u001b[0m \u001b[0;34m\u001b[0m\u001b[0m\n",
      "\u001b[0;32m~/Git/PyQMagen/magen/optimizer/optimizer.py\u001b[0m in \u001b[0;36meval_loss\u001b[0;34m(self, **parameter_point)\u001b[0m\n\u001b[1;32m     31\u001b[0m         \u001b[0minteractions\u001b[0m \u001b[0;34m=\u001b[0m \u001b[0mself\u001b[0m\u001b[0;34m.\u001b[0m\u001b[0mmodel\u001b[0m\u001b[0;34m.\u001b[0m\u001b[0mgenerate_interactions\u001b[0m\u001b[0;34m(\u001b[0m\u001b[0;34m**\u001b[0m\u001b[0mparameter_point\u001b[0m\u001b[0;34m)\u001b[0m\u001b[0;34m\u001b[0m\u001b[0;34m\u001b[0m\u001b[0m\n\u001b[0;32m---> 32\u001b[0;31m         simulated_thermal_data = self.solver.forward(interactions=interactions,\n\u001b[0m\u001b[1;32m     33\u001b[0m                                                      T=self.exp_thermal_data.T)\n",
      "\u001b[0;32m~/Git/PyQMagen/magen/solver/ed_solver.py\u001b[0m in \u001b[0;36mforward\u001b[0;34m(self, interactions, T, mag_field, with_chi_para)\u001b[0m\n\u001b[1;32m    109\u001b[0m                 \u001b[0mmag_field_aux\u001b[0m \u001b[0;34m=\u001b[0m \u001b[0;34m{\u001b[0m\u001b[0;34m'hx'\u001b[0m\u001b[0;34m:\u001b[0m \u001b[0;36m0.05\u001b[0m\u001b[0;34m,\u001b[0m \u001b[0;34m'hz'\u001b[0m\u001b[0;34m:\u001b[0m \u001b[0;36m0.0\u001b[0m\u001b[0;34m}\u001b[0m\u001b[0;34m\u001b[0m\u001b[0;34m\u001b[0m\u001b[0m\n\u001b[0;32m--> 110\u001b[0;31m                 \u001b[0msim_therm_data_aux\u001b[0m \u001b[0;34m=\u001b[0m \u001b[0mself\u001b[0m\u001b[0;34m.\u001b[0m\u001b[0m_solve_from_interaction\u001b[0m\u001b[0;34m(\u001b[0m\u001b[0minteractions\u001b[0m\u001b[0;34m,\u001b[0m \u001b[0mT\u001b[0m\u001b[0;34m,\u001b[0m \u001b[0mmag_field_aux\u001b[0m\u001b[0;34m)\u001b[0m\u001b[0;34m\u001b[0m\u001b[0;34m\u001b[0m\u001b[0m\n\u001b[0m\u001b[1;32m    111\u001b[0m                 \u001b[0mM_aux\u001b[0m \u001b[0;34m=\u001b[0m \u001b[0msim_therm_data_aux\u001b[0m\u001b[0;34m.\u001b[0m\u001b[0mM_paral\u001b[0m\u001b[0;34m\u001b[0m\u001b[0;34m\u001b[0m\u001b[0m\n",
      "\u001b[0;32m~/Git/PyQMagen/magen/solver/ed_solver.py\u001b[0m in \u001b[0;36m_solve_from_interaction\u001b[0;34m(self, interactions, T, mag_field)\u001b[0m\n\u001b[1;32m     65\u001b[0m \u001b[0;34m\u001b[0m\u001b[0m\n\u001b[0;32m---> 66\u001b[0;31m         \u001b[0;34m[\u001b[0m\u001b[0mESpec\u001b[0m\u001b[0;34m,\u001b[0m \u001b[0mU\u001b[0m\u001b[0;34m]\u001b[0m \u001b[0;34m=\u001b[0m \u001b[0mtorch\u001b[0m\u001b[0;34m.\u001b[0m\u001b[0msymeig\u001b[0m\u001b[0;34m(\u001b[0m\u001b[0mh_matrix\u001b[0m\u001b[0;34m,\u001b[0m \u001b[0meigenvectors\u001b[0m\u001b[0;34m=\u001b[0m\u001b[0;32mTrue\u001b[0m\u001b[0;34m)\u001b[0m\u001b[0;34m\u001b[0m\u001b[0;34m\u001b[0m\u001b[0m\n\u001b[0m\u001b[1;32m     67\u001b[0m         \u001b[0mSztot\u001b[0m \u001b[0;34m=\u001b[0m \u001b[0msum\u001b[0m\u001b[0;34m(\u001b[0m\u001b[0mSpinOps\u001b[0m\u001b[0;34m.\u001b[0m\u001b[0mSzP\u001b[0m\u001b[0;34m)\u001b[0m\u001b[0;34m.\u001b[0m\u001b[0mdouble\u001b[0m\u001b[0;34m(\u001b[0m\u001b[0;34m)\u001b[0m\u001b[0;34m\u001b[0m\u001b[0;34m\u001b[0m\u001b[0m\n",
      "\u001b[0;31mKeyboardInterrupt\u001b[0m: ",
      "\nDuring handling of the above exception, another exception occurred:\n",
      "\u001b[0;31mAttributeError\u001b[0m                            Traceback (most recent call last)",
      "\u001b[0;32m~/miniconda3/envs/qmagen/lib/python3.9/site-packages/IPython/core/interactiveshell.py\u001b[0m in \u001b[0;36mshowtraceback\u001b[0;34m(self, exc_tuple, filename, tb_offset, exception_only, running_compiled_code)\u001b[0m\n\u001b[1;32m   2060\u001b[0m                         \u001b[0;31m# in the engines. This should return a list of strings.\u001b[0m\u001b[0;34m\u001b[0m\u001b[0;34m\u001b[0m\u001b[0;34m\u001b[0m\u001b[0m\n\u001b[0;32m-> 2061\u001b[0;31m                         \u001b[0mstb\u001b[0m \u001b[0;34m=\u001b[0m \u001b[0mvalue\u001b[0m\u001b[0;34m.\u001b[0m\u001b[0m_render_traceback_\u001b[0m\u001b[0;34m(\u001b[0m\u001b[0;34m)\u001b[0m\u001b[0;34m\u001b[0m\u001b[0;34m\u001b[0m\u001b[0m\n\u001b[0m\u001b[1;32m   2062\u001b[0m                     \u001b[0;32mexcept\u001b[0m \u001b[0mException\u001b[0m\u001b[0;34m:\u001b[0m\u001b[0;34m\u001b[0m\u001b[0;34m\u001b[0m\u001b[0m\n",
      "\u001b[0;31mAttributeError\u001b[0m: 'KeyboardInterrupt' object has no attribute '_render_traceback_'",
      "\nDuring handling of the above exception, another exception occurred:\n",
      "\u001b[0;31mTypeError\u001b[0m                                 Traceback (most recent call last)",
      "    \u001b[0;31m[... skipping hidden 1 frame]\u001b[0m\n",
      "\u001b[0;32m~/miniconda3/envs/qmagen/lib/python3.9/site-packages/IPython/core/interactiveshell.py\u001b[0m in \u001b[0;36mshowtraceback\u001b[0;34m(self, exc_tuple, filename, tb_offset, exception_only, running_compiled_code)\u001b[0m\n\u001b[1;32m   2061\u001b[0m                         \u001b[0mstb\u001b[0m \u001b[0;34m=\u001b[0m \u001b[0mvalue\u001b[0m\u001b[0;34m.\u001b[0m\u001b[0m_render_traceback_\u001b[0m\u001b[0;34m(\u001b[0m\u001b[0;34m)\u001b[0m\u001b[0;34m\u001b[0m\u001b[0;34m\u001b[0m\u001b[0m\n\u001b[1;32m   2062\u001b[0m                     \u001b[0;32mexcept\u001b[0m \u001b[0mException\u001b[0m\u001b[0;34m:\u001b[0m\u001b[0;34m\u001b[0m\u001b[0;34m\u001b[0m\u001b[0m\n\u001b[0;32m-> 2063\u001b[0;31m                         stb = self.InteractiveTB.structured_traceback(etype,\n\u001b[0m\u001b[1;32m   2064\u001b[0m                                             value, tb, tb_offset=tb_offset)\n\u001b[1;32m   2065\u001b[0m \u001b[0;34m\u001b[0m\u001b[0m\n",
      "\u001b[0;32m~/miniconda3/envs/qmagen/lib/python3.9/site-packages/IPython/core/ultratb.py\u001b[0m in \u001b[0;36mstructured_traceback\u001b[0;34m(self, etype, value, tb, tb_offset, number_of_lines_of_context)\u001b[0m\n\u001b[1;32m   1365\u001b[0m         \u001b[0;32melse\u001b[0m\u001b[0;34m:\u001b[0m\u001b[0;34m\u001b[0m\u001b[0;34m\u001b[0m\u001b[0m\n\u001b[1;32m   1366\u001b[0m             \u001b[0mself\u001b[0m\u001b[0;34m.\u001b[0m\u001b[0mtb\u001b[0m \u001b[0;34m=\u001b[0m \u001b[0mtb\u001b[0m\u001b[0;34m\u001b[0m\u001b[0;34m\u001b[0m\u001b[0m\n\u001b[0;32m-> 1367\u001b[0;31m         return FormattedTB.structured_traceback(\n\u001b[0m\u001b[1;32m   1368\u001b[0m             self, etype, value, tb, tb_offset, number_of_lines_of_context)\n\u001b[1;32m   1369\u001b[0m \u001b[0;34m\u001b[0m\u001b[0m\n",
      "\u001b[0;32m~/miniconda3/envs/qmagen/lib/python3.9/site-packages/IPython/core/ultratb.py\u001b[0m in \u001b[0;36mstructured_traceback\u001b[0;34m(self, etype, value, tb, tb_offset, number_of_lines_of_context)\u001b[0m\n\u001b[1;32m   1265\u001b[0m         \u001b[0;32mif\u001b[0m \u001b[0mmode\u001b[0m \u001b[0;32min\u001b[0m \u001b[0mself\u001b[0m\u001b[0;34m.\u001b[0m\u001b[0mverbose_modes\u001b[0m\u001b[0;34m:\u001b[0m\u001b[0;34m\u001b[0m\u001b[0;34m\u001b[0m\u001b[0m\n\u001b[1;32m   1266\u001b[0m             \u001b[0;31m# Verbose modes need a full traceback\u001b[0m\u001b[0;34m\u001b[0m\u001b[0;34m\u001b[0m\u001b[0;34m\u001b[0m\u001b[0m\n\u001b[0;32m-> 1267\u001b[0;31m             return VerboseTB.structured_traceback(\n\u001b[0m\u001b[1;32m   1268\u001b[0m                 \u001b[0mself\u001b[0m\u001b[0;34m,\u001b[0m \u001b[0metype\u001b[0m\u001b[0;34m,\u001b[0m \u001b[0mvalue\u001b[0m\u001b[0;34m,\u001b[0m \u001b[0mtb\u001b[0m\u001b[0;34m,\u001b[0m \u001b[0mtb_offset\u001b[0m\u001b[0;34m,\u001b[0m \u001b[0mnumber_of_lines_of_context\u001b[0m\u001b[0;34m\u001b[0m\u001b[0;34m\u001b[0m\u001b[0m\n\u001b[1;32m   1269\u001b[0m             )\n",
      "\u001b[0;32m~/miniconda3/envs/qmagen/lib/python3.9/site-packages/IPython/core/ultratb.py\u001b[0m in \u001b[0;36mstructured_traceback\u001b[0;34m(self, etype, evalue, etb, tb_offset, number_of_lines_of_context)\u001b[0m\n\u001b[1;32m   1122\u001b[0m         \u001b[0;34m\"\"\"Return a nice text document describing the traceback.\"\"\"\u001b[0m\u001b[0;34m\u001b[0m\u001b[0;34m\u001b[0m\u001b[0m\n\u001b[1;32m   1123\u001b[0m \u001b[0;34m\u001b[0m\u001b[0m\n\u001b[0;32m-> 1124\u001b[0;31m         formatted_exception = self.format_exception_as_a_whole(etype, evalue, etb, number_of_lines_of_context,\n\u001b[0m\u001b[1;32m   1125\u001b[0m                                                                tb_offset)\n\u001b[1;32m   1126\u001b[0m \u001b[0;34m\u001b[0m\u001b[0m\n",
      "\u001b[0;32m~/miniconda3/envs/qmagen/lib/python3.9/site-packages/IPython/core/ultratb.py\u001b[0m in \u001b[0;36mformat_exception_as_a_whole\u001b[0;34m(self, etype, evalue, etb, number_of_lines_of_context, tb_offset)\u001b[0m\n\u001b[1;32m   1080\u001b[0m \u001b[0;34m\u001b[0m\u001b[0m\n\u001b[1;32m   1081\u001b[0m \u001b[0;34m\u001b[0m\u001b[0m\n\u001b[0;32m-> 1082\u001b[0;31m         \u001b[0mlast_unique\u001b[0m\u001b[0;34m,\u001b[0m \u001b[0mrecursion_repeat\u001b[0m \u001b[0;34m=\u001b[0m \u001b[0mfind_recursion\u001b[0m\u001b[0;34m(\u001b[0m\u001b[0morig_etype\u001b[0m\u001b[0;34m,\u001b[0m \u001b[0mevalue\u001b[0m\u001b[0;34m,\u001b[0m \u001b[0mrecords\u001b[0m\u001b[0;34m)\u001b[0m\u001b[0;34m\u001b[0m\u001b[0;34m\u001b[0m\u001b[0m\n\u001b[0m\u001b[1;32m   1083\u001b[0m \u001b[0;34m\u001b[0m\u001b[0m\n\u001b[1;32m   1084\u001b[0m         \u001b[0mframes\u001b[0m \u001b[0;34m=\u001b[0m \u001b[0mself\u001b[0m\u001b[0;34m.\u001b[0m\u001b[0mformat_records\u001b[0m\u001b[0;34m(\u001b[0m\u001b[0mrecords\u001b[0m\u001b[0;34m,\u001b[0m \u001b[0mlast_unique\u001b[0m\u001b[0;34m,\u001b[0m \u001b[0mrecursion_repeat\u001b[0m\u001b[0;34m)\u001b[0m\u001b[0;34m\u001b[0m\u001b[0;34m\u001b[0m\u001b[0m\n",
      "\u001b[0;32m~/miniconda3/envs/qmagen/lib/python3.9/site-packages/IPython/core/ultratb.py\u001b[0m in \u001b[0;36mfind_recursion\u001b[0;34m(etype, value, records)\u001b[0m\n\u001b[1;32m    380\u001b[0m     \u001b[0;31m# first frame (from in to out) that looks different.\u001b[0m\u001b[0;34m\u001b[0m\u001b[0;34m\u001b[0m\u001b[0;34m\u001b[0m\u001b[0m\n\u001b[1;32m    381\u001b[0m     \u001b[0;32mif\u001b[0m \u001b[0;32mnot\u001b[0m \u001b[0mis_recursion_error\u001b[0m\u001b[0;34m(\u001b[0m\u001b[0metype\u001b[0m\u001b[0;34m,\u001b[0m \u001b[0mvalue\u001b[0m\u001b[0;34m,\u001b[0m \u001b[0mrecords\u001b[0m\u001b[0;34m)\u001b[0m\u001b[0;34m:\u001b[0m\u001b[0;34m\u001b[0m\u001b[0;34m\u001b[0m\u001b[0m\n\u001b[0;32m--> 382\u001b[0;31m         \u001b[0;32mreturn\u001b[0m \u001b[0mlen\u001b[0m\u001b[0;34m(\u001b[0m\u001b[0mrecords\u001b[0m\u001b[0;34m)\u001b[0m\u001b[0;34m,\u001b[0m \u001b[0;36m0\u001b[0m\u001b[0;34m\u001b[0m\u001b[0;34m\u001b[0m\u001b[0m\n\u001b[0m\u001b[1;32m    383\u001b[0m \u001b[0;34m\u001b[0m\u001b[0m\n\u001b[1;32m    384\u001b[0m     \u001b[0;31m# Select filename, lineno, func_name to track frames with\u001b[0m\u001b[0;34m\u001b[0m\u001b[0;34m\u001b[0m\u001b[0;34m\u001b[0m\u001b[0m\n",
      "\u001b[0;31mTypeError\u001b[0m: object of type 'NoneType' has no len()"
     ]
    }
   ],
   "source": [
    "res = Opt.minimize(log_accelerate=False)"
   ]
  },
  {
   "cell_type": "markdown",
   "id": "infrared-colony",
   "metadata": {},
   "source": [
    "note that we set ```log_accelerate=False```, using log scale during optimization can further improve efficiency. \n",
    "However, the log scale loss function will cause numercial problem for landscape prediction. If user wants to visualize the loss landscape, we recommand setting ```log_accelerate=False``` until the numerical issue being resolved in the future.\n",
    "\n",
    "---\n",
    "\n",
    "Visualizing the landscape is another benefit of the Bayesian optimizer. In short, a Gaussian process (GP) regression is used to fit the loss landscape, and predictions about mean and variance of loss at an unknown parameter point can be made by the GP.\n"
   ]
  },
  {
   "cell_type": "code",
   "execution_count": null,
   "id": "tropical-hybrid",
   "metadata": {},
   "outputs": [],
   "source": [
    "visualize.plot_funcs_2d.show_landscape(res,\n",
    "                                       plan_keys=['Jx', 'Jz'],\n",
    "#                                        fix_param={'Jy':1},\n",
    "#                                        itr=-1, \n",
    "                                       log_scale=True,\n",
    "                                      )"
   ]
  },
  {
   "cell_type": "markdown",
   "id": "perceived-expense",
   "metadata": {},
   "source": [
    "> ```itr``` default to be -1. Used to specify to check the landscape prediction at a given iteration\n",
    "\n",
    "> ```plan_keys``` two parameter names of the 2d parameter plan to visualize the landscape\n",
    "\n",
    "> ```fix_param``` if not specified, other parameters is set to their optimal values found during optimization. Can be specified using a dictionary"
   ]
  }
 ],
 "metadata": {
  "kernelspec": {
   "display_name": "Python 3",
   "language": "python",
   "name": "python3"
  },
  "language_info": {
   "codemirror_mode": {
    "name": "ipython",
    "version": 3
   },
   "file_extension": ".py",
   "mimetype": "text/x-python",
   "name": "python",
   "nbconvert_exporter": "python",
   "pygments_lexer": "ipython3",
   "version": "3.9.2"
  }
 },
 "nbformat": 4,
 "nbformat_minor": 5
}
