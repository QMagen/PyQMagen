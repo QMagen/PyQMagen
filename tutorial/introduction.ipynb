{
 "cells": [
  {
   "cell_type": "markdown",
   "id": "provincial-conservation",
   "metadata": {},
   "source": [
    "# PyQMagen\n",
    "\n",
    "The Python version of QMagen provides a highly \n",
    "customizable package for the analysis of thermal data \n",
    "of quantum magnets. \n",
    "Featuring Bayesian optimizer for the fitting loss, \n",
    "and combined with an ED solver,\n",
    "the PyQMagen is a computational light package \n",
    "that can analyze high temperature thermal data.\n",
    "\n",
    "## Basic usage: data input, thermal data calculation, and inferring model parameters\n",
    "\n",
    "---\n",
    "\n",
    "We will demonstrate the basic workflow of PyQMagen package with a spin-chain model, with Hamiltonian \n",
    "\n",
    "$$\n",
    "H = \\sum_{\\langle i,j \\rangle} J_x S_i^x S_j^x + J_y S_i^y S_j^y \n",
    "+ J_z S_i^z S_j^z.\n",
    "\\tag{1}\n",
    "$$\n",
    "\n",
    "\n"
   ]
  },
  {
   "cell_type": "code",
   "execution_count": 1,
   "id": "rental-hands",
   "metadata": {},
   "outputs": [],
   "source": [
    "import magen.solver as solver\n",
    "from magen.models import chain\n",
    "from magen.optimizer import BayesianOptimizer\n",
    "from magen import visualize\n",
    "import numpy as np\n",
    "import matplotlib.pyplot as plt\n",
    "from magen.aux_func import load_experiment_data"
   ]
  },
  {
   "cell_type": "markdown",
   "id": "multiple-sister",
   "metadata": {},
   "source": [
    "Experimental thermal data can be imported with function ```load_experiment_data```, with input ```experimental_files``` being a ```dict``` object defining name of thermal observables \n",
    "corresponding data files in .csv\n",
    "format (with  ',' as delimiter).\n",
    "The return is a ```ThObs``` object, with various thermal observables\n",
    "\n",
    ">In */Data/demo_data*, you can find experimental data generated with theoretical calculation (at thermodynamic limit) by linearized tensor renormalization group (LTRG) method. The experimental data was generated with Hamiltonian in (1), and $J_x = J_y = 1, J_z = 1.5$."
   ]
  },
  {
   "cell_type": "code",
   "execution_count": 4,
   "id": "knowing-render",
   "metadata": {},
   "outputs": [],
   "source": [
    "experimental_files = {'T':'../Data/demo_data/T.csv',\n",
    "                      'C':'../Data/demo_data/C.csv',\n",
    "                      'Chiz':'../Data/demo_data/Chiz.csv',\n",
    "                      'Chixy':'../Data/demo_data/Chixy.csv'}\n",
    "\n",
    "\n",
    "exp_thermal_data = load_experiment_data(experimental_files)"
   ]
  },
  {
   "cell_type": "markdown",
   "id": "cloudy-renewal",
   "metadata": {},
   "source": [
    "With ```model.chain```, we provided pre-defined templates for different spin models. \n",
    "Every model, for exemple, a ```chain``` object, has a method ```generate_interactions``` \n",
    "that can generate a interaction map with Hamiltonian parameters as its input."
   ]
  },
  {
   "cell_type": "code",
   "execution_count": 5,
   "id": "strategic-engineer",
   "metadata": {},
   "outputs": [],
   "source": [
    "mymodel = chain.XYZSpinChain(l=8)\n",
    "interactions = mymodel.generate_interactions(Jx=3., Jy=3., Jz=3.)"
   ]
  },
  {
   "cell_type": "markdown",
   "id": "neither-archive",
   "metadata": {},
   "source": [
    "Every element in ```interaction``` is a ```list``` or ```tuple``` object with following structure:"
   ]
  },
  {
   "cell_type": "code",
   "execution_count": 6,
   "id": "tribal-infection",
   "metadata": {},
   "outputs": [
    {
     "name": "stdout",
     "output_type": "stream",
     "text": [
      "['x', 'x', 0, 1, tensor(3.)]\n"
     ]
    }
   ],
   "source": [
    "print(interactions[0])"
   ]
  },
  {
   "cell_type": "markdown",
   "id": "fallen-credits",
   "metadata": {},
   "source": [
    "for example, the above element defines interaction $3 \\cdot S_0^x S_1^x$. \n",
    "\n",
    "You can also describe a customize Hamiltonian with this convention, by \n",
    "```interactions = custom_func(**parameter)```.\n",
    "\n",
    "Then, after getting the interaction map, we can call a ```solver``` to calculate\n",
    "thermal data:"
   ]
  },
  {
   "cell_type": "code",
   "execution_count": 7,
   "id": "caring-ancient",
   "metadata": {},
   "outputs": [],
   "source": [
    "# In EDSolver, by default chi_xy is not calculated\n",
    "# by setting cal_chi_para=True we can compute chi in xy-plane\n",
    "\n",
    "mysolver = solver.EDSolver(size=mymodel.l, cal_chi_para=True) \n",
    "thermal_data = mysolver.forward(interactions, \n",
    "                                T=exp_thermal_data.T, \n",
    "                                mag_field={'hx':0., 'hz':0.})"
   ]
  },
  {
   "cell_type": "markdown",
   "id": "numerous-celebration",
   "metadata": {},
   "source": [
    "```forward``` function in ```solver``` with return a ```ThObs``` object. \n",
    "\n",
    "Let's see the difference between experimental specific heat and theoretical calculation:"
   ]
  },
  {
   "cell_type": "code",
   "execution_count": 8,
   "id": "soviet-clinic",
   "metadata": {},
   "outputs": [
    {
     "data": {
      "text/plain": [
       "[<matplotlib.lines.Line2D at 0x7f9acec766d0>]"
      ]
     },
     "execution_count": 8,
     "metadata": {},
     "output_type": "execute_result"
    },
    {
     "data": {
      "image/png": "[encoded data removed]",
      "text/plain": [
       "<Figure size 432x288 with 1 Axes>"
      ]
     },
     "metadata": {
      "needs_background": "light"
     },
     "output_type": "display_data"
    }
   ],
   "source": [
    "plt.semilogx(exp_thermal_data.T, exp_thermal_data.C, 'o')\n",
    "plt.semilogx(exp_thermal_data.T, thermal_data.C.detach())"
   ]
  },
  {
   "cell_type": "markdown",
   "id": "intense-category",
   "metadata": {},
   "source": [
    "See the theorectical calculation does not match with the experimental data.\n",
    "In this case, although we know the candidate material is a spin-chian material,\n",
    "the parameter used for theoretical calculation $J_x=J_y=J_z=3$ differs from\n",
    "the true paramter $J_x^*=J_y^*=1, J_z^*=1.5$. \n",
    "\n",
    "The search for true parameter can be automated with optimization over fitting loss \n",
    "$\\mathcal{L}$. This scheme allow us to go beyond a handful of free parameters, reducing\n",
    "human bias, and automate the entire process.\n",
    "\n",
    "The recommended loss configuration is\n",
    "\n",
    "$$\n",
    "\\mathcal{L}(\\mathbf{x}) = \\sum_{\\alpha}\\frac{1}{N_\\alpha}\n",
    "(\\frac{O^\\mathrm{exp}_\\alpha-O^{\\rm sim, \\mathbf{x}}_\\alpha}{O^{\\rm exp}_\\alpha})^2,\n",
    "\\tag{2}\n",
    "$$\n",
    "\n",
    "the sum of squared relative errors between $O^{\\rm exp}_\\alpha$ and $O^{\\rm sim}_\\alpha$,\n",
    "the experimental and simulation data.\n",
    "\n",
    "The loss function in (2) is the default loss function if not specificly defined differently."
   ]
  },
  {
   "cell_type": "code",
   "execution_count": 9,
   "id": "standard-foster",
   "metadata": {},
   "outputs": [],
   "source": [
    "Opt = BayesianOptimizer(parameter_space={'Jx':(-10, 10), 'Jy':(-10, 10), 'Jz':(-10, 10)},\n",
    "                        n_exp_total=300,\n",
    "                        solver=mysolver,\n",
    "                        model=mymodel,\n",
    "                        T_cut=0,\n",
    "                        exp_thermal_data=exp_thermal_data,\n",
    "                        record_BO = True,\n",
    "                        target_obs=['C', 'Chiz', 'Chixy'])"
   ]
  },
  {
   "cell_type": "markdown",
   "id": "introductory-egyptian",
   "metadata": {},
   "source": [
    "```BayesianOptimizer``` is an efficient optimizer with relatively low dimensional parameter space, note  that the ```target_obs``` is a ```list``` of thermal observable names added into the loss computation.\n",
    "\n",
    "The ```minimize``` function can be called to initiate the optimization process, and it will return a ```BayesianOptimizationResult``` object as its result."
   ]
  },
  {
   "cell_type": "code",
   "execution_count": null,
   "id": "genuine-proxy",
   "metadata": {
    "scrolled": true
   },
   "outputs": [
    {
     "name": "stdout",
     "output_type": "stream",
     "text": [
      "|==================Optimization Start==================|\n",
      "|   Itr    |   Loss   |    Jx    |    Jy    |    Jz    |\n",
      "|    0     | 1.65e-01 | -4.19366 | 9.38526  | -2.02963 |\n",
      "|    1     | 6.57e-01 | -6.09148 | 4.94235  | -4.12651 |\n",
      "|    2     | 7.90e-02 | 8.64437  | -3.39861 | 6.87252  |\n",
      "|    3     | 8.29e-02 | 8.31674  | -9.00295 | 5.02878  |\n",
      "|    4     | 1.14e-01 | 0.89990  | 5.58439  | 9.47159  |\n",
      "|    5     | 9.26e-01 | -0.52398 | -8.40440 | -9.17894 |\n",
      "|    6     | 2.37e+00 | -6.63840 | 3.62801  | 4.96770  |\n",
      "|    7     | 1.04e-01 | -4.78647 | 1.98035  | 9.08978  |\n",
      "|    8     | 7.25e-02 | -0.34917 | -0.27411 | -0.19027 |\n",
      "|    9     | 3.54e+00 | -8.65190 | 0.49290  | 3.21047  |\n",
      "|    10    | 1.26e-01 | -2.53346 | 1.65769  | 9.93939  |\n",
      "|    11    | 2.45e-02 | 3.77034  | -1.52908 | 2.17833  |\n",
      "|    12    | 2.05e-02 | 2.89319  | 2.26761  | -1.17267 |\n",
      "|    13    | 1.59e-01 | 2.74974  | -1.99833 | -2.28836 |\n",
      "|    14    | 8.13e-02 | 4.98758  | 3.71811  | 4.80535  |\n",
      "|    15    | 1.62e-01 | 0.65189  | 8.84960  | -4.51519 |\n",
      "|    16    | 1.12e-01 | 2.16724  | 9.46986  | 2.50400  |\n",
      "|    17    | 1.50e-01 | 10.00000 | -4.27611 | 1.37020  |\n",
      "|    18    | 1.27e-01 | 6.39499  | 10.00000 | 8.79651  |\n",
      "|    19    | 1.09e-01 | 9.73657  | 8.23685  | 1.63580  |\n",
      "|    20    | 1.22e-01 | 10.00000 | 3.92981  | 9.53470  |\n",
      "|    21    | 1.26e-01 | 9.95797  | 1.69794  | 3.65818  |\n",
      "|    22    | 5.54e-01 | -5.03301 | 10.00000 | -9.22939 |\n",
      "|    23    | 7.41e-02 | 4.04092  | -8.94289 | 10.00000 |\n",
      "|    24    | 4.23e-02 | 9.88761  | -8.63527 | 9.61176  |\n",
      "|    25    | 6.65e-02 | 10.00000 | 10.00000 | -6.12683 |\n",
      "|    26    | 1.39e-01 | 10.00000 | 3.96283  | -4.88939 |\n",
      "|    27    | 1.02e-01 | 6.25797  | 10.00000 | -2.22263 |\n",
      "|    28    | 8.25e-02 | -1.86344 | 9.71969  | 9.74084  |\n",
      "|    29    | 1.92e+00 | 7.00786  | 6.70413  |-10.00000 |\n",
      "|    30    | 8.84e-02 | 10.00000 | 10.00000 | -2.95465 |\n",
      "|    31    | 1.30e-01 | 10.00000 | 3.62380  | -1.14275 |\n",
      "|    32    | 1.09e-01 | -4.20147 | 4.10999  | 9.93141  |\n",
      "|    33    | 6.66e-02 | 2.65484  | -7.26847 | 4.41493  |\n",
      "|    34    | 9.24e-02 | -2.36754 |-10.00000 | 10.00000 |\n",
      "|    35    | 1.15e-01 | 0.33832  | -5.13013 | 10.00000 |\n",
      "|    36    | 2.37e-01 | 10.00000 |-10.00000 | -2.82016 |\n",
      "|    37    | 1.34e-01 | -0.07360 | 9.68945  | -1.34445 |\n",
      "|    38    | 1.08e-01 | 1.98680  | 10.00000 | 10.00000 |\n",
      "|    39    | 1.21e-01 | 5.87339  | -0.78537 | 10.00000 |\n",
      "|    40    | 4.38e-02 | 4.93981  | -5.41618 | 7.28962  |\n",
      "|    41    | 7.69e-03 | 2.07666  | 0.30018  | 0.35680  |\n",
      "|    42    | 6.95e-02 | 4.70221  | 6.27881  | 0.40963  |\n",
      "|    43    | 2.13e-01 | 9.95178  | -1.70050 | -4.54025 |\n",
      "|    44    | 1.33e-01 | 9.98372  | 9.95777  | 6.87059  |\n",
      "|    45    | 5.42e-01 | 10.00000 |-10.00000 |-10.00000 |\n",
      "|    46    | 1.12e-01 | 6.16122  | 10.00000 | 3.89660  |\n",
      "|    47    | 1.45e-01 | 4.46064  |-10.00000 | 0.74752  |\n",
      "|    48    | 8.24e-02 | 10.00000 | -4.25772 | 10.00000 |\n",
      "|    49    | 1.13e-01 | -4.88982 | 0.69605  | 9.89894  |\n",
      "|    50    | 9.66e-02 | 0.19067  | -9.98058 | 5.65209  |\n",
      "|    51    | 6.28e-02 | 2.34933  | -1.74037 | 5.65504  |\n",
      "|    52    | 1.39e-01 | 0.04460  | 4.19602  | -2.77406 |\n",
      "|    53    | 3.14e-02 | 1.62779  | -4.15660 | 1.51942  |\n",
      "|    54    | 8.40e-01 |-10.00000 |-10.00000 |-10.00000 |\n",
      "|    55    | 1.16e-01 | 8.18585  | 6.18693  | 6.09452  |\n",
      "|    56    | 8.97e-02 | 4.78296  |-10.00000 | 6.49566  |\n",
      "|    57    | 8.25e-02 | 0.77307  |-10.00000 | 10.00000 |\n",
      "|    58    | 1.72e-01 |-10.00000 |-10.00000 | 10.00000 |\n",
      "|    59    | 5.20e-02 | 5.47722  | -5.13878 | 2.73866  |\n",
      "|    60    | 1.01e-01 | 1.37512  | 9.83450  | 6.72003  |\n",
      "|    61    | 8.12e-02 | 7.18444  | -6.45615 | 10.00000 |\n",
      "|    62    | 1.46e-01 | 10.00000 |-10.00000 | 1.99943  |\n",
      "|    63    | 1.22e-01 | 5.54145  | 5.16179  | 10.00000 |\n",
      "|    64    | 6.54e-02 | 6.05063  | -0.62246 | 5.38468  |\n",
      "|    65    | 2.90e-02 | 2.19117  | 3.67266  | 1.13403  |\n",
      "|    66    | 1.90e-01 | -2.56152 | 9.82353  | -4.11766 |\n",
      "|    67    | 1.04e-01 | 10.00000 | -0.00237 | 8.47460  |\n",
      "|    68    | 6.75e-02 | 9.87091  | -9.99545 | 7.43187  |\n",
      "|    69    | 8.80e-02 | 10.00000 | -6.72936 | 6.88349  |\n",
      "|    70    | 9.81e-02 | 9.97821  | 7.20796  | -3.39727 |\n",
      "|    71    | 1.28e-02 | 3.49180  | -4.04970 | 3.86622  |\n",
      "|    72    | 4.65e-02 | 7.60502  |-10.00000 | 10.00000 |\n",
      "|    73    | 1.40e-01 | 10.00000 | 8.99820  | 10.00000 |\n",
      "|    74    | 9.91e-03 | 1.36858  | -1.71618 | 0.83684  |\n",
      "|    75    | 1.20e-01 | -0.83302 |-10.00000 | 0.82253  |\n",
      "|    76    | 8.82e-02 | 3.03209  | 6.54915  | 5.93278  |\n",
      "|    77    | 4.52e-02 | 1.06895  | 1.28076  | -1.12757 |\n",
      "|    78    | 5.91e-02 | 4.92497  | 2.26593  | 0.90771  |\n",
      "|    79    | 8.35e-02 | 2.37517  | 6.52728  | -1.87826 |\n",
      "|    80    | 2.59e-02 | 2.34380  | 0.92598  | 3.23918  |\n",
      "|    81    | 9.72e-02 | -4.49199 |-10.00000 | 5.99290  |\n",
      "|    82    | 1.16e-01 | -6.27218 | -9.83037 | 9.62548  |\n",
      "|    83    | 4.95e-01 | -9.99086 | 9.97981  | -7.72438 |\n",
      "|    84    | 5.86e-02 | 0.23064  | -6.03277 | 6.51132  |\n",
      "|    85    | 6.25e-02 | 2.06165  | -7.07361 | 7.79690  |\n",
      "|    86    | 2.28e-03 | 1.65227  | -2.40603 | 3.08137  |\n",
      "|    87    | 1.35e-01 | 7.50350  | -0.72191 | -0.78809 |\n",
      "|    88    | 6.71e-02 | 0.14540  | -6.61452 | 3.24886  |\n",
      "|    89    | 4.59e-02 | 10.00000 |-10.00000 | 10.00000 |\n",
      "|    90    | 1.17e-01 | 3.76640  | 10.00000 | -0.60923 |\n",
      "|    91    | 1.68e-01 | 6.70827  | -6.24711 | -1.17781 |\n",
      "|    92    | 9.41e-04 | 1.26010  | -0.53332 | 1.93665  |\n",
      "|    93    | 3.19e-02 | 5.85472  | -3.70906 | 4.94469  |\n",
      "|    94    | 2.09e-02 | 1.61038  | -4.40749 | 4.57995  |\n",
      "|    95    | 7.97e-02 | 1.76978  | 3.08370  | 6.13650  |\n",
      "|    96    | 6.33e-02 | 5.95838  | 3.79672  | -2.27874 |\n",
      "|    97    | 2.56e-02 | 3.53163  | 3.49529  | -0.39546 |\n",
      "|    98    | 4.58e-02 | -6.28607 | 10.00000 | 10.00000 |\n",
      "|    99    | 1.01e-01 | -2.41542 |-10.00000 | 3.55763  |\n",
      "|   100    | 1.00e-01 | 7.11779  | 2.20821  | 7.63315  |\n",
      "|   101    | 2.92e-02 | 6.87648  | -7.83000 | 7.40531  |\n",
      "|   102    | 5.45e-01 |-10.00000 | 10.00000 | 10.00000 |\n",
      "|   103    | 6.43e-02 | -3.99935 | 9.99575  | 9.04151  |\n",
      "|   104    | 8.35e-02 | -1.93800 | -7.75852 | 8.40749  |\n",
      "|   105    | 3.01e-02 | 6.14501  | -6.37235 | 5.29265  |\n",
      "|   106    | 2.03e-03 | 1.47029  | 1.47724  | 1.11172  |\n",
      "|   107    | 5.91e-02 | -4.83328 | 9.84075  | 9.91660  |\n",
      "|   108    | 1.14e-01 | -4.50491 | 2.28597  | 10.00000 |\n",
      "|   109    | 1.03e-01 | -1.77193 | -1.05830 | 7.72337  |\n",
      "|   110    | 9.40e-02 | -1.96690 | 4.86254  | 8.45612  |\n",
      "|   111    | 1.10e-01 | -3.82891 | -3.78614 | 9.86772  |\n",
      "|   112    | 1.06e-01 | -0.77951 | 9.90322  | 4.76102  |\n",
      "|   113    | 1.00e+00 |-10.00000 | 2.58212  |-10.00000 |\n",
      "|   114    | 1.16e-01 | 1.67300  | -7.11800 | -0.29597 |\n",
      "|   115    | 2.05e-02 | 2.77791  | 1.83916  | 1.41210  |\n",
      "|   116    | 4.90e-03 | 2.42289  | -1.42252 | 2.92603  |\n",
      "|   117    | 9.67e-03 | 1.17499  | 0.00190  | 0.81679  |\n",
      "|   118    | 9.59e-02 | 7.26871  | 6.18552  | 2.57271  |\n",
      "|   119    | 6.98e-03 | 1.81591  | -1.67726 | 2.07777  |\n",
      "|   120    | 4.02e-02 | -0.04079 | -3.57322 | -0.42542 |\n",
      "|   121    | 1.70e-02 | 1.18291  | -1.23505 | 3.43336  |\n",
      "|   122    | 1.02e-01 | 7.42982  | -1.82849 | 3.21743  |\n",
      "|   123    | 1.54e-01 | 10.00000 | 1.57462  | -3.20444 |\n",
      "|   124    | 1.16e-02 | 0.31369  | -3.16094 | 2.03574  |\n",
      "|   125    | 1.28e-02 | 3.79616  | -2.67458 | 3.95348  |\n",
      "|   126    | 1.18e-01 | 9.95355  | 5.22579  | 4.11013  |\n",
      "|   127    | 7.70e-03 | 1.98473  | 2.33788  | -0.18396 |\n",
      "|   128    | 7.36e-02 | 7.19784  | 6.33976  | -1.23702 |\n",
      "|   129    | 1.58e-02 | 3.96670  | -4.98144 | 5.35854  |\n",
      "|   130    | 1.07e-01 | -2.28885 | 1.73238  | 8.15944  |\n",
      "|   131    | 8.18e-02 | -0.48716 | 8.03429  | 8.36122  |\n",
      "|   132    | 2.36e-03 | 1.85672  | 0.50965  | 1.37433  |\n",
      "|   133    | 8.89e-02 | -2.39153 |-10.00000 | 7.19820  |\n",
      "|   134    | 9.91e-02 | -4.93508 |-10.00000 | -0.12352 |\n",
      "|   135    | 4.28e-01 | -9.97845 | -9.96484 | 2.21872  |\n",
      "|   136    | 8.60e-02 | -1.78843 | -7.11951 | -0.03134 |\n",
      "|   137    | 1.23e-01 | -2.21661 | -9.95175 | -2.37277 |\n",
      "|   138    | 7.51e-02 | 9.70159  | 9.97007  | -4.68879 |\n",
      "|   139    | 5.84e-02 | 1.54702  | 5.32367  | 3.63642  |\n",
      "|   140    | 1.03e-01 | 6.86417  | 9.63118  | 0.77503  |\n",
      "|   141    | 6.56e-02 | 4.99514  | 1.94674  | -1.12726 |\n"
     ]
    },
    {
     "name": "stdout",
     "output_type": "stream",
     "text": [
      "|   142    | 2.05e-01 | 10.00000 | -5.44429 | -2.49807 |\n",
      "|   143    | 1.19e-01 | 10.00000 | 10.00000 | 3.22245  |\n",
      "|   144    | 4.55e-03 | 0.54379  | -2.11123 | 1.12593  |\n",
      "|   145    | 1.01e-01 | 6.98105  | -7.58710 | 2.49110  |\n",
      "|   146    | 1.16e-02 | 1.17158  | -3.84556 | 2.96357  |\n",
      "|   147    | 5.84e-02 | 7.49918  |-10.00000 | 7.90699  |\n",
      "|   148    | 6.94e-03 | 2.21587  | 1.29096  | 0.45922  |\n",
      "|   149    | 8.73e-02 | -1.27847 | -4.15136 | 7.54609  |\n",
      "|   150    | 3.26e-02 | 4.73931  | -7.26848 | 6.52937  |\n",
      "|   151    | 2.38e-02 | 1.64974  | 2.59445  | 2.61255  |\n",
      "|   152    | 3.57e-03 | 1.81310  | -0.27657 | 2.41508  |\n",
      "|   153    | 1.48e-01 | -1.21220 | 7.33933  | -2.79579 |\n",
      "|   154    | 7.87e-03 | 2.48419  | -2.74465 | 3.82886  |\n",
      "|   155    | 1.05e-01 | -4.54201 | -7.20169 | 10.00000 |\n",
      "|   156    | 9.98e-02 | 9.03902  | -1.34758 | 9.99288  |\n",
      "|   157    | 5.18e-02 | -0.07472 | -5.07705 | 1.32932  |\n",
      "|   158    | 2.04e-01 | 3.98935  | -9.96457 | -3.43630 |\n",
      "|   159    | 1.14e-03 | 0.95440  | -2.53326 | 2.20939  |\n",
      "|   160    | 3.55e-03 | 1.53902  | 0.71384  | 1.98697  |\n",
      "|   161    | 7.66e-02 | 6.21622  | -2.39522 | 7.77449  |\n",
      "|   162    | 6.35e-02 | 3.32431  | 4.78307  | 3.16479  |\n",
      "|   163    | 2.80e-02 | 1.78584  | 3.73024  | -0.81853 |\n",
      "|   164    | 2.06e-02 | 0.66029  | -1.46588 | -0.13622 |\n",
      "|   165    | 4.74e-02 | 4.73231  | -0.16209 | 3.25038  |\n",
      "|   166    | 7.49e-02 | 6.40484  | 4.25356  | -0.32511 |\n",
      "|   167    | 2.96e-03 | 0.91574  | -1.92223 | 1.80384  |\n",
      "|   168    | 9.71e-02 | -2.41943 | 7.07285  | 9.96169  |\n",
      "|   169    | 3.39e-02 | 7.05300  | -5.54288 | 7.23862  |\n",
      "|   170    | 7.75e-02 | 2.59895  |-10.00000 | 8.20574  |\n",
      "|   171    | 1.40e-02 | 0.90343  | -2.91096 | 3.74312  |\n",
      "|   172    | 1.10e-01 | 4.06700  | 1.49190  | 8.17760  |\n",
      "|   173    | 3.44e-02 | 4.23213  | 4.83767  | -1.48997 |\n",
      "|   174    | 1.87e-02 | 0.59038  | -3.05947 | 0.74879  |\n",
      "|   175    | 1.06e-02 | 2.75568  | -2.93947 | 3.03909  |\n",
      "|   176    | 1.11e-01 | -0.82807 | -6.59972 | -2.55378 |\n",
      "|   177    | 1.91e-02 | 3.93700  | -3.65663 | 5.16689  |\n",
      "|   178    | 8.78e-02 | -1.57033 | 10.00000 | 7.48299  |\n",
      "|   179    | 1.06e-03 | 1.62624  | -0.07632 | 1.61081  |\n",
      "|   180    | 3.39e-02 | 3.48199  | -0.21154 | 0.87082  |\n",
      "|   181    | 1.55e-03 | 1.20214  | -2.65296 | 2.69285  |\n",
      "|   182    | 3.62e-02 | 8.42477  | -7.72962 | 8.42605  |\n",
      "|   183    | 8.79e-02 | 8.24214  | -5.49109 | 4.56234  |\n",
      "|   184    | 9.99e-02 | -4.87985 | -9.94534 | 2.60691  |\n",
      "|   185    | 6.55e-03 | 1.79220  | 1.28523  | 1.67332  |\n",
      "|   186    | 2.17e-02 | 4.85425  | -4.82844 | 4.30920  |\n",
      "|   187    | 3.50e-03 | 1.21111  | 2.11848  | 0.91810  |\n",
      "|   188    | 7.79e-02 | -2.40278 | -7.43824 | 5.17664  |\n",
      "|   189    | 7.36e-03 | 1.78634  | 2.36998  | 0.48197  |\n",
      "|   190    | 1.20e-01 | 4.38054  | 8.06924  | 9.98460  |\n",
      "|   191    | 1.16e-01 | 10.00000 | 2.96504  | 6.53041  |\n",
      "|   192    | 1.21e-01 | -2.26084 | -2.06526 | 9.78338  |\n",
      "|   193    | 7.24e-02 | 0.95084  | 5.91581  | 0.83120  |\n",
      "|   194    | 2.47e-03 | 1.41773  | 1.56416  | 0.42325  |\n",
      "|   195    | 1.24e-01 | -1.62459 | 9.95889  | 1.62204  |\n",
      "|   196    | 4.77e-02 | -0.65322 | -5.21470 | 4.32977  |\n",
      "|   197    | 6.12e-02 | 10.00000 | -6.77424 | 10.00000 |\n",
      "|   198    | 1.55e-03 | 0.76903  | -2.01668 | 2.42474  |\n",
      "|   199    | 1.82e-03 | 1.11842  | -2.09167 | 2.80961  |\n",
      "|   200    | 2.30e-04 | 1.24961  | -0.03344 | 1.91492  |\n",
      "|   201    | 6.43e-04 | 1.45112  | 0.09800  | 1.91148  |\n",
      "|   202    | 4.28e-02 | 3.31194  | -5.56281 | 2.97151  |\n",
      "|   203    | 1.08e-01 | -3.11134 |-10.00000 | 0.21357  |\n",
      "|   204    | 7.13e-02 | 4.92771  | -3.13850 | 0.93401  |\n",
      "|   205    | 1.49e-01 | 0.60483  | -9.93486 | -2.26573 |\n",
      "|   206    | 1.22e-01 | 3.65759  | -4.04346 | 10.00000 |\n",
      "|   207    | 1.30e-01 | 7.89877  | 6.82564  | 9.97593  |\n",
      "|   208    | 1.25e-01 | 3.14239  | 10.00000 | -3.36255 |\n",
      "|   209    | 9.61e-02 | 7.31822  | 2.38995  | 4.40622  |\n",
      "|   210    | 9.65e-02 | -6.54493 | -9.97393 | -2.74721 |\n",
      "|   211    | 8.25e-02 | -4.95410 | -7.84698 | -3.26827 |\n",
      "|   212    | 2.14e-01 | -2.76088 | -3.96510 | -3.83594 |\n",
      "|   213    | 9.94e-02 | -4.82049 | -9.94341 | -3.75130 |\n",
      "|   214    | 8.17e-02 | -3.19844 | -7.30433 | -1.88873 |\n",
      "|   215    | 9.10e-05 | 0.99216  | 1.12237  | 1.33328  |\n",
      "|   216    | 2.21e-03 | 1.01008  | 1.36174  | 1.83906  |\n",
      "|   217    | 4.63e-02 | 2.44364  | -5.01195 | 6.43055  |\n",
      "|   218    | 3.97e-04 | 1.33898  | 0.82182  | 1.30623  |\n",
      "|   219    | 2.34e-02 | 3.20502  | -1.20636 | 4.07070  |\n",
      "|   220    | 6.54e-02 | 5.20262  | 6.96773  | -1.62993 |\n",
      "|   221    | 1.35e-03 | 1.27663  | 1.25921  | 1.47865  |\n",
      "|   222    | 7.54e-02 | 0.83067  | 6.38737  | 6.55930  |\n",
      "|   223    | 1.10e-01 | -3.43414 | 0.32310  | 8.88468  |\n",
      "|   224    | 1.32e-01 | 1.21297  | -0.48385 | 9.51466  |\n",
      "|   225    | 4.91e-02 | 5.88058  | -8.20180 | 9.05016  |\n",
      "|   226    | 3.25e-04 | 0.91850  | 0.29713  | 1.86140  |\n",
      "|   227    | 9.53e-03 | 0.95565  | 0.34997  | 2.72359  |\n",
      "|   228    | 1.02e-04 | 0.92833  | 0.99811  | 1.43153  |\n",
      "|   229    | 3.31e-03 | 0.75728  | -0.80614 | 1.84549  |\n",
      "|   230    | 1.54e-01 | -7.67239 | -6.17675 | 9.99425  |\n",
      "|   231    | 1.44e-01 | -7.61915 | -9.90070 | 7.36592  |\n",
      "|   232    | 7.20e-04 | 1.11626  | 0.50003  | 1.94141  |\n",
      "|   233    | 7.98e-03 | 2.55404  | -0.16045 | 1.93274  |\n",
      "|   234    | 3.70e-04 | 0.99895  | 0.77545  | 1.38572  |\n",
      "|   235    | 1.14e-01 | 9.80594  | -0.80260 | 5.77860  |\n",
      "|   236    | 8.89e-05 | 1.13281  | 0.54604  | 1.61465  |\n",
      "|   237    | 2.22e-02 | 5.58292  | -5.07143 | 5.87090  |\n",
      "|   238    | 9.82e-02 | 4.57025  | 8.05630  | 3.71290  |\n",
      "|   239    | 1.21e-01 | 9.89014  | 4.85197  | -3.34193 |\n",
      "|   240    | 3.25e-02 | 3.17005  | 3.46378  | -2.12685 |\n",
      "|   241    | 1.16e-01 | 7.54918  | 2.07340  | 9.95174  |\n",
      "|   242    | 1.50e-01 | 9.89877  | -0.60135 | -0.19168 |\n",
      "|   243    | 6.19e-04 | 1.07558  | 1.55466  | 1.13903  |\n",
      "|   244    | 1.73e-01 | 7.33627  |-10.00000 | -0.50463 |\n",
      "|   245    | 1.15e-01 | 5.65668  | 8.09486  | 7.17435  |\n",
      "|   246    | 8.85e-02 | 0.56226  | 7.74117  | 3.63076  |\n",
      "|   247    | 1.42e-03 | 0.92062  | -2.42020 | 2.46973  |\n",
      "|   248    | 8.03e-04 | 1.31296  | -0.63322 | 2.33009  |\n",
      "|   249    | 5.26e-03 | 2.05125  | -3.52033 | 3.46609  |\n",
      "|   250    | 3.54e-02 | 4.44494  | -6.43875 | 4.63184  |\n",
      "|   251    | 7.85e-04 | 1.32914  | -1.92826 | 2.66463  |\n",
      "|   252    | 9.10e-04 | 0.90399  | -1.37613 | 2.38694  |\n",
      "|   253    | 9.31e-02 | 0.65702  | -7.75566 | 9.97420  |\n",
      "|   254    | 1.10e-01 | 6.15574  | -9.98604 | 4.49184  |\n",
      "|   255    | 2.67e-01 | -6.90325 | 9.98459  | -3.84623 |\n",
      "|   256    | 6.21e-02 | 5.04642  | -9.96322 | 9.27618  |\n",
      "|   257    | 9.59e-04 | 1.23106  | 1.34187  | 0.82088  |\n",
      "|   258    | 6.38e-01 | 9.70664  | -3.42518 | -9.37598 |\n",
      "|   259    | 1.30e-01 | 9.97795  | 7.47164  | 7.57589  |\n",
      "|   260    | 3.09e-04 | 1.03134  | -0.04482 | 1.94175  |\n",
      "|   261    | 1.73e-02 | 2.77815  | -5.07699 | 4.40956  |\n",
      "|   262    | 6.56e-02 | 4.23392  | 1.21482  | 5.17290  |\n",
      "|   263    | 1.01e-02 | 0.77748  | 2.51025  | 0.07143  |\n",
      "|   264    | 2.14e-02 | 1.00051  | 3.49173  | 1.03842  |\n",
      "|   265    | 3.91e-04 | 0.66683  | 1.51224  | 1.48122  |\n",
      "|   266    | 1.06e-03 | 0.75799  | 0.89093  | 1.96732  |\n",
      "|   267    | 1.63e-03 | 0.84665  | -0.73440 | 2.33259  |\n",
      "|   268    | 1.79e-03 | 0.55351  | 2.03292  | 1.08023  |\n",
      "|   269    | 7.21e-04 | 0.61449  | 1.67842  | 1.19923  |\n",
      "|   270    | 1.41e-03 | 1.71551  | -1.31319 | 2.59516  |\n",
      "|   271    | 1.35e-02 | 0.42948  | 2.18869  | 2.98629  |\n",
      "|   272    | 3.84e-03 | 0.73132  | 1.97162  | 1.89334  |\n",
      "|   273    | 6.42e-05 | 0.95051  | 0.99812  | 1.45092  |\n",
      "|   274    | 4.22e-02 | 0.80335  | 1.54683  | 4.34058  |\n",
      "|   275    | 2.97e-04 | 0.88070  | 1.14920  | 1.27761  |\n",
      "|   276    | 4.66e-04 | 0.75154  | 0.66582  | 1.74923  |\n",
      "|   277    | 6.33e-04 | 1.39866  | -0.84388 | 2.19973  |\n",
      "|   278    | 4.03e-02 | 0.45539  | 3.52290  | 4.48601  |\n",
      "|   279    | 1.13e-01 | -4.84934 | -7.28171 | 7.36934  |\n",
      "|   280    | 3.42e-02 | 5.05256  | -3.14557 | 3.32710  |\n"
     ]
    }
   ],
   "source": [
    "res = Opt.minimize(log_accelerate=False)"
   ]
  },
  {
   "cell_type": "markdown",
   "id": "infrared-colony",
   "metadata": {},
   "source": [
    "note that we set ```log_accelerate=False```, using log scale during optimization can further improve efficiency. \n",
    "However, the log scale loss function will cause numercial problem for landscape prediction. If user wants to visualize the loss landscape, we recommand setting ```log_accelerate=False``` until the numerical issue being resolved in the future.\n",
    "\n",
    "---\n",
    "\n",
    "Visualizing the landscape is another benefit of the Bayesian optimizer. In short, a Gaussian process (GP) regression is used to fit the loss landscape, and predictions about mean and variance of loss at an unknown parameter point can be made by the GP.\n"
   ]
  },
  {
   "cell_type": "code",
   "execution_count": 9,
   "id": "tropical-hybrid",
   "metadata": {},
   "outputs": [
    {
     "name": "stderr",
     "output_type": "stream",
     "text": [
      "/Users/yusizhuo/GithubLocal/HamiltonianLearning/magen/visualize/plot_funcs_2d.py:92: UserWarning: Using log scale might cause numerical errors when the parameter space is not fully explored (Gaussian process might predict negative values\n",
      "  warnings.warn(warn_message)\n"
     ]
    },
    {
     "data": {
      "text/plain": [
       "(<Figure size 360x360 with 2 Axes>, <AxesSubplot:xlabel='Jx', ylabel='Jz'>)"
      ]
     },
     "execution_count": 9,
     "metadata": {},
     "output_type": "execute_result"
    },
    {
     "data": {
      "image/png": "[encoded data removed]",
      "text/plain": [
       "<Figure size 360x360 with 2 Axes>"
      ]
     },
     "metadata": {
      "needs_background": "light"
     },
     "output_type": "display_data"
    }
   ],
   "source": [
    "visualize.plot_funcs_2d.show_landscape(res,\n",
    "                                       plan_keys=['Jx', 'Jz'],\n",
    "#                                        fix_param={'Jy':1},\n",
    "#                                        itr=-1, \n",
    "                                       log_scale=True,\n",
    "                                      )"
   ]
  },
  {
   "cell_type": "markdown",
   "id": "perceived-expense",
   "metadata": {},
   "source": [
    "> ```itr``` default to be -1. Used to specify to check the landscape prediction at a given iteration\n",
    "\n",
    "> ```plan_keys``` two parameter names of the 2d parameter plan to visualize the landscape\n",
    "\n",
    "> ```fix_param``` if not specified, other parameters is set to their optimal values found during optimization. Can be specified using a dictionary"
   ]
  }
 ],
 "metadata": {
  "kernelspec": {
   "display_name": "Python 3",
   "language": "python",
   "name": "python3"
  },
  "language_info": {
   "codemirror_mode": {
    "name": "ipython",
    "version": 3
   },
   "file_extension": ".py",
   "mimetype": "text/x-python",
   "name": "python",
   "nbconvert_exporter": "python",
   "pygments_lexer": "ipython3",
   "version": "3.9.2"
  }
 },
 "nbformat": 4,
 "nbformat_minor": 5
}
